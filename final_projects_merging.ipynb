{
 "cells": [
  {
   "cell_type": "code",
   "execution_count": 3,
   "id": "55bf527f",
   "metadata": {},
   "outputs": [],
   "source": [
    "from warnings import filterwarnings\n",
    "import pickle\n",
    "import pandas as pd\n",
    "from sklearn.preprocessing import OneHotEncoder\n",
    "import gc\n",
    "from datetime import datetime as dt\n",
    "filterwarnings('ignore')"
   ]
  },
  {
   "cell_type": "code",
   "execution_count": null,
   "id": "ecd4c63b",
   "metadata": {},
   "outputs": [],
   "source": [
    "target_action = ['sub_car_claim_click', 'sub_car_claim_submit_click',\n",
    "'sub_open_dialog_click', 'sub_custom_question_submit_click',\n",
    "'sub_call_number_click', 'sub_callback_submit_click', 'sub_submit_success',\n",
    "'sub_car_request_submit_click']\n",
    "\n",
    "\n",
    "\n",
    "df = pd.DataFrame\n",
    "with open('D:\\\\Libraries\\\\Projects\\\\Skillbox.FinalProject\\\\data\\\\ga_sessions.pkl', 'rb') as f:\n",
    "    df = pickle.load(f)\n",
    "    \n",
    "with open('D:\\\\Libraries\\\\Projects\\\\Skillbox.FinalProject\\\\data\\\\ga_hits.pkl', 'rb') as f:\n",
    "    df_hits = pickle.load(f)    \n",
    "df_hits['event_action'] = df_hits['event_action'].fillna('no_action')\n",
    "df_hits['target_event'] = df_hits['event_action'].apply(lambda x: 1 if x in target_action else 0)\n",
    "\n",
    "df_hits['hit_page_path'] = df_hits.hit_page_path.str.split('cars', 1, expand=True)[1].str.split('?', 1, expand = True)[0]\n",
    "# df_hits['hit_page_path'].value_counts()\n",
    "\n",
    "df_target = df_hits[['session_id', 'target_event']].copy()\n",
    "# df_target = df_hits[['session_id', 'hit_page_path', 'target_event']].copy()\n",
    "\n",
    "df_target = df_target[~df_target.duplicated()]\n",
    "\n",
    "# print(f'count lines before merge: {df.shape[0]}')\n",
    "df = df.merge(df_target, on='session_id', how='inner')\n",
    "# df.hit_page_path = df.hit_page_path.fillna('without_car')\n",
    "# df.hit_page_path = df['hit_page_path'].apply(lambda a: 1 if a in ['without_car'] else 0)\n",
    "# del df_hits\n",
    "# del df_target\n",
    "# gc.collect()\n",
    "print(f\"shape after merge: {df.shape}\")\n",
    "df.to_csv(\"D:\\\\Libraries\\\\Projects\\\\Skillbox.FinalProject\\\\data\\\\stage#1.csv\")\n",
    "df.head()"
   ]
  },
  {
   "cell_type": "code",
   "execution_count": null,
   "id": "9fc10764",
   "metadata": {},
   "outputs": [],
   "source": []
  }
 ],
 "metadata": {
  "kernelspec": {
   "display_name": "Python 3 (ipykernel)",
   "language": "python",
   "name": "python3"
  },
  "language_info": {
   "codemirror_mode": {
    "name": "ipython",
    "version": 3
   },
   "file_extension": ".py",
   "mimetype": "text/x-python",
   "name": "python",
   "nbconvert_exporter": "python",
   "pygments_lexer": "ipython3",
   "version": "3.10.10"
  }
 },
 "nbformat": 4,
 "nbformat_minor": 5
}
