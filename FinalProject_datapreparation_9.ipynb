{
 "cells": [
  {
   "cell_type": "markdown",
   "id": "548b31a1",
   "metadata": {},
   "source": [
    "В данном блокноте удаляю дубликаты session_id, причём те, у которых target_event = 0"
   ]
  },
  {
   "cell_type": "code",
   "execution_count": 14,
   "id": "473a79aa",
   "metadata": {},
   "outputs": [],
   "source": [
    "import pandas as pd\n",
    "import numpy as np\n",
    "from sklearn.preprocessing import OneHotEncoder\n",
    "from warnings import filterwarnings\n",
    "import matplotlib.pyplot as plt\n",
    "plt.style.use('dark_background')\n",
    "\n",
    "filterwarnings('ignore')\n",
    "\n",
    "%store -r df\n",
    "\n",
    "# для этого датафрейма \n",
    "#df = df.sample(frac=1).reset_index(drop=True)\n",
    "#df = df.sample(n=50000).reset_index(drop=True)\n",
    "\n",
    "res = df[~((df.duplicated(['session_id'])) & (df['target_event']==0) )]\n",
    "# for col in res.columns:\n",
    "#     res[col] = res[col].fillna('unknown')"
   ]
  },
  {
   "cell_type": "code",
   "execution_count": null,
   "id": "da0153ed",
   "metadata": {},
   "outputs": [],
   "source": [
    "# def view_occupancy(df):\n",
    "#     length = len(df)\n",
    "#     dic = dict()\n",
    "#     for col in df.columns:\n",
    "#         percent_filled = (length-df[col].isna().sum())/length\n",
    "#         dic[col] = percent_filled\n",
    "\n",
    "#     dic = sorted(dic.items(), key=lambda x: x[1], reverse=True)\n",
    "#     for k, v in dic:\n",
    "#         print('{}: {:.4f}%'.format(k, v*100))"
   ]
  },
  {
   "cell_type": "code",
   "execution_count": null,
   "id": "3ed4b977",
   "metadata": {},
   "outputs": [],
   "source": [
    "# view_occupancy(res)"
   ]
  },
  {
   "cell_type": "code",
   "execution_count": null,
   "id": "ae994a50",
   "metadata": {},
   "outputs": [],
   "source": [
    "# def foo(col_name):\n",
    "#     df0 = res[res['target_event']==0].groupby([col_name]).agg({'target_event': 'count'}).rename(columns={'target_event': 'zeros'})\n",
    "#     df1 = res[res['target_event']==1].groupby([col_name]).agg({'target_event': 'count'}).rename(columns={'target_event': 'ones'})\n",
    "#     df_part = pd.merge(df0, df1, left_index=True, right_index=True, how='outer')\n",
    "#     df_part['zeros'] = df_part['zeros'].fillna(0).astype(int)\n",
    "#     df_part['ones'] = df_part['ones'].fillna(0).astype(int)\n",
    "#     df_part['part'] = df_part.apply(lambda a: round(a['ones']/a['zeros'], 4), axis=1)\n",
    "#     return df_part.drop(['zeros', 'ones'], axis=1)"
   ]
  },
  {
   "cell_type": "markdown",
   "id": "22c96265",
   "metadata": {},
   "source": [
    "## visit_date и visit_time\n",
    "здесь делаю некоторые манипуляции с датой и временем: смотрю сколько было целевых действий за месяц и за час - оказывается, час и месяц влияют на целевое действие"
   ]
  },
  {
   "cell_type": "code",
   "execution_count": 15,
   "id": "77e9e13d",
   "metadata": {},
   "outputs": [],
   "source": [
    "# def visit_hour(x):\n",
    "#     return h.loc[x]\n",
    "\n",
    "# def visit_month(x):\n",
    "#     return m.loc[x]\n",
    "\n",
    "# res['visit_time'] = pd.to_datetime(res['visit_time'])\n",
    "# res['hour'] = res['visit_time'].apply(lambda x: int(x.hour))\n",
    "\n",
    "res['visit_date'] = pd.to_datetime(res['visit_date'])\n",
    "res['month'] = res['visit_date'].apply(lambda x: int(x.month))\n",
    "\n",
    "# df_plt = res.groupby(['month'])['target_event'].mean().to_frame().reset_index()\n",
    "# df_plt.sort_values(by='target_event', ascending=False)\n",
    "\n",
    "# res['mh'] = res.apply(lambda x: '{}-{}'.format(x['month'],x['hour']), axis=1)\n",
    "# gr = res.groupby(['mh'])['target_event'].mean().to_frame().reset_index()\n",
    "# gr.sort_values(by='target_event', ascending=False).head(10)"
   ]
  },
  {
   "cell_type": "code",
   "execution_count": null,
   "id": "d383b183",
   "metadata": {},
   "outputs": [],
   "source": [
    "# def foo_month(x):\n",
    "#     try:\n",
    "#         return gr.loc[gr['mh']==x]['target_event'].item()\n",
    "#     except:\n",
    "#         return 0\n",
    "    \n",
    "\n",
    "# res['mon'] = res['mh'].apply(lambda b: foo_month(b) )\n",
    "# res = res.drop(['mh'], axis=1)"
   ]
  },
  {
   "cell_type": "code",
   "execution_count": null,
   "id": "124e30d6",
   "metadata": {},
   "outputs": [],
   "source": [
    "# # res = res.drop(['month', 'hour'], axis=1)\n",
    "# res[['mh', 'mon']].head(20)"
   ]
  },
  {
   "cell_type": "code",
   "execution_count": null,
   "id": "15477e9c",
   "metadata": {},
   "outputs": [],
   "source": [
    "# h = foo('visit_hour')\n",
    "# res['visit_hour'] = res['visit_hour'].apply(lambda h: visit_hour(h))\n",
    "\n",
    "# m = foo('visit_month')\n",
    "# res['visit_month'] = res['visit_month'].apply(lambda m: visit_month(m))\n",
    "\n",
    "# # res = res.drop(['visit_date', 'visit_time'], axis=1)"
   ]
  },
  {
   "cell_type": "code",
   "execution_count": null,
   "id": "667412ae",
   "metadata": {},
   "outputs": [],
   "source": [
    "# res[res['target_event']==0]['visit_month'].value_counts()"
   ]
  },
  {
   "cell_type": "markdown",
   "id": "0d316e7a",
   "metadata": {},
   "source": [
    "## UTM_*\n",
    "### utm_source"
   ]
  },
  {
   "cell_type": "code",
   "execution_count": 16,
   "id": "5c475f69",
   "metadata": {},
   "outputs": [],
   "source": [
    "source_features = ['QxAxdyPLuQMEcrdZWdWb', 'MvfHsxITijuriZxsqZqt', 'ISrKoXQCxqqYvAZICvjs', \n",
    "                   'IZEXUFLARCUMynmHNBGo', 'PlbkrSYoHuZBWfYjYnfw', 'gVRrcxiDQubJiljoTbGm']\n",
    "res['utm_source'] = res['utm_source'].fillna('0')"
   ]
  },
  {
   "cell_type": "code",
   "execution_count": 19,
   "id": "9c833303",
   "metadata": {},
   "outputs": [],
   "source": [
    "def foo_source(x):\n",
    "    if x in source_features:\n",
    "        return 2\n",
    "    elif x == '0':\n",
    "        return 0\n",
    "    else:\n",
    "        return 1\n",
    "    return 0\n",
    "# res['utm_source'] = res['utm_source'].apply(lambda x: 2 if x in source_features 1).astype(np.int8)\n",
    "res['utm_source'] = res['utm_source'].apply(lambda x: foo_source(x))"
   ]
  },
  {
   "cell_type": "markdown",
   "id": "16a54ba3",
   "metadata": {},
   "source": [
    "### utm_keyword"
   ]
  },
  {
   "cell_type": "code",
   "execution_count": 4,
   "id": "fb65cf3b",
   "metadata": {},
   "outputs": [],
   "source": [
    "res['utm_keyword'] = res.utm_keyword.fillna('0')\n",
    "res['utm_keyword'] = res['utm_keyword'].apply(lambda a: 0 if a == '0' else 1).astype(np.int8)"
   ]
  },
  {
   "cell_type": "markdown",
   "id": "7bf1d220",
   "metadata": {},
   "source": [
    "### utm_medium"
   ]
  },
  {
   "cell_type": "code",
   "execution_count": 21,
   "id": "a99e506c",
   "metadata": {},
   "outputs": [],
   "source": [
    "utm_medium_type = ['organic', 'referral', '(none)']\n",
    "\n",
    "def foo_medium(x):\n",
    "    if x in utm_medium_type:\n",
    "        return 2\n",
    "    elif x == '0':\n",
    "        return 0\n",
    "    else:\n",
    "        return 1\n",
    "\n",
    "# res['utm_medium_type'] = res['utm_medium'].apply(lambda x: 'organic' if x in ['organic', 'referral', '(none)'] else 'paid_traffic')\n",
    "# res['utm_medium'] = res['utm_medium'].apply(lambda x: 2 if x in utm_medium_type else 1)\n",
    "res['utm_medium'] = res['utm_medium'].apply(lambda x: foo_medium(x))"
   ]
  },
  {
   "cell_type": "markdown",
   "id": "9d5cce96",
   "metadata": {},
   "source": [
    "### utm_adcontent"
   ]
  },
  {
   "cell_type": "code",
   "execution_count": null,
   "id": "0e51fc1c",
   "metadata": {},
   "outputs": [],
   "source": [
    "# def utm_adcontent(x):\n",
    "#     return adcontent.loc[x]\n",
    "# # \n",
    "# adcontent = foo('utm_adcontent')\n",
    "# res['utm_adcontent'] = res['utm_adcontent'].apply(lambda y: utm_adcontent(y))"
   ]
  },
  {
   "cell_type": "markdown",
   "id": "4f4d5170",
   "metadata": {},
   "source": [
    "### utm_campaign"
   ]
  },
  {
   "cell_type": "code",
   "execution_count": 5,
   "id": "7d1c6c08",
   "metadata": {},
   "outputs": [],
   "source": [
    "res['utm_campaign'] = res['utm_campaign'].fillna('0')\n",
    "\n",
    "res['utm_campaign'] = res['utm_campaign'].apply(lambda a: 0 if a == '0' else 1).astype(np.int8)\n",
    "# res = res.drop(['session_id', 'client_id', 'device_model', 'visit_number', 'utm_keyword'], axis=1)\n",
    "# res.head()"
   ]
  },
  {
   "cell_type": "markdown",
   "id": "7cdbd324",
   "metadata": {},
   "source": [
    "## DEVICE_*"
   ]
  },
  {
   "cell_type": "markdown",
   "id": "758f9e0d",
   "metadata": {},
   "source": [
    "### device_category"
   ]
  },
  {
   "cell_type": "markdown",
   "id": "241386cf",
   "metadata": {},
   "source": [
    "device_category - 3 категории, пропусков нет. Из преобразований - будет последующее onehot-кодирование"
   ]
  },
  {
   "cell_type": "markdown",
   "id": "de3ef72b",
   "metadata": {},
   "source": [
    "### device_os, device_brand, device_browser"
   ]
  },
  {
   "cell_type": "markdown",
   "id": "7c74d661",
   "metadata": {},
   "source": [
    "восстановим ОС из других значений device_*"
   ]
  },
  {
   "cell_type": "code",
   "execution_count": null,
   "id": "73421ad5",
   "metadata": {},
   "outputs": [],
   "source": [
    "# best_brands = ['Samsung', 'Xiaomi', 'Huawei', 'POCO']\n",
    "\n",
    "# dev_types = ['mobile', 'tablet']\n",
    "\n",
    "# android_brands = ['Xiaomi', 'Samsung', 'Huawei', 'Vivo', 'LG',\n",
    "#        'BQ', 'OnePlus', 'itel', 'Asus', 'Sony', 'Android', 'OPPO',\n",
    "#        'Nokia', 'Realme', 'Alcatel', 'Infinix', 'Micromax', 'Blackview',\n",
    "#        'Oukitel', 'ZTE', 'Motorola', 'HOMTOM', 'Google', 'Lenovo',\n",
    "#        'China Phone', 'Neffos', 'Tecno', 'DOOGEE', 'Vsmart', 'Meizu', 'Umidigi', 'Leagoo', 'Highscreen', 'Ulefone', 'HTC',\n",
    "#        'Cubot', 'Symphony', 'Vestel', 'Guophone', 'Wileyfox', 'Vertex',\n",
    "#        'POCO', 'TCL', 'SonyEricsson', 'Nomu', 'Prestigio',\n",
    "#        'Philips', 'LeEco', 'DEXP', 'Hisense', 'Vernee', 'Tele2', 'CAT',\n",
    "#        'H96', 'Kyocera', 'Inoi', 'Acer', 'Kingplay', 'Sharp',\n",
    "#        'MTC', 'iNew', 'Karbonn', 'Wiko', 'Gionee', 'Digma',\n",
    "#        'Yota Devices', 'Kata', 'Poptel', 'Flylion', 'AGM', 'Teclast',\n",
    "#        'Fly', 'MLS', 'LeTV', 'Nuu', 'Celkon', 'Chuwi', 'Walton',\n",
    "#        'Haier', 'Coolpad', 'Xiaolajiao', 'Lava', 'General Mobile',\n",
    "#        'Black Fox', 'Condor', 'Razer', 'Microsoft', 'Fujitsu',\n",
    "#        'Alldocube', 'ZOJI', 'Amazon', 'PPTV', 'Jiake', 'Mito', 'Oysters',\n",
    "#        'NOA', 'Caterpillar', 'SenseIT', 'Verizon', 'Komu', 'BLU', 'RCA',\n",
    "#        'Cube', 'AT&T', 'Tonbux', 'Dark', 'Elephone', 'T-Mobile',\n",
    "#        'Smartfren', 'Billion', 'Gome', 'A1', 'MTS', 'Geotel', 'BLUBOO',\n",
    "#        'Ananda', 'MediaTek', 'KingSing', 'Ark', 'Essential',\n",
    "#        'Dragon Touch', 'E&L', 'Fero',  'Wigor', 'Tanix',\n",
    "#        'Mlais', 'InFocus', 'Smartisan', 'Beelink', 'Unihertz', 'Orbic',\n",
    "#        'Honeywell', 'Archos', 'RED', 'Sonim', 'Jiayu', 'Evertek',\n",
    "#        'Leegoog', 'QMobile', 'INUI', 'Artel', 'Irbis', 'China Mobile',\n",
    "#        'Flexymove', 'Olla', 'Krip', 'Star', 'UMI', 'Iris', 'Ellipsis',\n",
    "#        'LTC', 'Motive', 'Advan', 'M-HORSE', 'Winnovo', 'ThL', 'Nomi',\n",
    "#        'Wings Mobile', 'MXQ', 'How', 'Centric', 'Maze', 'Corn',\n",
    "#        'China TVBox', 'Gretel', 'Vertu', 'Evercoss', 'teXet', 'Qbex',\n",
    "#        'Panasonic', 'Tagital', 'Dell', 'Maxvi']"
   ]
  },
  {
   "cell_type": "markdown",
   "id": "eaa1b016",
   "metadata": {},
   "source": [
    "device_brand преобразуем в три категории: Apple - 3, Samsung, Xiaomi, Huawei и Poco - 2, остальные бренды - 1\n",
    "признак device_browser отбросим - "
   ]
  },
  {
   "cell_type": "code",
   "execution_count": null,
   "id": "a5c7edde",
   "metadata": {},
   "outputs": [],
   "source": [
    "def foo_browser(x):\n",
    "    t = 0\n",
    "    if x in ['Chrome', 'Safari', 'YaBrowser']:\n",
    "        t = 2\n",
    "    elif x in ['Safari (in-app)', 'Android Webview', 'Samsung Internet']:\n",
    "        t = 1\n",
    "    else:\n",
    "        t = 0\n",
    "    return t\n",
    "\n",
    "res['cat_browser'] = res['device_browser'].apply(lambda x: foo_browser(x))"
   ]
  },
  {
   "cell_type": "code",
   "execution_count": 6,
   "id": "18b3bc04",
   "metadata": {},
   "outputs": [],
   "source": [
    "res['device_brand'] = res['device_brand'].fillna('other')\n",
    "res['device_brand'] = res['device_brand'].apply(lambda a: 1 if a != 'Apple' else 0)"
   ]
  },
  {
   "cell_type": "code",
   "execution_count": 7,
   "id": "7ad4f7d0",
   "metadata": {},
   "outputs": [
    {
     "data": {
      "text/html": [
       "<div>\n",
       "<style scoped>\n",
       "    .dataframe tbody tr th:only-of-type {\n",
       "        vertical-align: middle;\n",
       "    }\n",
       "\n",
       "    .dataframe tbody tr th {\n",
       "        vertical-align: top;\n",
       "    }\n",
       "\n",
       "    .dataframe thead th {\n",
       "        text-align: right;\n",
       "    }\n",
       "</style>\n",
       "<table border=\"1\" class=\"dataframe\">\n",
       "  <thead>\n",
       "    <tr style=\"text-align: right;\">\n",
       "      <th></th>\n",
       "      <th>utm_source</th>\n",
       "      <th>utm_medium</th>\n",
       "      <th>utm_campaign</th>\n",
       "      <th>utm_keyword</th>\n",
       "      <th>device_category</th>\n",
       "      <th>device_brand</th>\n",
       "      <th>geo_country</th>\n",
       "      <th>geo_city</th>\n",
       "      <th>target_event</th>\n",
       "      <th>month</th>\n",
       "    </tr>\n",
       "  </thead>\n",
       "  <tbody>\n",
       "    <tr>\n",
       "      <th>0</th>\n",
       "      <td>0</td>\n",
       "      <td>banner</td>\n",
       "      <td>1</td>\n",
       "      <td>1</td>\n",
       "      <td>mobile</td>\n",
       "      <td>1</td>\n",
       "      <td>Russia</td>\n",
       "      <td>Zlatoust</td>\n",
       "      <td>0</td>\n",
       "      <td>11</td>\n",
       "    </tr>\n",
       "    <tr>\n",
       "      <th>1</th>\n",
       "      <td>1</td>\n",
       "      <td>cpm</td>\n",
       "      <td>1</td>\n",
       "      <td>1</td>\n",
       "      <td>mobile</td>\n",
       "      <td>1</td>\n",
       "      <td>Russia</td>\n",
       "      <td>Moscow</td>\n",
       "      <td>0</td>\n",
       "      <td>11</td>\n",
       "    </tr>\n",
       "    <tr>\n",
       "      <th>2</th>\n",
       "      <td>0</td>\n",
       "      <td>banner</td>\n",
       "      <td>1</td>\n",
       "      <td>1</td>\n",
       "      <td>mobile</td>\n",
       "      <td>1</td>\n",
       "      <td>Russia</td>\n",
       "      <td>Krasnoyarsk</td>\n",
       "      <td>0</td>\n",
       "      <td>12</td>\n",
       "    </tr>\n",
       "    <tr>\n",
       "      <th>4</th>\n",
       "      <td>0</td>\n",
       "      <td>cpc</td>\n",
       "      <td>0</td>\n",
       "      <td>0</td>\n",
       "      <td>mobile</td>\n",
       "      <td>1</td>\n",
       "      <td>Russia</td>\n",
       "      <td>Moscow</td>\n",
       "      <td>0</td>\n",
       "      <td>5</td>\n",
       "    </tr>\n",
       "    <tr>\n",
       "      <th>5</th>\n",
       "      <td>0</td>\n",
       "      <td>cpc</td>\n",
       "      <td>0</td>\n",
       "      <td>0</td>\n",
       "      <td>mobile</td>\n",
       "      <td>1</td>\n",
       "      <td>Russia</td>\n",
       "      <td>Moscow</td>\n",
       "      <td>0</td>\n",
       "      <td>5</td>\n",
       "    </tr>\n",
       "  </tbody>\n",
       "</table>\n",
       "</div>"
      ],
      "text/plain": [
       "   utm_source utm_medium  utm_campaign  utm_keyword device_category  \\\n",
       "0           0     banner             1            1          mobile   \n",
       "1           1        cpm             1            1          mobile   \n",
       "2           0     banner             1            1          mobile   \n",
       "4           0        cpc             0            0          mobile   \n",
       "5           0        cpc             0            0          mobile   \n",
       "\n",
       "   device_brand geo_country     geo_city  target_event  month  \n",
       "0             1      Russia     Zlatoust             0     11  \n",
       "1             1      Russia       Moscow             0     11  \n",
       "2             1      Russia  Krasnoyarsk             0     12  \n",
       "4             1      Russia       Moscow             0      5  \n",
       "5             1      Russia       Moscow             0      5  "
      ]
     },
     "execution_count": 7,
     "metadata": {},
     "output_type": "execute_result"
    }
   ],
   "source": [
    "columns_drop = ['device_model', 'device_os', 'utm_adcontent', 'device_browser', \n",
    "                'device_os', 'visit_date', 'visit_time', 'visit_number', 'client_id','session_id',\n",
    "                'device_screen_resolution']\n",
    "res = res.drop(columns_drop, axis = 1)\n",
    "res = res.drop(['hit_page_path'], axis=1)\n",
    "# res.head()"
   ]
  },
  {
   "cell_type": "code",
   "execution_count": null,
   "id": "1aa13d99",
   "metadata": {},
   "outputs": [],
   "source": [
    "# df_plt = res.groupby(['month'])['target_event'].mean().to_frame().reset_index()\n",
    "# df_plt.head()"
   ]
  },
  {
   "cell_type": "code",
   "execution_count": null,
   "id": "9d9f6c51",
   "metadata": {},
   "outputs": [],
   "source": [
    "# plt.figure(figsize=(10,7))\n",
    "# plt.scatter(df_plt['month'], df_plt['target_event'])\n",
    "# plt.title(\"Зависимость целевого действия от месяца\")\n",
    "# plt.xlabel('Месяц')\n",
    "# plt.ylabel('Целевое действие')\n",
    "\n",
    "# plt.show();"
   ]
  },
  {
   "cell_type": "code",
   "execution_count": null,
   "id": "1c4d7ccc",
   "metadata": {},
   "outputs": [],
   "source": [
    "# df_plt = res.groupby(['utm_source'])['target_event'].mean().to_frame().reset_index()\n",
    "\n",
    "# plt.figure()\n",
    "# plt.scatter(df_plt['utm_source'], df_plt['target_event'])\n",
    "# plt.title(\"Зависимость целевого действия от использования соцсетей\")\n",
    "# plt.xlabel('Использование соцсетей')\n",
    "# plt.ylabel('Целевое действие')\n",
    "\n",
    "# plt.show();"
   ]
  },
  {
   "cell_type": "code",
   "execution_count": null,
   "id": "e96aae8e",
   "metadata": {},
   "outputs": [],
   "source": [
    "# df_plt = res.groupby(['utm_medium'])['target_event'].mean().to_frame().reset_index()\n",
    "# df_plt.head()"
   ]
  },
  {
   "cell_type": "code",
   "execution_count": null,
   "id": "1c50e93f",
   "metadata": {},
   "outputs": [],
   "source": [
    "# plt.figure()\n",
    "# plt.scatter(df_plt['utm_medium'], df_plt['target_event'])\n",
    "# plt.title(\"Зависимость целевого действия от использования оргтрафика\")\n",
    "# plt.xlabel('Использование оргтрафика')\n",
    "# plt.ylabel('Целевое действие')\n",
    "\n",
    "# plt.show()"
   ]
  },
  {
   "cell_type": "code",
   "execution_count": null,
   "id": "053ff0d4",
   "metadata": {},
   "outputs": [],
   "source": [
    "# df_plt = res.groupby(['device_category'])['target_event'].mean().to_frame().reset_index()\n",
    "# df_plt.head()"
   ]
  },
  {
   "cell_type": "code",
   "execution_count": null,
   "id": "ab86268f",
   "metadata": {},
   "outputs": [],
   "source": [
    "# plt.figure()\n",
    "# plt.scatter(df_plt['device_category'], df_plt['target_event'])\n",
    "# plt.title(\"Зависимость целевого действия от типа устройства\")\n",
    "# plt.xlabel('Тип устройства')\n",
    "# plt.ylabel('Целевое действие')\n",
    "\n",
    "# plt.show()"
   ]
  },
  {
   "cell_type": "code",
   "execution_count": null,
   "id": "4e299f7f",
   "metadata": {},
   "outputs": [],
   "source": [
    "# df_plt = res.groupby(['device_brand'])['target_event'].mean().to_frame().reset_index()\n",
    "# df_plt.head()"
   ]
  },
  {
   "cell_type": "code",
   "execution_count": null,
   "id": "3064171e",
   "metadata": {},
   "outputs": [],
   "source": [
    "# plt.figure()\n",
    "# plt.scatter(df_plt['device_brand'], df_plt['target_event'])\n",
    "# plt.title(\"Зависимость целевого действия от бренда\")\n",
    "# plt.xlabel('Бренд')\n",
    "# plt.ylabel('Целевое действие')\n",
    "\n",
    "# plt.show()"
   ]
  },
  {
   "cell_type": "code",
   "execution_count": null,
   "id": "3b7cf060",
   "metadata": {},
   "outputs": [],
   "source": [
    "# res = res.drop(['utm_campaign'], axis=1)\n",
    "# res.head()"
   ]
  },
  {
   "cell_type": "markdown",
   "id": "6114b95c",
   "metadata": {},
   "source": [
    "## GEO_*\n",
    "### geo_country"
   ]
  },
  {
   "cell_type": "code",
   "execution_count": null,
   "id": "deabc53d",
   "metadata": {},
   "outputs": [],
   "source": [
    "# res['is_rus'] = res['geo_country'].apply(lambda x: 1 if x=='Russia' else 0)\n",
    "# res = res.drop(['geo_country'], axis=1)"
   ]
  },
  {
   "cell_type": "markdown",
   "id": "53586811",
   "metadata": {},
   "source": [
    "### geo_city"
   ]
  },
  {
   "cell_type": "code",
   "execution_count": null,
   "id": "d39d87e7",
   "metadata": {},
   "outputs": [],
   "source": [
    "# df_plt = res.groupby(['geo_city'])['target_event'].mean().to_frame().reset_index()\n",
    "# df_plt.sort_values(by=['target_event'], ascending=False).head()"
   ]
  },
  {
   "cell_type": "code",
   "execution_count": null,
   "id": "542087e6",
   "metadata": {},
   "outputs": [],
   "source": [
    "# df_plt[(df_plt['geo_city'] == 'Moscow') | (df_plt['geo_city'] == 'Saint Petersburg')]"
   ]
  },
  {
   "cell_type": "code",
   "execution_count": null,
   "id": "185eca77",
   "metadata": {},
   "outputs": [],
   "source": [
    "# view_occupancy(res)"
   ]
  },
  {
   "cell_type": "code",
   "execution_count": 8,
   "id": "f1611278",
   "metadata": {},
   "outputs": [],
   "source": [
    "res['geo_city'] = res['geo_city'].apply(lambda a: 1 if a in ['Moscow', 'Saint Petersburg'] else 0)"
   ]
  },
  {
   "cell_type": "code",
   "execution_count": null,
   "id": "2eb9fc08",
   "metadata": {},
   "outputs": [],
   "source": [
    "# res = res.drop(['geo_city'], axis=1)\n",
    "# res.head()"
   ]
  },
  {
   "cell_type": "code",
   "execution_count": null,
   "id": "7350c733",
   "metadata": {},
   "outputs": [],
   "source": []
  },
  {
   "cell_type": "code",
   "execution_count": 9,
   "id": "71c78927",
   "metadata": {},
   "outputs": [
    {
     "name": "stdout",
     "output_type": "stream",
     "text": [
      "['utm_medium', 'device_category', 'geo_country']\n"
     ]
    },
    {
     "data": {
      "text/html": [
       "<div>\n",
       "<style scoped>\n",
       "    .dataframe tbody tr th:only-of-type {\n",
       "        vertical-align: middle;\n",
       "    }\n",
       "\n",
       "    .dataframe tbody tr th {\n",
       "        vertical-align: top;\n",
       "    }\n",
       "\n",
       "    .dataframe thead th {\n",
       "        text-align: right;\n",
       "    }\n",
       "</style>\n",
       "<table border=\"1\" class=\"dataframe\">\n",
       "  <thead>\n",
       "    <tr style=\"text-align: right;\">\n",
       "      <th></th>\n",
       "      <th>utm_source</th>\n",
       "      <th>utm_medium</th>\n",
       "      <th>utm_campaign</th>\n",
       "      <th>utm_keyword</th>\n",
       "      <th>device_category</th>\n",
       "      <th>device_brand</th>\n",
       "      <th>geo_country</th>\n",
       "      <th>geo_city</th>\n",
       "      <th>target_event</th>\n",
       "      <th>month</th>\n",
       "    </tr>\n",
       "  </thead>\n",
       "  <tbody>\n",
       "    <tr>\n",
       "      <th>0</th>\n",
       "      <td>0</td>\n",
       "      <td>banner</td>\n",
       "      <td>1</td>\n",
       "      <td>0</td>\n",
       "      <td>mobile</td>\n",
       "      <td>1</td>\n",
       "      <td>Russia</td>\n",
       "      <td>0</td>\n",
       "      <td>0</td>\n",
       "      <td>10</td>\n",
       "    </tr>\n",
       "    <tr>\n",
       "      <th>1</th>\n",
       "      <td>0</td>\n",
       "      <td>banner</td>\n",
       "      <td>1</td>\n",
       "      <td>1</td>\n",
       "      <td>mobile</td>\n",
       "      <td>1</td>\n",
       "      <td>Russia</td>\n",
       "      <td>1</td>\n",
       "      <td>0</td>\n",
       "      <td>12</td>\n",
       "    </tr>\n",
       "    <tr>\n",
       "      <th>2</th>\n",
       "      <td>0</td>\n",
       "      <td>banner</td>\n",
       "      <td>1</td>\n",
       "      <td>0</td>\n",
       "      <td>mobile</td>\n",
       "      <td>1</td>\n",
       "      <td>Russia</td>\n",
       "      <td>1</td>\n",
       "      <td>0</td>\n",
       "      <td>10</td>\n",
       "    </tr>\n",
       "    <tr>\n",
       "      <th>3</th>\n",
       "      <td>0</td>\n",
       "      <td>referral</td>\n",
       "      <td>1</td>\n",
       "      <td>0</td>\n",
       "      <td>mobile</td>\n",
       "      <td>0</td>\n",
       "      <td>Russia</td>\n",
       "      <td>1</td>\n",
       "      <td>0</td>\n",
       "      <td>9</td>\n",
       "    </tr>\n",
       "    <tr>\n",
       "      <th>4</th>\n",
       "      <td>0</td>\n",
       "      <td>cpc</td>\n",
       "      <td>1</td>\n",
       "      <td>1</td>\n",
       "      <td>mobile</td>\n",
       "      <td>0</td>\n",
       "      <td>Russia</td>\n",
       "      <td>1</td>\n",
       "      <td>0</td>\n",
       "      <td>11</td>\n",
       "    </tr>\n",
       "  </tbody>\n",
       "</table>\n",
       "</div>"
      ],
      "text/plain": [
       "   utm_source utm_medium  utm_campaign  utm_keyword device_category  \\\n",
       "0           0     banner             1            0          mobile   \n",
       "1           0     banner             1            1          mobile   \n",
       "2           0     banner             1            0          mobile   \n",
       "3           0   referral             1            0          mobile   \n",
       "4           0        cpc             1            1          mobile   \n",
       "\n",
       "   device_brand geo_country  geo_city  target_event  month  \n",
       "0             1      Russia         0             0     10  \n",
       "1             1      Russia         1             0     12  \n",
       "2             1      Russia         1             0     10  \n",
       "3             0      Russia         1             0      9  \n",
       "4             0      Russia         1             0     11  "
      ]
     },
     "execution_count": 9,
     "metadata": {},
     "output_type": "execute_result"
    }
   ],
   "source": [
    "# res = res.sample(frac=1).reset_index(drop=True)\n",
    "res = res.sample(n=200000).reset_index(drop=True)\n",
    "\n",
    "cols_for_ohe = res.select_dtypes(include=['string', 'object', 'bool']).columns.tolist()\n",
    "# print(cols_for_ohe)\n",
    "# res.head()"
   ]
  },
  {
   "cell_type": "code",
   "execution_count": 10,
   "id": "a6b19b59",
   "metadata": {},
   "outputs": [
    {
     "name": "stdout",
     "output_type": "stream",
     "text": [
      "Stored 'df_ohed' (DataFrame)\n"
     ]
    }
   ],
   "source": [
    "ohe = OneHotEncoder(sparse=False, drop='first')\n",
    "\n",
    "ohe.fit(res[cols_for_ohe])\n",
    "transformed = ohe.transform(res[cols_for_ohe])\n",
    "res[ohe.get_feature_names_out()] = transformed\n",
    "df_ohed = res.drop(cols_for_ohe, axis=1)\n",
    "\n",
    "%store df_ohed"
   ]
  }
 ],
 "metadata": {
  "kernelspec": {
   "display_name": "Python 3 (ipykernel)",
   "language": "python",
   "name": "python3"
  },
  "language_info": {
   "codemirror_mode": {
    "name": "ipython",
    "version": 3
   },
   "file_extension": ".py",
   "mimetype": "text/x-python",
   "name": "python",
   "nbconvert_exporter": "python",
   "pygments_lexer": "ipython3",
   "version": "3.10.10"
  }
 },
 "nbformat": 4,
 "nbformat_minor": 5
}
