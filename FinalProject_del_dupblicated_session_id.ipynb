{
 "cells": [
  {
   "cell_type": "code",
   "execution_count": 33,
   "id": "623198d3",
   "metadata": {},
   "outputs": [],
   "source": [
    "import pandas as pd\n",
    "%store -r df"
   ]
  },
  {
   "cell_type": "code",
   "execution_count": 34,
   "id": "bf60dfb2",
   "metadata": {},
   "outputs": [
    {
     "name": "stdout",
     "output_type": "stream",
     "text": [
      "(1781974, 19)\n"
     ]
    }
   ],
   "source": [
    "print(df.shape)\n",
    "df_tmp = df.copy()"
   ]
  },
  {
   "cell_type": "code",
   "execution_count": 31,
   "id": "e1cc4e66",
   "metadata": {},
   "outputs": [
    {
     "name": "stdout",
     "output_type": "stream",
     "text": [
      "(49708, 19)\n"
     ]
    },
    {
     "data": {
      "text/html": [
       "<div>\n",
       "<style scoped>\n",
       "    .dataframe tbody tr th:only-of-type {\n",
       "        vertical-align: middle;\n",
       "    }\n",
       "\n",
       "    .dataframe tbody tr th {\n",
       "        vertical-align: top;\n",
       "    }\n",
       "\n",
       "    .dataframe thead th {\n",
       "        text-align: right;\n",
       "    }\n",
       "</style>\n",
       "<table border=\"1\" class=\"dataframe\">\n",
       "  <thead>\n",
       "    <tr style=\"text-align: right;\">\n",
       "      <th></th>\n",
       "      <th>session_id</th>\n",
       "      <th>target_event</th>\n",
       "    </tr>\n",
       "  </thead>\n",
       "  <tbody>\n",
       "    <tr>\n",
       "      <th>70</th>\n",
       "      <td>9055768928391199041.1623652678.1623652678</td>\n",
       "      <td>1</td>\n",
       "    </tr>\n",
       "    <tr>\n",
       "      <th>75</th>\n",
       "      <td>9055789093275396095.1636395007.1636395007</td>\n",
       "      <td>1</td>\n",
       "    </tr>\n",
       "    <tr>\n",
       "      <th>79</th>\n",
       "      <td>9055794766915104430.1624305327.1624305327</td>\n",
       "      <td>1</td>\n",
       "    </tr>\n",
       "    <tr>\n",
       "      <th>131</th>\n",
       "      <td>9056028189803556573.1630154471.1630154471</td>\n",
       "      <td>1</td>\n",
       "    </tr>\n",
       "    <tr>\n",
       "      <th>140</th>\n",
       "      <td>9056093322981390023.1628944098.1628944098</td>\n",
       "      <td>1</td>\n",
       "    </tr>\n",
       "    <tr>\n",
       "      <th>146</th>\n",
       "      <td>9056100040321437002.1640140105.1640140105</td>\n",
       "      <td>1</td>\n",
       "    </tr>\n",
       "    <tr>\n",
       "      <th>156</th>\n",
       "      <td>9056158125457201967.1638193974.1638193974</td>\n",
       "      <td>1</td>\n",
       "    </tr>\n",
       "    <tr>\n",
       "      <th>252</th>\n",
       "      <td>9056607924483613657.1624597468.1624597468</td>\n",
       "      <td>1</td>\n",
       "    </tr>\n",
       "    <tr>\n",
       "      <th>271</th>\n",
       "      <td>9056682094274849216.1625598516.1625598516</td>\n",
       "      <td>1</td>\n",
       "    </tr>\n",
       "    <tr>\n",
       "      <th>287</th>\n",
       "      <td>9056738860855987966.1623985736.1623985736</td>\n",
       "      <td>1</td>\n",
       "    </tr>\n",
       "    <tr>\n",
       "      <th>289</th>\n",
       "      <td>9056738860855987966.1624004393.1624004393</td>\n",
       "      <td>1</td>\n",
       "    </tr>\n",
       "    <tr>\n",
       "      <th>310</th>\n",
       "      <td>9056841918600823954.1628554390.1628554390</td>\n",
       "      <td>1</td>\n",
       "    </tr>\n",
       "    <tr>\n",
       "      <th>314</th>\n",
       "      <td>9056845320208664215.1622296993.1622296993</td>\n",
       "      <td>1</td>\n",
       "    </tr>\n",
       "    <tr>\n",
       "      <th>408</th>\n",
       "      <td>9057296532308149869.1637533303.1637533303</td>\n",
       "      <td>1</td>\n",
       "    </tr>\n",
       "    <tr>\n",
       "      <th>428</th>\n",
       "      <td>9057370474456530342.1628945832.1628945832</td>\n",
       "      <td>1</td>\n",
       "    </tr>\n",
       "    <tr>\n",
       "      <th>436</th>\n",
       "      <td>9057405255112834392.1640086874.1640086874</td>\n",
       "      <td>1</td>\n",
       "    </tr>\n",
       "    <tr>\n",
       "      <th>453</th>\n",
       "      <td>9057490553159771564.1636525485.1636525485</td>\n",
       "      <td>1</td>\n",
       "    </tr>\n",
       "    <tr>\n",
       "      <th>461</th>\n",
       "      <td>9057508179703181153.1634152292.1634152292</td>\n",
       "      <td>1</td>\n",
       "    </tr>\n",
       "    <tr>\n",
       "      <th>488</th>\n",
       "      <td>9057620093667786277.1635925543.1635925543</td>\n",
       "      <td>1</td>\n",
       "    </tr>\n",
       "    <tr>\n",
       "      <th>508</th>\n",
       "      <td>9057690488171061142.1625218970.1625218970</td>\n",
       "      <td>0</td>\n",
       "    </tr>\n",
       "  </tbody>\n",
       "</table>\n",
       "</div>"
      ],
      "text/plain": [
       "                                    session_id  target_event\n",
       "70   9055768928391199041.1623652678.1623652678             1\n",
       "75   9055789093275396095.1636395007.1636395007             1\n",
       "79   9055794766915104430.1624305327.1624305327             1\n",
       "131  9056028189803556573.1630154471.1630154471             1\n",
       "140  9056093322981390023.1628944098.1628944098             1\n",
       "146  9056100040321437002.1640140105.1640140105             1\n",
       "156  9056158125457201967.1638193974.1638193974             1\n",
       "252  9056607924483613657.1624597468.1624597468             1\n",
       "271  9056682094274849216.1625598516.1625598516             1\n",
       "287  9056738860855987966.1623985736.1623985736             1\n",
       "289  9056738860855987966.1624004393.1624004393             1\n",
       "310  9056841918600823954.1628554390.1628554390             1\n",
       "314  9056845320208664215.1622296993.1622296993             1\n",
       "408  9057296532308149869.1637533303.1637533303             1\n",
       "428  9057370474456530342.1628945832.1628945832             1\n",
       "436  9057405255112834392.1640086874.1640086874             1\n",
       "453  9057490553159771564.1636525485.1636525485             1\n",
       "461  9057508179703181153.1634152292.1634152292             1\n",
       "488  9057620093667786277.1635925543.1635925543             1\n",
       "508  9057690488171061142.1625218970.1625218970             0"
      ]
     },
     "execution_count": 31,
     "metadata": {},
     "output_type": "execute_result"
    }
   ],
   "source": [
    "df_tmp = df_tmp[df_tmp['session_id'].duplicated()]\n",
    "print(df_tmp.shape)\n",
    "#df_tmp = df_tmp[df_tmp['target_event']==0]\n",
    "#df_tmp.shape\n",
    "df_tmp[['session_id', 'target_event']].head(20)"
   ]
  },
  {
   "cell_type": "code",
   "execution_count": 32,
   "id": "3d444014",
   "metadata": {},
   "outputs": [
    {
     "data": {
      "text/html": [
       "<div>\n",
       "<style scoped>\n",
       "    .dataframe tbody tr th:only-of-type {\n",
       "        vertical-align: middle;\n",
       "    }\n",
       "\n",
       "    .dataframe tbody tr th {\n",
       "        vertical-align: top;\n",
       "    }\n",
       "\n",
       "    .dataframe thead th {\n",
       "        text-align: right;\n",
       "    }\n",
       "</style>\n",
       "<table border=\"1\" class=\"dataframe\">\n",
       "  <thead>\n",
       "    <tr style=\"text-align: right;\">\n",
       "      <th></th>\n",
       "      <th>session_id</th>\n",
       "      <th>target_event</th>\n",
       "    </tr>\n",
       "  </thead>\n",
       "  <tbody>\n",
       "    <tr>\n",
       "      <th>507</th>\n",
       "      <td>9057690488171061142.1625218970.1625218970</td>\n",
       "      <td>1</td>\n",
       "    </tr>\n",
       "    <tr>\n",
       "      <th>508</th>\n",
       "      <td>9057690488171061142.1625218970.1625218970</td>\n",
       "      <td>0</td>\n",
       "    </tr>\n",
       "  </tbody>\n",
       "</table>\n",
       "</div>"
      ],
      "text/plain": [
       "                                    session_id  target_event\n",
       "507  9057690488171061142.1625218970.1625218970             1\n",
       "508  9057690488171061142.1625218970.1625218970             0"
      ]
     },
     "execution_count": 32,
     "metadata": {},
     "output_type": "execute_result"
    }
   ],
   "source": [
    "df[df['session_id']=='9057690488171061142.1625218970.1625218970'][['session_id', 'target_event']]"
   ]
  },
  {
   "cell_type": "code",
   "execution_count": null,
   "id": "99853b14",
   "metadata": {},
   "outputs": [],
   "source": []
  }
 ],
 "metadata": {
  "kernelspec": {
   "display_name": "Python 3 (ipykernel)",
   "language": "python",
   "name": "python3"
  },
  "language_info": {
   "codemirror_mode": {
    "name": "ipython",
    "version": 3
   },
   "file_extension": ".py",
   "mimetype": "text/x-python",
   "name": "python",
   "nbconvert_exporter": "python",
   "pygments_lexer": "ipython3",
   "version": "3.10.10"
  }
 },
 "nbformat": 4,
 "nbformat_minor": 5
}
