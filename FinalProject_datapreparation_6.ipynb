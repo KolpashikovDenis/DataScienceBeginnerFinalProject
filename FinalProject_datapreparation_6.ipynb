{
 "cells": [
  {
   "cell_type": "markdown",
   "id": "548b31a1",
   "metadata": {},
   "source": [
    "В данном блокноте удаляю дубликаты session_id, причём те, у которых target_event = 0"
   ]
  },
  {
   "cell_type": "code",
   "execution_count": 1,
   "id": "473a79aa",
   "metadata": {},
   "outputs": [],
   "source": [
    "import pandas as pd\n",
    "import numpy as np\n",
    "from sklearn.preprocessing import OneHotEncoder\n",
    "from warnings import filterwarnings\n",
    "\n",
    "filterwarnings('ignore')\n",
    "\n",
    "%store -r df\n",
    "\n",
    "# для этого датафрейма \n",
    "#df = df.sample(frac=1).reset_index(drop=True)\n",
    "#df = df.sample(n=50000).reset_index(drop=True)\n",
    "\n",
    "res = df[~((df.duplicated(['session_id'])) & (df['target_event']==0) )]\n",
    "for col in res.columns:\n",
    "    res[col] = res[col].fillna('unknown')"
   ]
  },
  {
   "cell_type": "code",
   "execution_count": 2,
   "id": "ae994a50",
   "metadata": {},
   "outputs": [],
   "source": [
    "def foo(col_name):\n",
    "    df0 = res[res['target_event']==0].groupby([col_name]).agg({'target_event': 'count'}).rename(columns={'target_event': 'zeros'})\n",
    "    df1 = res[res['target_event']==1].groupby([col_name]).agg({'target_event': 'count'}).rename(columns={'target_event': 'ones'})\n",
    "    df_part = pd.merge(df0, df1, left_index=True, right_index=True, how='outer')\n",
    "    df_part['zeros'] = df_part['zeros'].fillna(0).astype(int)\n",
    "    df_part['ones'] = df_part['ones'].fillna(0).astype(int)\n",
    "    df_part['part'] = df_part.apply(lambda a: round(a['ones']/a['zeros'], 4), axis=1)\n",
    "    return df_part.drop(['zeros', 'ones'], axis=1)"
   ]
  },
  {
   "cell_type": "markdown",
   "id": "22c96265",
   "metadata": {},
   "source": [
    "## visit_date и visit_time\n",
    "здесь делаю некоторые манипуляции с датой и временем: смотрю сколько было целевых действий за месяц и за час - оказывается, час и месяц влияют на целевое действие"
   ]
  },
  {
   "cell_type": "code",
   "execution_count": 3,
   "id": "a645661e",
   "metadata": {},
   "outputs": [],
   "source": [
    "def visit_hour(x):\n",
    "    return h.loc[x]\n",
    "\n",
    "def visit_month(x):\n",
    "    return m.loc[x]\n",
    "\n",
    "res['visit_time'] = pd.to_datetime(res['visit_time'])\n",
    "res['visit_hour'] = res['visit_time'].apply(lambda x: int(x.hour))\n",
    "\n",
    "res['visit_date'] = pd.to_datetime(res['visit_date'])\n",
    "res['visit_month'] = res['visit_date'].apply(lambda x: int(x.month))\n",
    "\n",
    "\n",
    "h = foo('visit_hour')\n",
    "res['visit_hour'] = res['visit_hour'].apply(lambda h: visit_hour(h))\n",
    "\n",
    "m = foo('visit_month')\n",
    "res['visit_month'] = res['visit_month'].apply(lambda m: visit_month(m))\n",
    "\n",
    "res = res.drop(['visit_date', 'visit_time'], axis=1)"
   ]
  },
  {
   "cell_type": "markdown",
   "id": "0d316e7a",
   "metadata": {},
   "source": [
    "## UTM_*\n",
    "### utm_source"
   ]
  },
  {
   "cell_type": "code",
   "execution_count": 4,
   "id": "344ddf4c",
   "metadata": {},
   "outputs": [],
   "source": [
    "# src0 = res[res['target_event']==0].groupby(['utm_source']).agg({'target_event': 'count'}).rename(columns={'target_event': 'zeros'})\n",
    "# src1 = res[res['target_event']==1].groupby(['utm_source']).agg({'target_event': 'count'}).rename(columns={'target_event': 'ones'})\n",
    "# src_full = pd.merge(src0, src1, left_index=True, right_index=True, how='outer')\n",
    "# src_full['zeros'] = src_full['zeros'].fillna(0).astype(int)\n",
    "# src_full['ones'] = src_full['ones'].fillna(0).astype(int)\n",
    "# src_full['part'] = src_full.apply(lambda a: round(a['ones']/a['zeros'], 4), axis=1)\n",
    "# src_full = src_full.drop(['zeros', 'ones'], axis=1)\n",
    "# src_full.sort_values(by=['part'], ascending=False).head(30)"
   ]
  },
  {
   "cell_type": "code",
   "execution_count": 5,
   "id": "60fabc92",
   "metadata": {},
   "outputs": [],
   "source": [
    "def utm_source(x):\n",
    "    return src.loc[x]\n",
    "\n",
    "adv_soc_net = ['QxAxdyPLuQMEcrdZWdWb', 'MvfHsxITijuriZxsqZqt', 'ISrKoXQCxqqYvAZICvjs', 'IZEXUFLARCUMynmHNBGo', 'PlbkrSYoHuZBWfYjYnfw','gVRrcxiDQubJiljoTbGm']\n",
    "# res['adv_soc_net'] = res['utm_source'].apply(lambda x: 'from_adv' if x in adv_soc_net else 'other_source')\n",
    "res['adv_soc_net'] = res['utm_source'].apply(lambda x: 1 if x in adv_soc_net else 0)\n",
    "\n",
    "# src = foo('utm_source')\n",
    "# res['utm_source'] = res['utm_source'].apply(lambda y: utm_source(y))"
   ]
  },
  {
   "cell_type": "markdown",
   "id": "7bf1d220",
   "metadata": {},
   "source": [
    "### utm_medium"
   ]
  },
  {
   "cell_type": "code",
   "execution_count": 6,
   "id": "a99e506c",
   "metadata": {},
   "outputs": [],
   "source": [
    "def utm_medium(x):\n",
    "    return med.loc[x]\n",
    "\n",
    "utm_medium_type = ['organic', 'referral', '(none)']\n",
    "# res['utm_medium_type'] = res['utm_medium'].apply(lambda x: 'organic' if x in ['organic', 'referral', '(none)'] else 'paid_traffic')\n",
    "res['utm_medium_type'] = res['utm_medium'].apply(lambda x: 1 if x in utm_medium_type else 0)\n",
    "\n",
    "med = foo('utm_medium')\n",
    "res['utm_medium'] = res['utm_medium'].apply(lambda y: utm_medium(y))"
   ]
  },
  {
   "cell_type": "markdown",
   "id": "9d5cce96",
   "metadata": {},
   "source": [
    "### utm_adcontent"
   ]
  },
  {
   "cell_type": "code",
   "execution_count": 7,
   "id": "0e51fc1c",
   "metadata": {},
   "outputs": [],
   "source": [
    "# def utm_adcontent(x):\n",
    "#     return adcontent.loc[x]\n",
    "# # \n",
    "# adcontent = foo('utm_adcontent')\n",
    "# res['utm_adcontent'] = res['utm_adcontent'].apply(lambda y: utm_adcontent(y))"
   ]
  },
  {
   "cell_type": "markdown",
   "id": "4f4d5170",
   "metadata": {},
   "source": [
    "### utm_campaign"
   ]
  },
  {
   "cell_type": "code",
   "execution_count": 8,
   "id": "05c46e03",
   "metadata": {},
   "outputs": [],
   "source": [
    "# def utm_campaign(x):\n",
    "#     return campaign.loc[x]\n",
    "\n",
    "# campaign = foo('utm_campaign')\n",
    "# res['utm_campaign'] = res['utm_campaign'].apply(lambda y: utm_campaign(y))"
   ]
  },
  {
   "cell_type": "code",
   "execution_count": 9,
   "id": "7d1c6c08",
   "metadata": {},
   "outputs": [],
   "source": [
    "res = res.drop(['session_id', 'client_id', 'device_model', 'visit_number', 'utm_keyword'], axis=1)\n",
    "# res.head()"
   ]
  },
  {
   "cell_type": "markdown",
   "id": "7cdbd324",
   "metadata": {},
   "source": [
    "## DEVICE_*"
   ]
  },
  {
   "cell_type": "markdown",
   "id": "758f9e0d",
   "metadata": {},
   "source": [
    "### device_category"
   ]
  },
  {
   "cell_type": "markdown",
   "id": "241386cf",
   "metadata": {},
   "source": [
    "device_category - 3 категории, пропусков нет. Из преобразований - будет последующее onehot-кодирование"
   ]
  },
  {
   "cell_type": "markdown",
   "id": "de3ef72b",
   "metadata": {},
   "source": [
    "### device_os, device_brand, device_browser"
   ]
  },
  {
   "cell_type": "markdown",
   "id": "7c74d661",
   "metadata": {},
   "source": [
    "восстановим ОС из других значений device_*"
   ]
  },
  {
   "cell_type": "code",
   "execution_count": 10,
   "id": "73421ad5",
   "metadata": {},
   "outputs": [],
   "source": [
    "best_brands = ['Samsung', 'Xiaomi', 'Huawei', 'POCO']\n",
    "\n",
    "dev_types = ['mobile', 'tablet']\n",
    "\n",
    "android_brands = ['Xiaomi', 'Samsung', 'Huawei', 'Vivo', 'LG',\n",
    "       'BQ', 'OnePlus', 'itel', 'Asus', 'Sony', 'Android', 'OPPO',\n",
    "       'Nokia', 'Realme', 'Alcatel', 'Infinix', 'Micromax', 'Blackview',\n",
    "       'Oukitel', 'ZTE', 'Motorola', 'HOMTOM', 'Google', 'Lenovo',\n",
    "       'China Phone', 'Neffos', 'Tecno', 'DOOGEE', 'Vsmart', 'Meizu', 'Umidigi', 'Leagoo', 'Highscreen', 'Ulefone', 'HTC',\n",
    "       'Cubot', 'Symphony', 'Vestel', 'Guophone', 'Wileyfox', 'Vertex',\n",
    "       'POCO', 'TCL', 'SonyEricsson', 'Nomu', 'Prestigio',\n",
    "       'Philips', 'LeEco', 'DEXP', 'Hisense', 'Vernee', 'Tele2', 'CAT',\n",
    "       'H96', 'Kyocera', 'Inoi', 'Acer', 'Kingplay', 'Sharp',\n",
    "       'MTC', 'iNew', 'Karbonn', 'Wiko', 'Gionee', 'Digma',\n",
    "       'Yota Devices', 'Kata', 'Poptel', 'Flylion', 'AGM', 'Teclast',\n",
    "       'Fly', 'MLS', 'LeTV', 'Nuu', 'Celkon', 'Chuwi', 'Walton',\n",
    "       'Haier', 'Coolpad', 'Xiaolajiao', 'Lava', 'General Mobile',\n",
    "       'Black Fox', 'Condor', 'Razer', 'Microsoft', 'Fujitsu',\n",
    "       'Alldocube', 'ZOJI', 'Amazon', 'PPTV', 'Jiake', 'Mito', 'Oysters',\n",
    "       'NOA', 'Caterpillar', 'SenseIT', 'Verizon', 'Komu', 'BLU', 'RCA',\n",
    "       'Cube', 'AT&T', 'Tonbux', 'Dark', 'Elephone', 'T-Mobile',\n",
    "       'Smartfren', 'Billion', 'Gome', 'A1', 'MTS', 'Geotel', 'BLUBOO',\n",
    "       'Ananda', 'MediaTek', 'KingSing', 'Ark', 'Essential',\n",
    "       'Dragon Touch', 'E&L', 'Fero',  'Wigor', 'Tanix',\n",
    "       'Mlais', 'InFocus', 'Smartisan', 'Beelink', 'Unihertz', 'Orbic',\n",
    "       'Honeywell', 'Archos', 'RED', 'Sonim', 'Jiayu', 'Evertek',\n",
    "       'Leegoog', 'QMobile', 'INUI', 'Artel', 'Irbis', 'China Mobile',\n",
    "       'Flexymove', 'Olla', 'Krip', 'Star', 'UMI', 'Iris', 'Ellipsis',\n",
    "       'LTC', 'Motive', 'Advan', 'M-HORSE', 'Winnovo', 'ThL', 'Nomi',\n",
    "       'Wings Mobile', 'MXQ', 'How', 'Centric', 'Maze', 'Corn',\n",
    "       'China TVBox', 'Gretel', 'Vertu', 'Evercoss', 'teXet', 'Qbex',\n",
    "       'Panasonic', 'Tagital', 'Dell', 'Maxvi']"
   ]
  },
  {
   "cell_type": "code",
   "execution_count": 11,
   "id": "a2263e84",
   "metadata": {},
   "outputs": [
    {
     "name": "stdout",
     "output_type": "stream",
     "text": [
      "CPU times: total: 24.8 s\n",
      "Wall time: 24.9 s\n"
     ]
    }
   ],
   "source": [
    "%%time\n",
    "def foo_os(x):\n",
    "    if x['device_os']=='unknown':\n",
    "        if x['device_brand'] in android_brands:\n",
    "            return 'Android'\n",
    "        elif (x['device_brand'] == 'Apple') and (x.device_category in dev_types):\n",
    "            return 'iOS'\n",
    "    elif x['device_os'] != x['device_os']:\n",
    "        if (x['device_category'] in dev_types) and (x['device_brand']=='Apple'):\n",
    "            return 'iOS'\n",
    "        elif x['device_brand'] in android_brands:\n",
    "            return 'Android'\n",
    "    else:\n",
    "        return x['device_os']\n",
    "    return x['device_os']\n",
    "    \n",
    "res['device_os'] = res.apply(lambda x: foo_os(x), axis=1)"
   ]
  },
  {
   "cell_type": "markdown",
   "id": "eaa1b016",
   "metadata": {},
   "source": [
    "device_brand преобразуем в три категории: Apple - 3, Samsung, Xiaomi, Huawei и Poco - 2, остальные бренды - 1\n",
    "признак device_browser отбросим - "
   ]
  },
  {
   "cell_type": "code",
   "execution_count": 12,
   "id": "640bf5ed",
   "metadata": {},
   "outputs": [],
   "source": [
    "def brand2cat(x):\n",
    "    if x == 'Apple':\n",
    "        return int(3)\n",
    "    elif x in best_brands:\n",
    "        return int(2)\n",
    "    else:\n",
    "        return int(1)\n",
    "    return int(0)\n",
    "\n",
    "res['cat_device_brand'] = res['device_brand'].apply(lambda x: brand2cat(x))\n",
    "res = res.drop(['device_brand'], axis=1)"
   ]
  },
  {
   "cell_type": "code",
   "execution_count": 13,
   "id": "a5c7edde",
   "metadata": {},
   "outputs": [],
   "source": [
    "def foo_browser(x):\n",
    "    t = 0\n",
    "    if x in ['Chrome', 'Safari', 'YaBrowser']:\n",
    "        t = 2\n",
    "    elif x in ['Safari (in-app)', 'Android Webview', 'Samsung Internet']:\n",
    "        t = 1\n",
    "    else:\n",
    "        t = 0\n",
    "    return t\n",
    "\n",
    "res['cat_browser'] = res['device_browser'].apply(lambda x: foo_browser(x))"
   ]
  },
  {
   "cell_type": "code",
   "execution_count": 14,
   "id": "ed4e99a0",
   "metadata": {},
   "outputs": [],
   "source": [
    "res = res.drop(['device_browser', 'device_screen_resolution'], axis=1)"
   ]
  },
  {
   "cell_type": "markdown",
   "id": "6114b95c",
   "metadata": {},
   "source": [
    "## GEO_*\n",
    "### geo_country"
   ]
  },
  {
   "cell_type": "code",
   "execution_count": 15,
   "id": "deabc53d",
   "metadata": {},
   "outputs": [],
   "source": [
    "res['is_rus'] = res['geo_country'].apply(lambda x: 1 if x=='Russia' else 0)"
   ]
  },
  {
   "cell_type": "markdown",
   "id": "53586811",
   "metadata": {},
   "source": [
    "### geo_city"
   ]
  },
  {
   "cell_type": "code",
   "execution_count": 16,
   "id": "d39d87e7",
   "metadata": {},
   "outputs": [],
   "source": [
    "def geo_city(x):\n",
    "    return city.loc[x]\n",
    "\n",
    "city = foo('geo_city')\n",
    "res['geo_city'] = res['geo_city'].apply(lambda y: geo_city(y))"
   ]
  },
  {
   "cell_type": "code",
   "execution_count": 17,
   "id": "542087e6",
   "metadata": {},
   "outputs": [],
   "source": [
    "# res = res.drop(['geo_country', 'geo_city'], axis=1)"
   ]
  },
  {
   "cell_type": "code",
   "execution_count": 18,
   "id": "151b4532",
   "metadata": {},
   "outputs": [],
   "source": [
    "def view_occupancy(df):\n",
    "    length = len(df)\n",
    "    dic = dict()\n",
    "    for col in df.columns:\n",
    "        percent_filled = (length-df[col].isna().sum())/length\n",
    "        dic[col] = percent_filled\n",
    "\n",
    "    dic = sorted(dic.items(), key=lambda x: x[1], reverse=True)\n",
    "    for k, v in dic:\n",
    "        print('{}: {:.3f}%'.format(k, v*100))"
   ]
  },
  {
   "cell_type": "code",
   "execution_count": 19,
   "id": "185eca77",
   "metadata": {},
   "outputs": [
    {
     "name": "stdout",
     "output_type": "stream",
     "text": [
      "utm_source: 100.000%\n",
      "utm_medium: 100.000%\n",
      "utm_campaign: 100.000%\n",
      "utm_adcontent: 100.000%\n",
      "device_category: 100.000%\n",
      "device_os: 100.000%\n",
      "geo_country: 100.000%\n",
      "geo_city: 100.000%\n",
      "target_event: 100.000%\n",
      "visit_hour: 100.000%\n",
      "visit_month: 100.000%\n",
      "adv_soc_net: 100.000%\n",
      "utm_medium_type: 100.000%\n",
      "cat_device_brand: 100.000%\n",
      "cat_browser: 100.000%\n",
      "is_rus: 100.000%\n"
     ]
    }
   ],
   "source": [
    "view_occupancy(res)"
   ]
  },
  {
   "cell_type": "code",
   "execution_count": 20,
   "id": "2eb9fc08",
   "metadata": {},
   "outputs": [
    {
     "data": {
      "text/html": [
       "<div>\n",
       "<style scoped>\n",
       "    .dataframe tbody tr th:only-of-type {\n",
       "        vertical-align: middle;\n",
       "    }\n",
       "\n",
       "    .dataframe tbody tr th {\n",
       "        vertical-align: top;\n",
       "    }\n",
       "\n",
       "    .dataframe thead th {\n",
       "        text-align: right;\n",
       "    }\n",
       "</style>\n",
       "<table border=\"1\" class=\"dataframe\">\n",
       "  <thead>\n",
       "    <tr style=\"text-align: right;\">\n",
       "      <th></th>\n",
       "      <th>utm_source</th>\n",
       "      <th>utm_medium</th>\n",
       "      <th>utm_campaign</th>\n",
       "      <th>utm_adcontent</th>\n",
       "      <th>device_category</th>\n",
       "      <th>device_os</th>\n",
       "      <th>geo_country</th>\n",
       "      <th>geo_city</th>\n",
       "      <th>target_event</th>\n",
       "      <th>visit_hour</th>\n",
       "      <th>visit_month</th>\n",
       "      <th>adv_soc_net</th>\n",
       "      <th>utm_medium_type</th>\n",
       "      <th>cat_device_brand</th>\n",
       "      <th>cat_browser</th>\n",
       "      <th>is_rus</th>\n",
       "    </tr>\n",
       "  </thead>\n",
       "  <tbody>\n",
       "    <tr>\n",
       "      <th>0</th>\n",
       "      <td>ZpYIoDJMcFzVoPFsHGJL</td>\n",
       "      <td>banner</td>\n",
       "      <td>LEoPHuyFvzoNfnzGgfcd</td>\n",
       "      <td>vCIpmpaGBnIQhyYNkXqp</td>\n",
       "      <td>mobile</td>\n",
       "      <td>Android</td>\n",
       "      <td>Russia</td>\n",
       "      <td>0.0139</td>\n",
       "      <td>0</td>\n",
       "      <td>0.0316</td>\n",
       "      <td>0.0245</td>\n",
       "      <td>other_source</td>\n",
       "      <td>paid_traffic</td>\n",
       "      <td>2</td>\n",
       "      <td>2</td>\n",
       "      <td>1</td>\n",
       "    </tr>\n",
       "    <tr>\n",
       "      <th>1</th>\n",
       "      <td>MvfHsxITijuriZxsqZqt</td>\n",
       "      <td>cpm</td>\n",
       "      <td>FTjNLDyTrXaWYgZymFkV</td>\n",
       "      <td>xhoenQgDQsgfEPYNPwKO</td>\n",
       "      <td>mobile</td>\n",
       "      <td>Android</td>\n",
       "      <td>Russia</td>\n",
       "      <td>0.0316</td>\n",
       "      <td>0</td>\n",
       "      <td>0.0255</td>\n",
       "      <td>0.0245</td>\n",
       "      <td>from_adv</td>\n",
       "      <td>paid_traffic</td>\n",
       "      <td>2</td>\n",
       "      <td>1</td>\n",
       "      <td>1</td>\n",
       "    </tr>\n",
       "    <tr>\n",
       "      <th>2</th>\n",
       "      <td>ZpYIoDJMcFzVoPFsHGJL</td>\n",
       "      <td>banner</td>\n",
       "      <td>LEoPHuyFvzoNfnzGgfcd</td>\n",
       "      <td>vCIpmpaGBnIQhyYNkXqp</td>\n",
       "      <td>mobile</td>\n",
       "      <td>Android</td>\n",
       "      <td>Russia</td>\n",
       "      <td>0.0247</td>\n",
       "      <td>0</td>\n",
       "      <td>0.0252</td>\n",
       "      <td>0.0200</td>\n",
       "      <td>other_source</td>\n",
       "      <td>paid_traffic</td>\n",
       "      <td>2</td>\n",
       "      <td>2</td>\n",
       "      <td>1</td>\n",
       "    </tr>\n",
       "    <tr>\n",
       "      <th>3</th>\n",
       "      <td>kjsLglQLzykiRbcDiGcD</td>\n",
       "      <td>cpc</td>\n",
       "      <td>unknown</td>\n",
       "      <td>NOBKLgtuvqYWkXQHeYWM</td>\n",
       "      <td>mobile</td>\n",
       "      <td>Android</td>\n",
       "      <td>Russia</td>\n",
       "      <td>0.0316</td>\n",
       "      <td>0</td>\n",
       "      <td>0.0240</td>\n",
       "      <td>0.0615</td>\n",
       "      <td>other_source</td>\n",
       "      <td>paid_traffic</td>\n",
       "      <td>2</td>\n",
       "      <td>2</td>\n",
       "      <td>1</td>\n",
       "    </tr>\n",
       "    <tr>\n",
       "      <th>4</th>\n",
       "      <td>kjsLglQLzykiRbcDiGcD</td>\n",
       "      <td>cpc</td>\n",
       "      <td>unknown</td>\n",
       "      <td>unknown</td>\n",
       "      <td>mobile</td>\n",
       "      <td>Android</td>\n",
       "      <td>Russia</td>\n",
       "      <td>0.0316</td>\n",
       "      <td>0</td>\n",
       "      <td>0.0240</td>\n",
       "      <td>0.0615</td>\n",
       "      <td>other_source</td>\n",
       "      <td>paid_traffic</td>\n",
       "      <td>2</td>\n",
       "      <td>2</td>\n",
       "      <td>1</td>\n",
       "    </tr>\n",
       "  </tbody>\n",
       "</table>\n",
       "</div>"
      ],
      "text/plain": [
       "             utm_source utm_medium          utm_campaign  \\\n",
       "0  ZpYIoDJMcFzVoPFsHGJL     banner  LEoPHuyFvzoNfnzGgfcd   \n",
       "1  MvfHsxITijuriZxsqZqt        cpm  FTjNLDyTrXaWYgZymFkV   \n",
       "2  ZpYIoDJMcFzVoPFsHGJL     banner  LEoPHuyFvzoNfnzGgfcd   \n",
       "3  kjsLglQLzykiRbcDiGcD        cpc               unknown   \n",
       "4  kjsLglQLzykiRbcDiGcD        cpc               unknown   \n",
       "\n",
       "          utm_adcontent device_category device_os geo_country  geo_city  \\\n",
       "0  vCIpmpaGBnIQhyYNkXqp          mobile   Android      Russia    0.0139   \n",
       "1  xhoenQgDQsgfEPYNPwKO          mobile   Android      Russia    0.0316   \n",
       "2  vCIpmpaGBnIQhyYNkXqp          mobile   Android      Russia    0.0247   \n",
       "3  NOBKLgtuvqYWkXQHeYWM          mobile   Android      Russia    0.0316   \n",
       "4               unknown          mobile   Android      Russia    0.0316   \n",
       "\n",
       "   target_event  visit_hour  visit_month   adv_soc_net utm_medium_type  \\\n",
       "0             0      0.0316       0.0245  other_source    paid_traffic   \n",
       "1             0      0.0255       0.0245      from_adv    paid_traffic   \n",
       "2             0      0.0252       0.0200  other_source    paid_traffic   \n",
       "3             0      0.0240       0.0615  other_source    paid_traffic   \n",
       "4             0      0.0240       0.0615  other_source    paid_traffic   \n",
       "\n",
       "   cat_device_brand  cat_browser  is_rus  \n",
       "0                 2            2       1  \n",
       "1                 2            1       1  \n",
       "2                 2            2       1  \n",
       "3                 2            2       1  \n",
       "4                 2            2       1  "
      ]
     },
     "execution_count": 20,
     "metadata": {},
     "output_type": "execute_result"
    }
   ],
   "source": [
    "res.head()"
   ]
  },
  {
   "cell_type": "code",
   "execution_count": null,
   "id": "7350c733",
   "metadata": {},
   "outputs": [],
   "source": []
  },
  {
   "cell_type": "code",
   "execution_count": 21,
   "id": "a6b19b59",
   "metadata": {},
   "outputs": [
    {
     "name": "stdout",
     "output_type": "stream",
     "text": [
      "Stored 'df_ohed' (DataFrame)\n"
     ]
    }
   ],
   "source": [
    "# res = res.sample(frac=1).reset_index(drop=True)\n",
    "res = res.sample(n=200000).reset_index(drop=True)\n",
    "\n",
    "cols_for_ohe = res.select_dtypes(include=['string', 'object', 'bool']).columns.tolist()\n",
    "\n",
    "ohe = OneHotEncoder(sparse=False)\n",
    "\n",
    "ohe.fit(res[cols_for_ohe])\n",
    "transformed = ohe.transform(res[cols_for_ohe])\n",
    "res[ohe.get_feature_names_out()] = transformed\n",
    "df_ohed = res.drop(cols_for_ohe, axis=1)\n",
    "\n",
    "%store df_ohed"
   ]
  },
  {
   "cell_type": "code",
   "execution_count": null,
   "id": "7945b9e8",
   "metadata": {},
   "outputs": [],
   "source": []
  }
 ],
 "metadata": {
  "kernelspec": {
   "display_name": "Python 3 (ipykernel)",
   "language": "python",
   "name": "python3"
  },
  "language_info": {
   "codemirror_mode": {
    "name": "ipython",
    "version": 3
   },
   "file_extension": ".py",
   "mimetype": "text/x-python",
   "name": "python",
   "nbconvert_exporter": "python",
   "pygments_lexer": "ipython3",
   "version": "3.10.10"
  }
 },
 "nbformat": 4,
 "nbformat_minor": 5
}
