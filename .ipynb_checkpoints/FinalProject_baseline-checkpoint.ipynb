{
 "cells": [
  {
   "cell_type": "markdown",
   "id": "80946ba5",
   "metadata": {},
   "source": [
    "#### Данная тетрадка - предсказания на бейзлайне, т.е. преобразования минимальны, сокращение значений в признаках utm_*, device_* чтобы небыло много ohe-признаков"
   ]
  },
  {
   "cell_type": "code",
   "execution_count": 1,
   "id": "b61b2cde",
   "metadata": {},
   "outputs": [],
   "source": [
    "from warnings import filterwarnings\n",
    "from datetime import datetime as dt\n",
    "import pickle\n",
    "import pandas as pd\n",
    "import numpy as np\n",
    "import gc\n",
    "from datetime import datetime as dt\n",
    "filterwarnings('ignore')"
   ]
  },
  {
   "cell_type": "code",
   "execution_count": 2,
   "id": "d5a5a7a4",
   "metadata": {
    "scrolled": true
   },
   "outputs": [],
   "source": [
    "# %%time\n",
    "# %run final_projects_merging.ipynb"
   ]
  },
  {
   "cell_type": "code",
   "execution_count": 3,
   "id": "65b82a84",
   "metadata": {},
   "outputs": [
    {
     "name": "stdout",
     "output_type": "stream",
     "text": [
      "Stored 'df' (DataFrame)\n"
     ]
    }
   ],
   "source": [
    "datatypes = {'session_id': 'string',\n",
    " 'client_id': 'string',\n",
    " 'visit_date': 'string',\n",
    " 'visit_time': 'string',\n",
    " 'visit_number': 'int64',\n",
    " 'utm_source': 'string',\n",
    " 'utm_medium':'string',\n",
    " 'utm_campaign':'string',\n",
    " 'utm_adcontent':'string',\n",
    " 'utm_keyword':'string',\n",
    " 'device_category':'string',\n",
    " 'device_os':'string',\n",
    " 'device_brand':'string',\n",
    " 'device_model':'string',\n",
    " 'device_screen_resolution': 'string',\n",
    " 'device_browser':'string',\n",
    " 'geo_country':'string',\n",
    " 'geo_city':'string',\n",
    " 'target_event': 'int64'}\n",
    "\n",
    "df_base = pd.read_csv(\"D:\\\\Libraries\\\\Projects\\\\Skillbox.FinalProject\\\\data\\\\stage#1.csv\", index_col=False, dtype=datatypes )\n",
    "df_base = df_base.loc[:, ~df_base.columns.str.contains('Unnamed')]\n",
    "\n",
    "# ***************************************************************************\n",
    "#                   ДАННЫЙ КУСОК КОДА ОТСЮДА ПОТОМ УДАЛИТЬ \n",
    "df = df_base.copy()\n",
    "%store df\n",
    "# ***************************************************************************\n",
    "\n",
    "#df = df[~df['target_event'].isna()]\n",
    "# df_ohed = df[cols_for_ohe].copy()\n",
    "# df_ohed = df_ohed.loc[:200000, :] #500000 строк для 32 ГБ (у меня 32 ГБ),  200000 строк - для 16 ГБ оперативки в системе\n",
    "# df_ohed.target_event = df_ohed.target_event.astype('int64')\n",
    "# # df_ohed = pd.get_dummies(df_ohed, columns=['utm_source', 'utm_medium', 'utm_campaign', 'utm_adcontent', 'utm_keyword', 'device_category', \n",
    "#                                            'device_os', 'device_brand', 'device_model', 'device_screen_resolution', 'device_browser', \n",
    "#                                            'geo_country', 'geo_city'],\n",
    "#                         dummy_na=True)"
   ]
  },
  {
   "cell_type": "markdown",
   "id": "d7382434",
   "metadata": {},
   "source": [
    "## План\n",
    "- убираем дубликаты;\n",
    "- заполняем пропуски"
   ]
  },
  {
   "cell_type": "code",
   "execution_count": 4,
   "id": "df3acdb0",
   "metadata": {},
   "outputs": [],
   "source": [
    "# def view_occupancy(df):\n",
    "#     length = len(df)\n",
    "#     dic = dict()\n",
    "#     for col in df.columns:\n",
    "#         percent_filled = (length-df[col].isna().sum())/length\n",
    "#         dic[col] = percent_filled\n",
    "\n",
    "#     dic = sorted(dic.items(), key=lambda x: x[1], reverse=True)\n",
    "#     for k, v in dic:\n",
    "#         print('{}: {:.3f}%, {}'.format(k, v*100, df[k].isna().sum()))\n",
    "\n",
    "# view_occupancy(df_base)"
   ]
  },
  {
   "cell_type": "markdown",
   "id": "5c51c160",
   "metadata": {},
   "source": [
    "Удаляем следующие признаки:\n",
    "- device_os;\n",
    "- utm_keyword;\n",
    "- device_model"
   ]
  },
  {
   "cell_type": "markdown",
   "id": "a1569d80",
   "metadata": {},
   "source": [
    "Здесь сделаю предвариельную подготовку датафрейма: удалю строки с дублированным session_id и target_event=0"
   ]
  },
  {
   "cell_type": "code",
   "execution_count": 5,
   "id": "70b75f3f",
   "metadata": {},
   "outputs": [],
   "source": [
    "# df = df_base.copy()\n",
    "# %store df"
   ]
  },
  {
   "cell_type": "markdown",
   "id": "d42f99d9",
   "metadata": {},
   "source": [
    "предварительно, заменим пропуски значением 'unknown'"
   ]
  },
  {
   "cell_type": "markdown",
   "id": "5272d9e4",
   "metadata": {},
   "source": [
    "## Отсюда, в отдельных тетрадках буду выполнять различные преобразования. "
   ]
  },
  {
   "cell_type": "markdown",
   "id": "18b734f9",
   "metadata": {},
   "source": [
    "#### Первая тетрадка, базовое преобразование"
   ]
  },
  {
   "cell_type": "markdown",
   "id": "854ec137",
   "metadata": {},
   "source": [
    "В данной тетрадке в признаках оставим только признаки utm_*, device_* и geo_*. Из преобразований - NaN значения заменим на unknown"
   ]
  },
  {
   "cell_type": "code",
   "execution_count": 6,
   "id": "9d065710",
   "metadata": {},
   "outputs": [],
   "source": [
    "# %run FinalProject_base_datapreparation.ipynb\n",
    "# # print(df.shape)\n",
    "# # view_occupancy(df)"
   ]
  },
  {
   "cell_type": "markdown",
   "id": "55405291",
   "metadata": {},
   "source": [
    "В этом блокноте в признаках utm_*, device_* и geo_* значения количество которых не превышает 1% заменяю значением 'other', + вычленяю номер месяца"
   ]
  },
  {
   "cell_type": "code",
   "execution_count": 7,
   "id": "ce7f9535",
   "metadata": {},
   "outputs": [],
   "source": [
    "# %run FinalProject_datapreparation_1.ipynb"
   ]
  },
  {
   "cell_type": "markdown",
   "id": "77ad8370",
   "metadata": {},
   "source": [
    "Здесь для фич visit_date и visit_time вытаскиваю месяц и час, считаю для каждого значения приходится целевых действий. Также, для ОС и для браузера делаю категории"
   ]
  },
  {
   "cell_type": "code",
   "execution_count": 8,
   "id": "c37c568f",
   "metadata": {},
   "outputs": [],
   "source": [
    "# %%time\n",
    "# %run FinalProject_datapreparation_2.ipynb\n",
    "# print(dt.now().strftime(\"%Y-%m-%d %H:%M:%S\"))"
   ]
  },
  {
   "cell_type": "markdown",
   "id": "129df382",
   "metadata": {},
   "source": [
    "Здесь я делаю из категориальных переменных категории: считаю сколько для каждого из категориальных фич будет target_event==1"
   ]
  },
  {
   "cell_type": "code",
   "execution_count": 9,
   "id": "d453cf61",
   "metadata": {},
   "outputs": [],
   "source": [
    "# %%time\n",
    "# %run FinalProject_datapreparation_3.ipynb\n",
    "# print(dt.now().strftime(\"%Y-%m-%d %H:%M:%S\"))"
   ]
  },
  {
   "cell_type": "markdown",
   "id": "4e18aa1d",
   "metadata": {},
   "source": [
    "Здесь utm_source делим на категории по количеству target_event'ов == 1, часть OneHotEconde'им, часто тоже категории, только в зависимости от имени, например device_os если iOS или Android, что ..., также поиступаю и с device_browser"
   ]
  },
  {
   "cell_type": "code",
   "execution_count": 10,
   "id": "0e46c2c6",
   "metadata": {},
   "outputs": [],
   "source": [
    "# %%time\n",
    "# %run FinalProject_datapreparation_4.ipynb\n",
    "# print(dt.now().strftime(\"%Y-%m-%d %H:%M:%S\"))"
   ]
  },
  {
   "cell_type": "markdown",
   "id": "5cbda6e0",
   "metadata": {},
   "source": [
    "Здесь попробую высчитать, процент target_event'ов для каждого из категориальных признаков"
   ]
  },
  {
   "cell_type": "code",
   "execution_count": 11,
   "id": "4f49774e",
   "metadata": {},
   "outputs": [],
   "source": [
    "# %%time\n",
    "# %run FinalProject_datapreparation_5.ipynb\n",
    "# print(dt.now().strftime(\"%Y-%m-%d %H:%M:%S\"))"
   ]
  },
  {
   "cell_type": "markdown",
   "id": "48b3d492",
   "metadata": {},
   "source": [
    "Здесь все utm_* представлены как категории, а также device_category и device_os"
   ]
  },
  {
   "cell_type": "code",
   "execution_count": 12,
   "id": "9bf63643",
   "metadata": {},
   "outputs": [],
   "source": [
    "# %%time\n",
    "# %run FinalProject_datapreparation_6.ipynb\n",
    "# print(dt.now().strftime(\"%Y-%m-%d %H:%M:%S\"))"
   ]
  },
  {
   "cell_type": "markdown",
   "id": "4dde76a6",
   "metadata": {},
   "source": [
    "Тут делаю по примеру Торгашина"
   ]
  },
  {
   "cell_type": "code",
   "execution_count": 13,
   "id": "5c99108b",
   "metadata": {
    "scrolled": false
   },
   "outputs": [],
   "source": [
    "# %%time\n",
    "# %run FinalProject_datapreparation_7.ipynb\n",
    "# print(dt.now().strftime(\"%Y-%m-%d %H:%M:%S\"))"
   ]
  },
  {
   "cell_type": "code",
   "execution_count": 14,
   "id": "3b3e5838",
   "metadata": {},
   "outputs": [
    {
     "name": "stdout",
     "output_type": "stream",
     "text": [
      "CPU times: total: 2.06 s\n",
      "Wall time: 2.07 s\n",
      "Stored 'df_ohed' (DataFrame)\n",
      "2024-03-22 14:41:35\n",
      "CPU times: total: 2min 47s\n",
      "Wall time: 2min 47s\n"
     ]
    }
   ],
   "source": [
    "%%time\n",
    "%run FinalProject_datapreparation_8.ipynb\n",
    "print(dt.now().strftime(\"%Y-%m-%d %H:%M:%S\"))"
   ]
  },
  {
   "cell_type": "markdown",
   "id": "95d52b04",
   "metadata": {},
   "source": [
    "## Получение датафрейма и обучение моделей\n",
    "здесь возвращаем значение"
   ]
  },
  {
   "cell_type": "markdown",
   "id": "53f70f53",
   "metadata": {},
   "source": [
    "ниже обучаем модели и смотрим результаты"
   ]
  },
  {
   "cell_type": "code",
   "execution_count": 15,
   "id": "e8481086",
   "metadata": {},
   "outputs": [
    {
     "name": "stdout",
     "output_type": "stream",
     "text": [
      "Start cell: 2024-03-22 14:41:35\n",
      "DesicionTreeClassifier:\n",
      " Качество на тренировочной выборке: 0.6041428571428571\n",
      " Качество на тестовой выборке:      0.5974166666666667\n",
      " ROc AUC на тренировочной выборке:  0.811527873224549\n",
      " ROC AUC на тестовой выборке:       0.6204152344310856\n",
      "[[34823 23470]\n",
      " [  685  1022]]\n",
      "RandomForestClassifier:   2024-03-22 14:41:36\n",
      " Качество на тренировочной выборке: 0.6429428571428571\n",
      " Качество на тестовой выборке:      0.6375833333333333\n",
      " ROc AUC на тренировочной выборке:  0.791658992006762\n",
      " ROC AUC на тестовой выборке:       0.6304086719222011\n",
      "[[37314 20979]\n",
      " [  766   941]]\n",
      "\n",
      "ExtraTreeClassifier:   2024-03-22 14:41:56\n",
      " Качество на тренировочной выборке: 0.6041428571428571\n",
      " Качество на тестовой выборке:      0.5988166666666667\n",
      " ROc AUC на тренировочной выборке:  0.8115278732245489\n",
      " ROC AUC на тестовой выборке:       0.6221355954166089\n",
      "[[34909 23384]\n",
      " [  687  1020]]\n",
      "End cell:   2024-03-22 14:42:07\n",
      "CPU times: total: 3min 33s\n",
      "Wall time: 32.2 s\n"
     ]
    }
   ],
   "source": [
    "%%time\n",
    "# res = res.sample(n=200000).reset_index(drop=True)\n",
    "\n",
    "print(f'Start cell: {dt.now().strftime(\"%Y-%m-%d %H:%M:%S\")}')\n",
    "\n",
    "%store -r df_ohed\n",
    "# df_ohed = df_ohed.sample(n=50000).reset_index(drop=True)\n",
    "\n",
    "from sklearn.model_selection import train_test_split\n",
    "from sklearn.metrics import accuracy_score, confusion_matrix, roc_auc_score, roc_curve, auc\n",
    "x = df_ohed.drop(['target_event'], axis=1)\n",
    "y = df_ohed['target_event']\n",
    "del df_ohed\n",
    "gc.collect()\n",
    "x_train, x_test, y_train, y_test = train_test_split(x, y, test_size=0.3)\n",
    "\n",
    "#=======================================================================================================================\n",
    "from sklearn.tree import DecisionTreeClassifier\n",
    "\n",
    "clf = DecisionTreeClassifier(class_weight='balanced', random_state=42)\n",
    "# clf = DecisionTreeClassifier(class_weight='balanced')\n",
    "clf.fit(x_train, y_train)\n",
    "\n",
    "proba_test = clf.predict_proba(x_test)\n",
    "proba_test = proba_test[:, 1]\n",
    "proba_train = clf.predict_proba(x_train)\n",
    "proba_train = proba_train[:, 1]\n",
    "\n",
    "predicted_train = clf.predict(x_train)\n",
    "predicted_test = clf.predict(x_test)\n",
    "\n",
    "proba_test_y = roc_auc_score(y_test, proba_test)\n",
    "proba_train_y = roc_auc_score(y_train, proba_train)\n",
    "score_train = accuracy_score(y_train, predicted_train)\n",
    "score_test  = accuracy_score(y_test, predicted_test)\n",
    "print('DesicionTreeClassifier:')\n",
    "print(' Качество на тренировочной выборке:', score_train)\n",
    "print(' Качество на тестовой выборке:     ', score_test)\n",
    "print(' ROc AUC на тренировочной выборке: ', proba_train_y)\n",
    "print(' ROC AUC на тестовой выборке:      ', proba_test_y)\n",
    "print(confusion_matrix(y_test, predicted_test))\n",
    "# del clf\n",
    "# gc.collect()\n",
    "#=====================================================================\n",
    "print(f'RandomForestClassifier:   {dt.now().strftime(\"%Y-%m-%d %H:%M:%S\")}')\n",
    "from sklearn.ensemble import RandomForestClassifier\n",
    "\n",
    "forest = RandomForestClassifier(class_weight='balanced', n_estimators=1000, n_jobs=-1, random_state=42)\n",
    "forest.fit(x_train, y_train)\n",
    "\n",
    "proba_test = forest.predict_proba(x_test)\n",
    "proba_test = proba_test[:,1]\n",
    "proba_train = forest.predict_proba(x_train)\n",
    "proba_train = proba_train[:, 1]\n",
    "\n",
    "\n",
    "predict_train = forest.predict(x_train)\n",
    "predict_test  = forest.predict(x_test)\n",
    "\n",
    "proba_test_y = roc_auc_score(y_test, proba_test)\n",
    "proba_train_y = roc_auc_score(y_train, proba_train)\n",
    "score_train = accuracy_score(y_train, predict_train)\n",
    "score_test  = accuracy_score(y_test,  predict_test)\n",
    "# print('\\nRandomForestClassifier:')\n",
    "print(' Качество на тренировочной выборке:', score_train)\n",
    "print(' Качество на тестовой выборке:     ', score_test)\n",
    "print(' ROc AUC на тренировочной выборке: ', proba_train_y)\n",
    "print(' ROC AUC на тестовой выборке:      ', proba_test_y)\n",
    "print(confusion_matrix(y_test, predict_test))\n",
    "# del forest\n",
    "# gc.collect()\n",
    "#=====================================================================\n",
    "print(f'\\nExtraTreeClassifier:   {dt.now().strftime(\"%Y-%m-%d %H:%M:%S\")}')\n",
    "from sklearn.ensemble import ExtraTreesClassifier\n",
    "\n",
    "extree = ExtraTreesClassifier(class_weight='balanced', random_state=42)\n",
    "extree.fit(x_train, y_train)\n",
    "\n",
    "proba_test = extree.predict_proba(x_test)\n",
    "proba_test = proba_test[:,1]\n",
    "proba_train = extree.predict_proba(x_train)\n",
    "proba_train = proba_train[:, 1]\n",
    "\n",
    "predict_train = extree.predict(x_train)\n",
    "predict_test  = extree.predict(x_test)\n",
    "\n",
    "proba_test_y = roc_auc_score(y_test, proba_test)\n",
    "proba_train_y = roc_auc_score(y_train, proba_train)\n",
    "score_train = accuracy_score(y_train, predict_train)\n",
    "score_test  = accuracy_score(y_test,  predict_test)\n",
    "# print('\\nExtraTreesClassifier:')\n",
    "print(' Качество на тренировочной выборке:', score_train)\n",
    "print(' Качество на тестовой выборке:     ', score_test)\n",
    "print(' ROc AUC на тренировочной выборке: ', proba_train_y)\n",
    "print(' ROC AUC на тестовой выборке:      ', proba_test_y)\n",
    "print(confusion_matrix(y_test, predict_test))\n",
    "\n",
    "print(f'End cell:   {dt.now().strftime(\"%Y-%m-%d %H:%M:%S\")}')"
   ]
  },
  {
   "cell_type": "markdown",
   "id": "2d9af2cd",
   "metadata": {},
   "source": [
    "Здесь осуществим подбор гиперпараметров модели"
   ]
  },
  {
   "cell_type": "code",
   "execution_count": 16,
   "id": "807d113c",
   "metadata": {},
   "outputs": [
    {
     "name": "stdout",
     "output_type": "stream",
     "text": [
      "Start cell: 2024-03-22 14:42:07\n",
      "Fitting 3 folds for each of 3900 candidates, totalling 11700 fits\n",
      "Лучшие параметры:\n",
      "\t{'class_weight': 'balanced', 'max_depth': 9, 'max_features': 'sqrt', 'min_samples_leaf': 12, 'n_estimators': 41}\n",
      "RandomForestClassifier:\n",
      " Качество на тренировочной выборке: 0.5183785714285715\n",
      " Качество на тестовой выборке:      0.5186\n",
      " ROc AUC на тренировочной выборке:  0.7127831771003171\n",
      " ROC AUC на тестовой выборке:       0.6885683629748678\n",
      "[[29836 28457]\n",
      " [  427  1280]]\n",
      "CPU times: total: 1min 48s\n",
      "Wall time: 48min 37s\n"
     ]
    }
   ],
   "source": [
    "%%time\n",
    "print(f'Start cell: {dt.now().strftime(\"%Y-%m-%d %H:%M:%S\")}')\n",
    "from sklearn.model_selection import GridSearchCV\n",
    "\n",
    "params_forest = {\n",
    "    'class_weight': ['balanced'],\n",
    "    'n_estimators': list(range(25, 45)),\n",
    "    'max_depth': list(range(5, 10)),\n",
    "    'min_samples_leaf': list(range(12, 25)),\n",
    "    'max_features': ['sqrt', 'log2', None]\n",
    "}\n",
    "\n",
    "\n",
    "forest = RandomForestClassifier(random_state=42)\n",
    "\n",
    "grid_search = GridSearchCV(\n",
    "    estimator=forest,\n",
    "    param_grid=params_forest,\n",
    "    cv=3,\n",
    "    scoring='roc_auc',\n",
    "    verbose=1,\n",
    "    n_jobs=-1\n",
    ")\n",
    "\n",
    "grid_search.fit(x_train, y_train)\n",
    "best_params = grid_search.best_params_\n",
    "print(f'Лучшие параметры:\\n\\t{best_params}')\n",
    "\n",
    "forest_tuned = RandomForestClassifier(\n",
    "    class_weight=     'balanced',\n",
    "    n_estimators=     best_params['n_estimators'],\n",
    "    max_depth=        best_params['max_depth'],\n",
    "    min_samples_leaf= best_params['min_samples_leaf'],\n",
    "    max_features=     best_params['max_features']\n",
    ")\n",
    "\n",
    "forest_tuned.fit(x_train, y_train)\n",
    "proba_test = forest_tuned.predict_proba(x_test)\n",
    "proba_test = proba_test[:,1]\n",
    "proba_train = forest_tuned.predict_proba(x_train)\n",
    "proba_train = proba_train[:, 1]\n",
    "\n",
    "\n",
    "predict_train = forest_tuned.predict(x_train)\n",
    "predict_test  = forest_tuned.predict(x_test)\n",
    "\n",
    "proba_test_y = roc_auc_score(y_test, proba_test)\n",
    "proba_train_y = roc_auc_score(y_train, proba_train)\n",
    "score_train = accuracy_score(y_train, predict_train)\n",
    "score_test  = accuracy_score(y_test,  predict_test)\n",
    "print('RandomForestClassifier:')\n",
    "print(' Качество на тренировочной выборке:', score_train)\n",
    "print(' Качество на тестовой выборке:     ', score_test)\n",
    "print(' ROc AUC на тренировочной выборке: ', proba_train_y)\n",
    "print(' ROC AUC на тестовой выборке:      ', proba_test_y)\n",
    "print(confusion_matrix(y_test, predict_test))"
   ]
  },
  {
   "cell_type": "code",
   "execution_count": 17,
   "id": "91e1d813",
   "metadata": {},
   "outputs": [
    {
     "name": "stdout",
     "output_type": "stream",
     "text": [
      "Start cell: 2024-03-22 15:30:45\n",
      "Fitting 3 folds for each of 4140 candidates, totalling 12420 fits\n",
      "Лучшие параметры:\n",
      "\t{'class_weight': 'balanced', 'criterion': 'entropy', 'max_depth': 10, 'max_features': None, 'min_samples_leaf': 27, 'splitter': 'best'}\n",
      "DecisionTreeClassifier:\n",
      " Качество на тренировочной выборке: 0.49860714285714286\n",
      " Качество на тестовой выборке:      0.5001166666666667\n",
      " ROc AUC на тренировочной выборке:  0.7050973672180744\n",
      " ROC AUC на тестовой выборке:       0.6795724216083888\n",
      "[[28715 29578]\n",
      " [  415  1292]]\n",
      "CPU times: total: 1min 11s\n",
      "Wall time: 2min 23s\n"
     ]
    }
   ],
   "source": [
    "%%time\n",
    "print(f'Start cell: {dt.now().strftime(\"%Y-%m-%d %H:%M:%S\")}')\n",
    "# from sklearn.model_selection import GridSearchCV\n",
    "\n",
    "params_dtc = {\n",
    "    'class_weight': ['balanced'],\n",
    "    'criterion': ['gini', 'entropy', 'log_loss'],\n",
    "    'splitter': ['best', 'randoms'],\n",
    "    'max_depth': list(range(5, 15)),\n",
    "    'min_samples_leaf': list(range(12, 35)),\n",
    "    'max_features': ['sqrt', 'log2', None]\n",
    "}\n",
    "\n",
    "\n",
    "dtc = DecisionTreeClassifier(random_state=42)\n",
    "\n",
    "grid_search = GridSearchCV(\n",
    "    estimator=dtc,\n",
    "    param_grid=params_dtc,\n",
    "    cv=3,\n",
    "    scoring='roc_auc',\n",
    "    verbose=1,\n",
    "    n_jobs=-1\n",
    ")\n",
    "\n",
    "grid_search.fit(x_train, y_train)\n",
    "best_params = grid_search.best_params_\n",
    "print(f'Лучшие параметры:\\n\\t{best_params}')\n",
    "\n",
    "dtc_tuned = DecisionTreeClassifier(\n",
    "    class_weight=     'balanced',\n",
    "    max_depth=        best_params['max_depth'],\n",
    "    min_samples_leaf= best_params['min_samples_leaf'],\n",
    "    max_features=     best_params['max_features'],\n",
    "    criterion=        best_params['criterion'],\n",
    "    splitter=         best_params['splitter']\n",
    ")\n",
    "\n",
    "dtc_tuned.fit(x_train, y_train)\n",
    "proba_test = dtc_tuned.predict_proba(x_test)\n",
    "proba_test = proba_test[:,1]\n",
    "proba_train = dtc_tuned.predict_proba(x_train)\n",
    "proba_train = proba_train[:, 1]\n",
    "\n",
    "\n",
    "predict_train = dtc_tuned.predict(x_train)\n",
    "predict_test  = dtc_tuned.predict(x_test)\n",
    "\n",
    "proba_test_y = roc_auc_score(y_test, proba_test)\n",
    "proba_train_y = roc_auc_score(y_train, proba_train)\n",
    "score_train = accuracy_score(y_train, predict_train)\n",
    "score_test  = accuracy_score(y_test,  predict_test)\n",
    "print('DecisionTreeClassifier:')\n",
    "print(' Качество на тренировочной выборке:', score_train)\n",
    "print(' Качество на тестовой выборке:     ', score_test)\n",
    "print(' ROc AUC на тренировочной выборке: ', proba_train_y)\n",
    "print(' ROC AUC на тестовой выборке:      ', proba_test_y)\n",
    "print(confusion_matrix(y_test, predict_test))"
   ]
  },
  {
   "cell_type": "code",
   "execution_count": 18,
   "id": "1ba30cff",
   "metadata": {},
   "outputs": [
    {
     "name": "stdout",
     "output_type": "stream",
     "text": [
      "Start cell: 2024-03-22 15:33:08\n",
      "Fitting 3 folds for each of 2070 candidates, totalling 6210 fits\n",
      "Лучшие параметры:\n",
      "\t{'class_weight': 'balanced', 'criterion': 'entropy', 'max_depth': 12, 'max_features': None, 'min_samples_leaf': 20}\n",
      "ExtraTreesClassifier:\n",
      " Качество на тренировочной выборке: 0.5102857142857142\n",
      " Качество на тестовой выборке:      0.5109166666666667\n",
      " ROc AUC на тренировочной выборке:  0.7147519810021212\n",
      " ROC AUC на тестовой выборке:       0.690092313991725\n",
      "[[29351 28942]\n",
      " [  403  1304]]\n",
      "CPU times: total: 1min 18s\n",
      "Wall time: 46min 27s\n"
     ]
    }
   ],
   "source": [
    "%%time\n",
    "print(f'Start cell: {dt.now().strftime(\"%Y-%m-%d %H:%M:%S\")}')\n",
    "# from sklearn.model_selection import GridSearchCV\n",
    "\n",
    "params_extree = {\n",
    "    'class_weight': ['balanced'],\n",
    "    'criterion': ['gini', 'entropy', 'log_loss'],\n",
    "#     'splitter': ['best', 'randoms'],\n",
    "    'max_depth': list(range(5, 15)),\n",
    "    'min_samples_leaf': list(range(12, 35)),\n",
    "    'max_features': ['sqrt', 'log2', None]\n",
    "}\n",
    "\n",
    "\n",
    "extree = ExtraTreesClassifier(random_state=42)\n",
    "\n",
    "grid_search = GridSearchCV(\n",
    "    estimator=extree,\n",
    "    param_grid=params_extree,\n",
    "    cv=3,\n",
    "    scoring='roc_auc',\n",
    "    verbose=1,\n",
    "    n_jobs=-1\n",
    ")\n",
    "\n",
    "grid_search.fit(x_train, y_train)\n",
    "best_params = grid_search.best_params_\n",
    "print(f'Лучшие параметры:\\n\\t{best_params}')\n",
    "\n",
    "extree_tuned = ExtraTreesClassifier(\n",
    "    class_weight=     'balanced',\n",
    "    max_depth=        best_params['max_depth'],\n",
    "    min_samples_leaf= best_params['min_samples_leaf'],\n",
    "    max_features=     best_params['max_features'],\n",
    "    criterion=        best_params['criterion']\n",
    "#     splitter=         best_params['splitter']\n",
    ")\n",
    "\n",
    "extree_tuned.fit(x_train, y_train)\n",
    "proba_test = extree_tuned.predict_proba(x_test)\n",
    "proba_test = proba_test[:,1]\n",
    "proba_train = extree_tuned.predict_proba(x_train)\n",
    "proba_train = proba_train[:, 1]\n",
    "\n",
    "    \n",
    "predict_train = extree_tuned.predict(x_train)\n",
    "predict_test  = extree_tuned.predict(x_test)\n",
    "\n",
    "proba_test_y = roc_auc_score(y_test, proba_test)\n",
    "proba_train_y = roc_auc_score(y_train, proba_train)\n",
    "score_train = accuracy_score(y_train, predict_train)\n",
    "score_test  = accuracy_score(y_test,  predict_test)\n",
    "print('ExtraTreesClassifier:')\n",
    "print(' Качество на тренировочной выборке:', score_train)\n",
    "print(' Качество на тестовой выборке:     ', score_test)\n",
    "print(' ROc AUC на тренировочной выборке: ', proba_train_y)\n",
    "print(' ROC AUC на тестовой выборке:      ', proba_test_y)\n",
    "print(confusion_matrix(y_test, predict_test))"
   ]
  },
  {
   "cell_type": "code",
   "execution_count": 20,
   "id": "ff605432",
   "metadata": {},
   "outputs": [
    {
     "data": {
      "text/html": [
       "<div>\n",
       "<style scoped>\n",
       "    .dataframe tbody tr th:only-of-type {\n",
       "        vertical-align: middle;\n",
       "    }\n",
       "\n",
       "    .dataframe tbody tr th {\n",
       "        vertical-align: top;\n",
       "    }\n",
       "\n",
       "    .dataframe thead th {\n",
       "        text-align: right;\n",
       "    }\n",
       "</style>\n",
       "<table border=\"1\" class=\"dataframe\">\n",
       "  <thead>\n",
       "    <tr style=\"text-align: right;\">\n",
       "      <th></th>\n",
       "      <th>utm_source</th>\n",
       "      <th>utm_medium</th>\n",
       "      <th>utm_campaign</th>\n",
       "      <th>utm_adcontent</th>\n",
       "      <th>device_os</th>\n",
       "      <th>geo_city</th>\n",
       "    </tr>\n",
       "  </thead>\n",
       "  <tbody>\n",
       "    <tr>\n",
       "      <th>0</th>\n",
       "      <td>0.034365</td>\n",
       "      <td>0.023561</td>\n",
       "      <td>0.036428</td>\n",
       "      <td>0.028833</td>\n",
       "      <td>0.036477</td>\n",
       "      <td>0.026002</td>\n",
       "    </tr>\n",
       "    <tr>\n",
       "      <th>1</th>\n",
       "      <td>0.028350</td>\n",
       "      <td>0.028405</td>\n",
       "      <td>0.029412</td>\n",
       "      <td>0.035560</td>\n",
       "      <td>0.030237</td>\n",
       "      <td>0.031275</td>\n",
       "    </tr>\n",
       "    <tr>\n",
       "      <th>2</th>\n",
       "      <td>0.028350</td>\n",
       "      <td>0.028405</td>\n",
       "      <td>0.034098</td>\n",
       "      <td>0.035560</td>\n",
       "      <td>0.026747</td>\n",
       "      <td>0.026002</td>\n",
       "    </tr>\n",
       "    <tr>\n",
       "      <th>3</th>\n",
       "      <td>0.034365</td>\n",
       "      <td>0.023561</td>\n",
       "      <td>0.036428</td>\n",
       "      <td>0.028833</td>\n",
       "      <td>0.030237</td>\n",
       "      <td>0.022816</td>\n",
       "    </tr>\n",
       "    <tr>\n",
       "      <th>4</th>\n",
       "      <td>0.061241</td>\n",
       "      <td>0.060064</td>\n",
       "      <td>0.043804</td>\n",
       "      <td>0.035560</td>\n",
       "      <td>0.026747</td>\n",
       "      <td>0.031275</td>\n",
       "    </tr>\n",
       "  </tbody>\n",
       "</table>\n",
       "</div>"
      ],
      "text/plain": [
       "   utm_source  utm_medium  utm_campaign  utm_adcontent  device_os  geo_city\n",
       "0    0.034365    0.023561      0.036428       0.028833   0.036477  0.026002\n",
       "1    0.028350    0.028405      0.029412       0.035560   0.030237  0.031275\n",
       "2    0.028350    0.028405      0.034098       0.035560   0.026747  0.026002\n",
       "3    0.034365    0.023561      0.036428       0.028833   0.030237  0.022816\n",
       "4    0.061241    0.060064      0.043804       0.035560   0.026747  0.031275"
      ]
     },
     "execution_count": 20,
     "metadata": {},
     "output_type": "execute_result"
    }
   ],
   "source": [
    "x.head()"
   ]
  },
  {
   "cell_type": "code",
   "execution_count": null,
   "id": "6055a897",
   "metadata": {},
   "outputs": [],
   "source": []
  }
 ],
 "metadata": {
  "kernelspec": {
   "display_name": "Python 3 (ipykernel)",
   "language": "python",
   "name": "python3"
  },
  "language_info": {
   "codemirror_mode": {
    "name": "ipython",
    "version": 3
   },
   "file_extension": ".py",
   "mimetype": "text/x-python",
   "name": "python",
   "nbconvert_exporter": "python",
   "pygments_lexer": "ipython3",
   "version": "3.10.10"
  }
 },
 "nbformat": 4,
 "nbformat_minor": 5
}
