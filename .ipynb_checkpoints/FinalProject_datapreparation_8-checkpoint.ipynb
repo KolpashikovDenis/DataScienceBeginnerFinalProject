{
 "cells": [
  {
   "cell_type": "markdown",
   "id": "548b31a1",
   "metadata": {},
   "source": [
    "В данном блокноте удаляю дубликаты session_id, причём те, у которых target_event = 0"
   ]
  },
  {
   "cell_type": "code",
   "execution_count": 6,
   "id": "473a79aa",
   "metadata": {},
   "outputs": [],
   "source": [
    "# ===================== DEFINITION FUNCTIONS ==========================================\n",
    "def view_occupancy(df):\n",
    "    length = len(df)\n",
    "    dic = dict()\n",
    "    for col in df.columns:\n",
    "        percent_filled = (length-df[col].isna().sum())/length\n",
    "        dic[col] = percent_filled\n",
    "\n",
    "    dic = sorted(dic.items(), key=lambda x: x[1], reverse=True)\n",
    "    for k, v in dic:\n",
    "        print('{}: {:.3f}%, {}'.format(k, v*100, df[k].isna().sum()))\n",
    "\n",
    "# =====================================================================================\n",
    "\n",
    "import pandas as pd\n",
    "import numpy as np\n",
    "from sklearn.preprocessing import OneHotEncoder\n",
    "from warnings import filterwarnings\n",
    "import matplotlib.pyplot as plt\n",
    "from ydata_profiling import ProfileReport\n",
    "plt.style.use('dark_background')\n",
    "\n",
    "filterwarnings('ignore')\n",
    "\n",
    "%store -r df\n",
    "\n",
    "# для этого датафрейма \n",
    "#df = df.sample(frac=1).reset_index(drop=True)\n",
    "#df = df.sample(n=50000).reset_index(drop=True)\n",
    "\n",
    "res = df[~((df.duplicated(['session_id'])) & (df['target_event']==0) )]\n",
    "# for col in res.columns:\n",
    "#     res[col] = res[col].fillna('unknown')\n",
    "\n",
    "tmp = res.drop(['session_id', 'client_id'], axis=1)\n",
    "tmp = tmp.sample(n=200000).reset_index(drop=True)"
   ]
  },
  {
   "cell_type": "code",
   "execution_count": null,
   "id": "fce1f119",
   "metadata": {},
   "outputs": [],
   "source": [
    "report = ProfileReport(tmp, title=\"Binary Classification with a Bank Churn Dataset\", explorative=True)\n",
    "report.to_widgets()"
   ]
  },
  {
   "cell_type": "code",
   "execution_count": 7,
   "id": "0bee5ded",
   "metadata": {},
   "outputs": [
    {
     "name": "stdout",
     "output_type": "stream",
     "text": [
      "visit_date: 100.000%, 0\n",
      "visit_time: 100.000%, 0\n",
      "visit_number: 100.000%, 0\n",
      "utm_medium: 100.000%, 0\n",
      "device_category: 100.000%, 0\n",
      "device_screen_resolution: 100.000%, 0\n",
      "device_browser: 100.000%, 0\n",
      "geo_country: 100.000%, 0\n",
      "geo_city: 100.000%, 0\n",
      "hit_page_path: 100.000%, 0\n",
      "target_event: 100.000%, 0\n",
      "utm_source: 99.999%, 3\n",
      "utm_campaign: 88.499%, 23002\n",
      "utm_adcontent: 82.337%, 35327\n",
      "device_brand: 79.785%, 40431\n",
      "device_os: 41.047%, 117907\n",
      "utm_keyword: 40.652%, 118696\n",
      "device_model: 0.878%, 198243\n"
     ]
    }
   ],
   "source": [
    "view_occupancy(tmp)"
   ]
  },
  {
   "cell_type": "code",
   "execution_count": 8,
   "id": "25ecdba4",
   "metadata": {},
   "outputs": [],
   "source": [
    "tmp[['utm_source', 'utm_campaign', 'utm_adcontent', 'device_brand']] = tmp[['utm_source', 'utm_campaign', 'utm_adcontent', 'device_brand']].fillna('other')"
   ]
  },
  {
   "cell_type": "code",
   "execution_count": 9,
   "id": "1cdfa656",
   "metadata": {},
   "outputs": [
    {
     "name": "stdout",
     "output_type": "stream",
     "text": [
      "visit_date: 100.000%, 0\n",
      "visit_time: 100.000%, 0\n",
      "visit_number: 100.000%, 0\n",
      "utm_source: 100.000%, 0\n",
      "utm_medium: 100.000%, 0\n",
      "utm_campaign: 100.000%, 0\n",
      "utm_adcontent: 100.000%, 0\n",
      "device_category: 100.000%, 0\n",
      "device_brand: 100.000%, 0\n",
      "device_screen_resolution: 100.000%, 0\n",
      "device_browser: 100.000%, 0\n",
      "geo_country: 100.000%, 0\n",
      "geo_city: 100.000%, 0\n",
      "hit_page_path: 100.000%, 0\n",
      "target_event: 100.000%, 0\n",
      "device_os: 41.047%, 117907\n",
      "utm_keyword: 40.652%, 118696\n",
      "device_model: 0.878%, 198243\n"
     ]
    }
   ],
   "source": [
    "view_occupancy(tmp)"
   ]
  },
  {
   "cell_type": "code",
   "execution_count": 10,
   "id": "e5303b78",
   "metadata": {},
   "outputs": [],
   "source": [
    "res['visit_time'] = pd.to_datetime(res['visit_time'])\n",
    "res['hour'] = res['visit_time'].apply(lambda x: int(x.hour))\n",
    "\n",
    "res['visit_date'] = pd.to_datetime(res['visit_date'])\n",
    "res['month'] = res['visit_date'].apply(lambda x: int(x.month))"
   ]
  },
  {
   "cell_type": "code",
   "execution_count": 15,
   "id": "63724a1c",
   "metadata": {
    "scrolled": false
   },
   "outputs": [
    {
     "data": {
      "image/png": "[encoded data removed]",
      "text/plain": [
       "<Figure size 720x504 with 1 Axes>"
      ]
     },
     "metadata": {
      "needs_background": "dark"
     },
     "output_type": "display_data"
    }
   ],
   "source": [
    "df_plt = res.groupby(['month'])['target_event'].mean().to_frame().reset_index()\n",
    "plt.figure(figsize=(10,7))\n",
    "plt.scatter(df_plt['month'], df_plt['target_event'])\n",
    "plt.title(\"Зависимость целевого действия от месяца\")\n",
    "plt.xlabel('Месяц')\n",
    "plt.ylabel('Целевое действие')\n",
    "\n",
    "plt.show();"
   ]
  },
  {
   "cell_type": "code",
   "execution_count": 11,
   "id": "3be08118",
   "metadata": {},
   "outputs": [],
   "source": [
    "source_features = ['QxAxdyPLuQMEcrdZWdWb', 'MvfHsxITijuriZxsqZqt', 'ISrKoXQCxqqYvAZICvjs', \n",
    "                   'IZEXUFLARCUMynmHNBGo', 'PlbkrSYoHuZBWfYjYnfw', 'gVRrcxiDQubJiljoTbGm']\n",
    "res['utm_source'] = res['utm_source'].fillna('0')\n",
    "res['utm_source'] = res['utm_source'].apply(lambda x: 1 if x in source_features else 0).astype(np.int8)"
   ]
  },
  {
   "cell_type": "code",
   "execution_count": 16,
   "id": "36ea33c7",
   "metadata": {},
   "outputs": [
    {
     "data": {
      "image/png": "[encoded data removed]",
      "text/plain": [
       "<Figure size 432x288 with 1 Axes>"
      ]
     },
     "metadata": {
      "needs_background": "dark"
     },
     "output_type": "display_data"
    }
   ],
   "source": [
    "df_plt = res.groupby(['utm_source'])['target_event'].mean().to_frame().reset_index()\n",
    "\n",
    "plt.figure()\n",
    "plt.scatter(df_plt['utm_source'], df_plt['target_event'])\n",
    "plt.title(\"Зависимость целевого действия от использования соцсетей\")\n",
    "plt.xlabel('Использование соцсетей')\n",
    "plt.ylabel('Целевое действие')\n",
    "\n",
    "plt.show();"
   ]
  },
  {
   "cell_type": "code",
   "execution_count": 12,
   "id": "97e7c4ce",
   "metadata": {},
   "outputs": [],
   "source": [
    "res['utm_keyword'] = res.utm_keyword.fillna('0')\n",
    "res['utm_keyword'] = res['utm_keyword'].apply(lambda a: 0 if a == '0' else 1).astype(np.int8)"
   ]
  },
  {
   "cell_type": "code",
   "execution_count": 17,
   "id": "89d551f8",
   "metadata": {},
   "outputs": [
    {
     "data": {
      "image/png": "[encoded data removed]",
      "text/plain": [
       "<Figure size 432x288 with 1 Axes>"
      ]
     },
     "metadata": {
      "needs_background": "dark"
     },
     "output_type": "display_data"
    }
   ],
   "source": [
    "df_plt = res.groupby(['utm_keyword'])['target_event'].mean().to_frame().reset_index()\n",
    "\n",
    "plt.figure()\n",
    "plt.scatter(df_plt['utm_keyword'], df_plt['target_event'])\n",
    "plt.title(\"Зависимость целевого действия от использования соцсетей\")\n",
    "plt.xlabel('Использование соцсетей')\n",
    "plt.ylabel('Целевое действие')\n",
    "\n",
    "plt.show();"
   ]
  },
  {
   "cell_type": "code",
   "execution_count": 13,
   "id": "e83341c9",
   "metadata": {},
   "outputs": [],
   "source": [
    "utm_medium_type = ['organic', 'referral', '(none)']\n",
    "# res['utm_medium_type'] = res['utm_medium'].apply(lambda x: 'organic' if x in ['organic', 'referral', '(none)'] else 'paid_traffic')\n",
    "res['utm_medium'] = res['utm_medium'].apply(lambda x: 1 if x in utm_medium_type else 0)"
   ]
  },
  {
   "cell_type": "code",
   "execution_count": 18,
   "id": "a254325a",
   "metadata": {},
   "outputs": [
    {
     "data": {
      "image/png": "[encoded data removed]",
      "text/plain": [
       "<Figure size 432x288 with 1 Axes>"
      ]
     },
     "metadata": {
      "needs_background": "dark"
     },
     "output_type": "display_data"
    }
   ],
   "source": [
    "df_plt = res.groupby(['utm_medium'])['target_event'].mean().to_frame().reset_index()\n",
    "\n",
    "plt.figure()\n",
    "plt.scatter(df_plt['utm_medium'], df_plt['target_event'])\n",
    "plt.title(\"Зависимость целевого действия от использования соцсетей\")\n",
    "plt.xlabel('Использование соцсетей')\n",
    "plt.ylabel('Целевое действие')\n",
    "\n",
    "plt.show();"
   ]
  },
  {
   "cell_type": "code",
   "execution_count": 14,
   "id": "f0022298",
   "metadata": {},
   "outputs": [],
   "source": [
    "res['utm_campaign'] = res['utm_campaign'].fillna('0')\n",
    "res['utm_campaign'] = res['utm_campaign'].apply(lambda a: 0 if a == '0' else 1).astype(np.int8)"
   ]
  },
  {
   "cell_type": "code",
   "execution_count": 19,
   "id": "c111ff9c",
   "metadata": {},
   "outputs": [
    {
     "data": {
      "image/png": "[encoded data removed]",
      "text/plain": [
       "<Figure size 432x288 with 1 Axes>"
      ]
     },
     "metadata": {
      "needs_background": "dark"
     },
     "output_type": "display_data"
    }
   ],
   "source": [
    "df_plt = res.groupby(['utm_campaign'])['target_event'].mean().to_frame().reset_index()\n",
    "\n",
    "plt.figure()\n",
    "plt.scatter(df_plt['utm_campaign'], df_plt['target_event'])\n",
    "plt.title(\"Зависимость целевого действия от использования соцсетей\")\n",
    "plt.xlabel('Использование соцсетей')\n",
    "plt.ylabel('Целевое действие')\n",
    "\n",
    "plt.show();"
   ]
  },
  {
   "cell_type": "code",
   "execution_count": null,
   "id": "e08f71f1",
   "metadata": {},
   "outputs": [],
   "source": []
  }
 ],
 "metadata": {
  "kernelspec": {
   "display_name": "Python 3 (ipykernel)",
   "language": "python",
   "name": "python3"
  },
  "language_info": {
   "codemirror_mode": {
    "name": "ipython",
    "version": 3
   },
   "file_extension": ".py",
   "mimetype": "text/x-python",
   "name": "python",
   "nbconvert_exporter": "python",
   "pygments_lexer": "ipython3",
   "version": "3.10.10"
  }
 },
 "nbformat": 4,
 "nbformat_minor": 5
}
