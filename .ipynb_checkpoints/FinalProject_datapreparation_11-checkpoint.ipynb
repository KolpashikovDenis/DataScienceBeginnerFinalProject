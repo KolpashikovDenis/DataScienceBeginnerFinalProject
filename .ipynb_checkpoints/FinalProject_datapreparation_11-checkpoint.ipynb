{
 "cells": [
  {
   "cell_type": "code",
   "execution_count": 1,
   "id": "15773ba4",
   "metadata": {},
   "outputs": [],
   "source": [
    "import pandas as pd\n",
    "import numpy as np\n",
    "from sklearn.preprocessing import OneHotEncoder\n",
    "from warnings import filterwarnings\n",
    "import matplotlib.pyplot as plt\n",
    "import seaborn as sns\n",
    "plt.style.use('dark_background')\n",
    "\n",
    "filterwarnings('ignore')\n",
    "\n",
    "%store -r df\n",
    "\n",
    "res = df[~((df.duplicated(['session_id'])) & (df['target_event']==0) )]\n",
    "res = res.sample(n=200000).reset_index(drop=True)\n",
    "for col in res.columns:\n",
    "    res[col] = res[col].fillna('unknown')\n",
    "    \n",
    "drop_features=['session_id', 'client_id', 'visit_time', 'visit_number', 'device_model', 'device_screen_resolution', 'utm_keyword']\n",
    "res = res.drop(drop_features, axis=1)\n",
    "res['target_event'] = res['target_event'].astype(np.int8)"
   ]
  },
  {
   "cell_type": "code",
   "execution_count": 2,
   "id": "d3a981a6",
   "metadata": {},
   "outputs": [
    {
     "name": "stdout",
     "output_type": "stream",
     "text": [
      "visit_date: 100.000%, 0\n",
      "utm_source: 100.000%, 0\n",
      "utm_medium: 100.000%, 0\n",
      "utm_campaign: 100.000%, 0\n",
      "utm_adcontent: 100.000%, 0\n",
      "device_category: 100.000%, 0\n",
      "device_os: 100.000%, 0\n",
      "device_brand: 100.000%, 0\n",
      "device_browser: 100.000%, 0\n",
      "geo_country: 100.000%, 0\n",
      "geo_city: 100.000%, 0\n",
      "target_event: 100.000%, 0\n"
     ]
    }
   ],
   "source": [
    "def view_occupancy(df):\n",
    "    length = len(df)\n",
    "    dic = dict()\n",
    "    for col in df.columns:\n",
    "        percent_filled = (length-df[col].isna().sum())/length\n",
    "        dic[col] = percent_filled\n",
    "\n",
    "    dic = sorted(dic.items(), key=lambda x: x[1], reverse=True)\n",
    "    for k, v in dic:\n",
    "        print('{}: {:.3f}%, {}'.format(k, v*100, df[k].isna().sum()))\n",
    "\n",
    "view_occupancy(res)"
   ]
  },
  {
   "cell_type": "code",
   "execution_count": 3,
   "id": "bf968d37",
   "metadata": {},
   "outputs": [],
   "source": [
    "def change_feature(x):\n",
    "    grouped = res.groupby([x])['target_event'].mean().to_frame().reset_index()\n",
    "    res[x]=res[x].apply(lambda a: grouped.loc[grouped[x]==a, 'target_event'].iloc[0])\n",
    "    res[x]=res[x].astype(np.float64)"
   ]
  },
  {
   "cell_type": "code",
   "execution_count": 4,
   "id": "5f9c5597",
   "metadata": {},
   "outputs": [],
   "source": [
    "res['visit_date'] = pd.to_datetime(res['visit_date'])\n",
    "res['month'] = res['visit_date'].apply(lambda x: int(x.month)).astype(np.int8)\n",
    "res = res.drop(['visit_date'], axis=1)"
   ]
  },
  {
   "cell_type": "code",
   "execution_count": 5,
   "id": "4a21f35f",
   "metadata": {},
   "outputs": [],
   "source": [
    "source_features = ['QxAxdyPLuQMEcrdZWdWb', 'MvfHsxITijuriZxsqZqt', 'ISrKoXQCxqqYvAZICvjs', \n",
    "                   'IZEXUFLARCUMynmHNBGo', 'PlbkrSYoHuZBWfYjYnfw', 'gVRrcxiDQubJiljoTbGm']\n",
    "res['utm_source'] = res['utm_source'].fillna('0')\n",
    "res['utm_source'] = res['utm_source'].apply(lambda x: 1 if x in source_features else 0).astype(np.int8)"
   ]
  },
  {
   "cell_type": "code",
   "execution_count": 6,
   "id": "46be7f5f",
   "metadata": {},
   "outputs": [],
   "source": [
    "utm_medium_type = ['organic', 'referral', '(none)']\n",
    "res['utm_medium'] = res['utm_medium'].apply(lambda x: 1 if x in utm_medium_type else 0).astype(np.int8)"
   ]
  },
  {
   "cell_type": "code",
   "execution_count": 7,
   "id": "e5e14a97",
   "metadata": {},
   "outputs": [],
   "source": [
    "# res['utm_campaign'] = res['utm_campaign'].apply(lambda a: 0 if a=='unknown' else 1).astype(np.int8)"
   ]
  },
  {
   "cell_type": "code",
   "execution_count": null,
   "id": "9f8ecec7",
   "metadata": {},
   "outputs": [],
   "source": [
    "change_feature('utm_campaign')\n",
    "change_feature('utm_adcontent')\n",
    "change_feature('device_category')"
   ]
  },
  {
   "cell_type": "code",
   "execution_count": null,
   "id": "ca9d3949",
   "metadata": {},
   "outputs": [],
   "source": [
    "res['device_os'] = res['device_os'].apply(lambda a: 1 if a in ['Android', 'iOS'] else 0).astype(np.int8)"
   ]
  },
  {
   "cell_type": "code",
   "execution_count": null,
   "id": "bf738ab5",
   "metadata": {},
   "outputs": [],
   "source": [
    "res['device_brand'] = res['device_brand'].fillna('other')\n",
    "res['device_brand'] = res['device_brand'].apply(lambda a: 1 if a != 'Apple' else 0).astype(np.int8)"
   ]
  },
  {
   "cell_type": "code",
   "execution_count": null,
   "id": "4c2f6a71",
   "metadata": {},
   "outputs": [],
   "source": [
    "def foo_browser(x):\n",
    "    t = 0\n",
    "    if x in ['Chrome', 'Safari', 'YaBrowser']:\n",
    "        t = 2\n",
    "    elif x in ['Safari (in-app)', 'Android Webview', 'Samsung Internet']:\n",
    "        t = 1\n",
    "    else:\n",
    "        t = 0\n",
    "    return t\n",
    "\n",
    "res['device_browser'] = res['device_browser'].apply(lambda x: foo_browser(x)).astype(np.int8)"
   ]
  },
  {
   "cell_type": "code",
   "execution_count": null,
   "id": "4d38a13b",
   "metadata": {},
   "outputs": [],
   "source": [
    "res['geo_country'] = res['geo_country'].apply(lambda x: 1 if x=='Russia' else 0).astype(np.int8)"
   ]
  },
  {
   "cell_type": "code",
   "execution_count": null,
   "id": "0e8aecfa",
   "metadata": {},
   "outputs": [],
   "source": [
    "res['geo_city'] = res['geo_city'].apply(lambda a: 1 if a in ['Moscow', 'Saint Petersburg'] else 0).astype(np.int8)"
   ]
  },
  {
   "cell_type": "code",
   "execution_count": null,
   "id": "e12ec538",
   "metadata": {},
   "outputs": [],
   "source": [
    "# res.info()"
   ]
  },
  {
   "cell_type": "code",
   "execution_count": null,
   "id": "3680da38",
   "metadata": {},
   "outputs": [],
   "source": [
    "fit, ax = plt.subplots(figsize=(15, 15))\n",
    "sns.heatmap(res, ax=ax)"
   ]
  },
  {
   "cell_type": "code",
   "execution_count": null,
   "id": "8869383f",
   "metadata": {},
   "outputs": [],
   "source": [
    "corr_matrix = res.corr()\n",
    "corr_matrix[\"target_event\"].sort_values(ascending=False)"
   ]
  },
  {
   "cell_type": "code",
   "execution_count": null,
   "id": "0ef68045",
   "metadata": {},
   "outputs": [],
   "source": []
  }
 ],
 "metadata": {
  "kernelspec": {
   "display_name": "Python 3 (ipykernel)",
   "language": "python",
   "name": "python3"
  },
  "language_info": {
   "codemirror_mode": {
    "name": "ipython",
    "version": 3
   },
   "file_extension": ".py",
   "mimetype": "text/x-python",
   "name": "python",
   "nbconvert_exporter": "python",
   "pygments_lexer": "ipython3",
   "version": "3.10.10"
  }
 },
 "nbformat": 4,
 "nbformat_minor": 5
}
