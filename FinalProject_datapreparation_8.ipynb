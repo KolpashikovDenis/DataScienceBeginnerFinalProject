{
 "cells": [
  {
   "cell_type": "code",
   "execution_count": 1,
   "id": "ea9ae0b9",
   "metadata": {},
   "outputs": [],
   "source": [
    "import pandas as pd\n",
    "import numpy as np\n",
    "from sklearn.preprocessing import OneHotEncoder\n",
    "from warnings import filterwarnings\n",
    "import matplotlib.pyplot as plt\n",
    "import seaborn as sns\n",
    "plt.style.use('dark_background')\n",
    "\n",
    "filterwarnings('ignore')\n",
    "\n",
    "%store -r df\n",
    "\n",
    "res = df[~((df.duplicated(['session_id'])) & (df['target_event']==0) )]\n",
    "res = res.sample(n=200000).reset_index(drop=True)\n",
    "for col in res.columns:\n",
    "    res[col] = res[col].fillna('unknown')\n",
    "    \n",
    "useful_features = [\n",
    "    #'visit_date', \n",
    "    'utm_source', 'utm_medium', 'utm_campaign', 'utm_adcontent', 'device_category',\n",
    "    'device_brand', 'device_os', 'geo_city', 'target_event'\n",
    "]\n",
    "res = res[useful_features].copy()"
   ]
  },
  {
   "cell_type": "code",
   "execution_count": 2,
   "id": "a806a955",
   "metadata": {},
   "outputs": [],
   "source": [
    "best_brands = ['Samsung', 'Xiaomi', 'Huawei', 'POCO']\n",
    "\n",
    "dev_types = ['mobile', 'tablet']\n",
    "\n",
    "android_brands = ['Xiaomi', 'Samsung', 'Huawei', 'Vivo', 'LG',\n",
    "       'BQ', 'OnePlus', 'itel', 'Asus', 'Sony', 'Android', 'OPPO',\n",
    "       'Nokia', 'Realme', 'Alcatel', 'Infinix', 'Micromax', 'Blackview',\n",
    "       'Oukitel', 'ZTE', 'Motorola', 'HOMTOM', 'Google', 'Lenovo',\n",
    "       'China Phone', 'Neffos', 'Tecno', 'DOOGEE', 'Vsmart', 'Meizu', 'Umidigi', 'Leagoo', 'Highscreen', 'Ulefone', 'HTC',\n",
    "       'Cubot', 'Symphony', 'Vestel', 'Guophone', 'Wileyfox', 'Vertex',\n",
    "       'POCO', 'TCL', 'SonyEricsson', 'Nomu', 'Prestigio',\n",
    "       'Philips', 'LeEco', 'DEXP', 'Hisense', 'Vernee', 'Tele2', 'CAT',\n",
    "       'H96', 'Kyocera', 'Inoi', 'Acer', 'Kingplay', 'Sharp',\n",
    "       'MTC', 'iNew', 'Karbonn', 'Wiko', 'Gionee', 'Digma',\n",
    "       'Yota Devices', 'Kata', 'Poptel', 'Flylion', 'AGM', 'Teclast',\n",
    "       'Fly', 'MLS', 'LeTV', 'Nuu', 'Celkon', 'Chuwi', 'Walton',\n",
    "       'Haier', 'Coolpad', 'Xiaolajiao', 'Lava', 'General Mobile',\n",
    "       'Black Fox', 'Condor', 'Razer', 'Microsoft', 'Fujitsu',\n",
    "       'Alldocube', 'ZOJI', 'Amazon', 'PPTV', 'Jiake', 'Mito', 'Oysters',\n",
    "       'NOA', 'Caterpillar', 'SenseIT', 'Verizon', 'Komu', 'BLU', 'RCA',\n",
    "       'Cube', 'AT&T', 'Tonbux', 'Dark', 'Elephone', 'T-Mobile',\n",
    "       'Smartfren', 'Billion', 'Gome', 'A1', 'MTS', 'Geotel', 'BLUBOO',\n",
    "       'Ananda', 'MediaTek', 'KingSing', 'Ark', 'Essential',\n",
    "       'Dragon Touch', 'E&L', 'Fero',  'Wigor', 'Tanix',\n",
    "       'Mlais', 'InFocus', 'Smartisan', 'Beelink', 'Unihertz', 'Orbic',\n",
    "       'Honeywell', 'Archos', 'RED', 'Sonim', 'Jiayu', 'Evertek',\n",
    "       'Leegoog', 'QMobile', 'INUI', 'Artel', 'Irbis', 'China Mobile',\n",
    "       'Flexymove', 'Olla', 'Krip', 'Star', 'UMI', 'Iris', 'Ellipsis',\n",
    "       'LTC', 'Motive', 'Advan', 'M-HORSE', 'Winnovo', 'ThL', 'Nomi',\n",
    "       'Wings Mobile', 'MXQ', 'How', 'Centric', 'Maze', 'Corn',\n",
    "       'China TVBox', 'Gretel', 'Vertu', 'Evercoss', 'teXet', 'Qbex',\n",
    "       'Panasonic', 'Tagital', 'Dell', 'Maxvi']"
   ]
  },
  {
   "cell_type": "code",
   "execution_count": 3,
   "id": "d737838f",
   "metadata": {},
   "outputs": [
    {
     "name": "stdout",
     "output_type": "stream",
     "text": [
      "CPU times: total: 2.09 s\n",
      "Wall time: 2.1 s\n"
     ]
    }
   ],
   "source": [
    "%%time\n",
    "def foo_os(x):\n",
    "    if x['device_os']=='unknown':\n",
    "        if x['device_brand'] in android_brands:\n",
    "            return 'Android'\n",
    "        elif (x['device_brand'] == 'Apple') and (x.device_category in dev_types):\n",
    "            return 'iOS'\n",
    "    elif x['device_os'] != x['device_os']:\n",
    "        if (x['device_category'] in dev_types) and (x['device_brand']=='Apple'):\n",
    "            return 'iOS'\n",
    "        elif x['device_brand'] in android_brands:\n",
    "            return 'Android'\n",
    "    else:\n",
    "        return x['device_os']\n",
    "    return x['device_os']\n",
    "    \n",
    "res['device_os'] = res.apply(lambda x: foo_os(x), axis=1)\n",
    "res = res.drop(['device_category', 'device_brand'], axis=1)"
   ]
  },
  {
   "cell_type": "code",
   "execution_count": 4,
   "id": "154effcf",
   "metadata": {},
   "outputs": [],
   "source": [
    "def change_feature(x):\n",
    "    grouped = res.groupby([x])['target_event'].mean().to_frame().reset_index()\n",
    "    res[x]=res[x].apply(lambda a: grouped.loc[grouped[x]==a, 'target_event'].iloc[0])\n",
    "    res[x]=res[x].astype(np.float64)"
   ]
  },
  {
   "cell_type": "code",
   "execution_count": 5,
   "id": "f54e188a",
   "metadata": {},
   "outputs": [],
   "source": [
    "# res['visit_date'] = pd.to_datetime(res['visit_date'])\n",
    "# res['month'] = res['visit_date'].apply(lambda x: int(x.month))\n",
    "# res = res.drop(['visit_date'], axis=1)\n",
    "\n",
    "cat_features = res.select_dtypes(include=['string', 'object', 'bool']).columns.tolist()\n",
    "for feature in cat_features:\n",
    "    change_feature(feature)\n",
    "# change_feature('month')"
   ]
  },
  {
   "cell_type": "code",
   "execution_count": 7,
   "id": "244fdcdb",
   "metadata": {},
   "outputs": [
    {
     "name": "stdout",
     "output_type": "stream",
     "text": [
      "Stored 'df_ohed' (DataFrame)\n"
     ]
    }
   ],
   "source": [
    "res.head()\n",
    "\n",
    "df_ohed = res\n",
    "%store df_ohed"
   ]
  },
  {
   "cell_type": "code",
   "execution_count": null,
   "id": "35c65786",
   "metadata": {},
   "outputs": [],
   "source": []
  }
 ],
 "metadata": {
  "kernelspec": {
   "display_name": "Python 3 (ipykernel)",
   "language": "python",
   "name": "python3"
  },
  "language_info": {
   "codemirror_mode": {
    "name": "ipython",
    "version": 3
   },
   "file_extension": ".py",
   "mimetype": "text/x-python",
   "name": "python",
   "nbconvert_exporter": "python",
   "pygments_lexer": "ipython3",
   "version": "3.10.10"
  }
 },
 "nbformat": 4,
 "nbformat_minor": 5
}
