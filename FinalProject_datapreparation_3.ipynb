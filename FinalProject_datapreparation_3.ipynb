{
 "cells": [
  {
   "cell_type": "markdown",
   "id": "548b31a1",
   "metadata": {},
   "source": [
    "В данном блокноте удаляю дубликаты session_id, причём те, у которых target_event = 0"
   ]
  },
  {
   "cell_type": "code",
   "execution_count": 1,
   "id": "473a79aa",
   "metadata": {},
   "outputs": [],
   "source": [
    "import pandas as pd\n",
    "import numpy as np\n",
    "from sklearn.preprocessing import OneHotEncoder\n",
    "from warnings import filterwarnings\n",
    "\n",
    "filterwarnings('ignore')\n",
    "\n",
    "%store -r df\n",
    "\n",
    "# для этого датафрейма \n",
    "#df = df.sample(frac=1).reset_index(drop=True)\n",
    "#df = df.sample(n=50000).reset_index(drop=True)\n",
    "\n",
    "res = df[~((df.duplicated(['session_id'])) & (df['target_event']==0) )]\n",
    "for col in res.columns:\n",
    "    res[col] = res[col].fillna('unknown')"
   ]
  },
  {
   "cell_type": "markdown",
   "id": "22c96265",
   "metadata": {},
   "source": [
    "## visit_date и visit_time\n",
    "здесь делаю некоторые манипуляции с датой и временем: смотрю сколько было целевых действий за месяц и за час - оказывается, час и месяц влияют на целевое действие"
   ]
  },
  {
   "cell_type": "code",
   "execution_count": 2,
   "id": "071ba419",
   "metadata": {
    "scrolled": true
   },
   "outputs": [
    {
     "name": "stdout",
     "output_type": "stream",
     "text": [
      "CPU times: total: 11min\n",
      "Wall time: 11min 1s\n"
     ]
    }
   ],
   "source": [
    "%%time\n",
    "res['visit_time'] = pd.to_datetime(res['visit_time'])\n",
    "res['visit_hour'] = res['visit_time'].apply(lambda x: int(x.hour))\n",
    "vc = res[res['target_event']==1]['visit_hour'].value_counts()\n",
    "\n",
    "ranges_hour = [0, 1000, 2000, 3000, 4000]\n",
    "cats_hour = [1, 2, 3, 4]\n",
    "df_vc = pd.DataFrame(vc)\n",
    "df_vc['hour'] = df_vc.index\n",
    "df_vc = df_vc.rename(columns={'visit_hour': 'count'})\n",
    "df_vc.reset_index(drop=True)\n",
    "df_vc['cat'] = pd.cut(df_vc['count'], ranges_hour, labels=cats_hour)\n",
    "\n",
    "res['cat_hour'] = res['visit_hour'].apply(lambda x: df_vc.loc[df_vc['hour'], 'cat'][x])\n",
    "\n",
    "res['visit_date'] = pd.to_datetime(res['visit_date'])\n",
    "res['visit_month'] = res['visit_date'].apply(lambda x: int(x.month))\n",
    "\n",
    "vcm = res[res['target_event']==1]['visit_month'].value_counts()\n",
    "\n",
    "ranges_month = [0, 5000, 6000, 7000, 8000]\n",
    "cats_month = [1, 2, 3, 4]\n",
    "df_vcm = pd.DataFrame(vcm)\n",
    "df_vcm['month'] = df_vcm.index\n",
    "df_vcm = df_vcm.rename(columns={'visit_month': 'count'})\n",
    "df_vcm.reset_index(drop=True)\n",
    "df_vcm['cat'] = pd.cut(df_vcm['count'], ranges_month, labels=cats_month)\n",
    "res['cat_month'] = res['visit_month'].apply(lambda x: df_vcm.loc[df_vcm['month'], 'cat'][x])\n",
    "\n",
    "res = res.drop(['visit_date', 'visit_month', 'visit_time', 'visit_hour'], axis=1)"
   ]
  },
  {
   "cell_type": "markdown",
   "id": "0d316e7a",
   "metadata": {},
   "source": [
    "## UTM_*\n",
    "### utm_source"
   ]
  },
  {
   "cell_type": "code",
   "execution_count": 3,
   "id": "9d352c7d",
   "metadata": {},
   "outputs": [],
   "source": [
    "def foo_source(x):\n",
    "    #print(x)\n",
    "    try:\n",
    "        t = df_vc_utmsource.loc[df_vc_utmsource['source'], 'cat'][x]\n",
    "    except:\n",
    "        t = 0\n",
    "    return t"
   ]
  },
  {
   "cell_type": "code",
   "execution_count": 4,
   "id": "344ddf4c",
   "metadata": {},
   "outputs": [
    {
     "name": "stdout",
     "output_type": "stream",
     "text": [
      "CPU times: total: 13min 39s\n",
      "Wall time: 13min 41s\n"
     ]
    }
   ],
   "source": [
    "%%time\n",
    "adv_soc_net = ['QxAxdyPLuQMEcrdZWdWb', 'MvfHsxITijuriZxsqZqt', 'ISrKoXQCxqqYvAZICvjs', 'IZEXUFLARCUMynmHNBGo', 'PlbkrSYoHuZBWfYjYnfw','gVRrcxiDQubJiljoTbGm']\n",
    "res['adv_soc_net'] = res['utm_source'].apply(lambda x: 'from_adv' if x in adv_soc_net else 'other_source')\n",
    "\n",
    "range_source = [0, 500, 5000, 50000]\n",
    "cat_source = [1, 2, 3]\n",
    "vc_utmsource = res[res['target_event']==1]['utm_source'].value_counts()\n",
    "df_vc_utmsource = pd.DataFrame(vc_utmsource)\n",
    "df_vc_utmsource['source'] = df_vc_utmsource.index\n",
    "df_vc_utmsource = df_vc_utmsource.rename(columns={'utm_source': 'count'})\n",
    "df_vc_utmsource['cat'] = pd.cut(df_vc_utmsource['count'], range_source, labels=cat_source).astype(np.int8)\n",
    "\n",
    "res['cat_source'] = res['utm_source'].apply(lambda x: foo_source(x))\n",
    "# res = res.drop(['utm_source'], axis=1)"
   ]
  },
  {
   "cell_type": "markdown",
   "id": "7bf1d220",
   "metadata": {},
   "source": [
    "### utm_medium"
   ]
  },
  {
   "cell_type": "code",
   "execution_count": 5,
   "id": "2b594d63",
   "metadata": {},
   "outputs": [],
   "source": [
    "def foo_medium(x):\n",
    "    #print(x)\n",
    "    try:\n",
    "        t = df_vc_utmmedium.loc[df_vc_utmmedium['medium'], 'cat'][x]\n",
    "    except:\n",
    "        t = 0\n",
    "    return t"
   ]
  },
  {
   "cell_type": "code",
   "execution_count": 6,
   "id": "8d3bc673",
   "metadata": {},
   "outputs": [
    {
     "name": "stdout",
     "output_type": "stream",
     "text": [
      "CPU times: total: 14min 6s\n",
      "Wall time: 14min 9s\n"
     ]
    }
   ],
   "source": [
    "%%time\n",
    "utm_medium_type = ['organic', 'referral', '(none)']\n",
    "res['utm_medium_type'] = res['utm_medium'].apply(lambda x: 'organic' if x in ['organic', 'referral', '(none)'] else 'paid_traffic')\n",
    "\n",
    "range_medium = [0, 20, 200, 2000, 20000]\n",
    "cat_medium = [0, 1, 2, 3]\n",
    "vc_utmmedium = res[res['target_event']==1]['utm_medium'].value_counts()\n",
    "df_vc_utmmedium = pd.DataFrame(vc_utmmedium)\n",
    "df_vc_utmmedium['medium'] = df_vc_utmmedium.index\n",
    "df_vc_utmmedium = df_vc_utmmedium.rename(columns={'utm_medium': 'count'})\n",
    "df_vc_utmmedium['cat'] = pd.cut(df_vc_utmmedium['count'], range_medium, labels=cat_medium)\n",
    "\n",
    "res['cat_medium'] = res['utm_medium'].apply(lambda x: foo_medium(x))\n",
    "# res = res.drop(['utm_medium'], axis=1)"
   ]
  },
  {
   "cell_type": "markdown",
   "id": "9d5cce96",
   "metadata": {},
   "source": [
    "### utm_adcontent"
   ]
  },
  {
   "cell_type": "code",
   "execution_count": 7,
   "id": "0e51fc1c",
   "metadata": {},
   "outputs": [],
   "source": [
    "def foo_adcontent(x):\n",
    "    #print(x)\n",
    "    try:\n",
    "        t = df_vc_utmmedium.loc[df_vc_utmmedium['medium'], 'cat'][x]\n",
    "    except:\n",
    "        t = 0\n",
    "    return t"
   ]
  },
  {
   "cell_type": "code",
   "execution_count": 8,
   "id": "bd508175",
   "metadata": {},
   "outputs": [
    {
     "name": "stdout",
     "output_type": "stream",
     "text": [
      "CPU times: total: 13min 6s\n",
      "Wall time: 13min 8s\n"
     ]
    }
   ],
   "source": [
    "%%time\n",
    "range_adcontent = [0, 100, 1000, 10000, 100000]\n",
    "cat_adcontent = [0, 1, 2, 3]\n",
    "vc_adcontent = res[res['target_event']==1]['utm_adcontent'].value_counts()\n",
    "df_vc_adcontent = pd.DataFrame(vc_adcontent)\n",
    "df_vc_adcontent['adcontent'] = df_vc_adcontent.index\n",
    "df_vc_adcontent = df_vc_adcontent.rename(columns={'utm_adcontent': 'count'})\n",
    "df_vc_adcontent['cat'] = pd.cut(df_vc_adcontent['count'], range_adcontent, labels=cat_adcontent)\n",
    "res['cat_adcontent'] = res['utm_adcontent'].apply(lambda x: foo_adcontent(x))\n",
    "# res = res.drop(['utm_adcontent'], axis=1)"
   ]
  },
  {
   "cell_type": "markdown",
   "id": "4f4d5170",
   "metadata": {},
   "source": [
    "### utm_campaign"
   ]
  },
  {
   "cell_type": "code",
   "execution_count": 9,
   "id": "05c46e03",
   "metadata": {},
   "outputs": [],
   "source": [
    "def foo_camp(x):\n",
    "    #print(x)\n",
    "    try:\n",
    "        t = df_vc_utmmedium.loc[df_vc_utmmedium['medium'], 'cat'][x]\n",
    "    except:\n",
    "        t = 0\n",
    "    return t"
   ]
  },
  {
   "cell_type": "code",
   "execution_count": 10,
   "id": "15acc213",
   "metadata": {},
   "outputs": [
    {
     "name": "stdout",
     "output_type": "stream",
     "text": [
      "CPU times: total: 13min 10s\n",
      "Wall time: 13min 12s\n"
     ]
    }
   ],
   "source": [
    "%%time\n",
    "range_campaign = [0, 100, 1000, 10000, 100000]\n",
    "cat_camp = [0, 1, 2, 3]\n",
    "vc_camp = res[res['target_event']==1]['utm_campaign'].value_counts()\n",
    "df_vc_camp = pd.DataFrame(vc_camp)\n",
    "df_vc_camp['campaign'] = df_vc_camp.index\n",
    "df_vc_camp = df_vc_camp.rename(columns={'utm_campaign': 'count'})\n",
    "df_vc_camp['cat'] = pd.cut(df_vc_camp['count'], range_campaign, labels=cat_camp)\n",
    "res['cat_camp'] = res['utm_campaign'].apply(lambda x: foo_camp(x))\n",
    "# res = res.drop(['utm_campaign'], axis=1)"
   ]
  },
  {
   "cell_type": "code",
   "execution_count": 11,
   "id": "7d1c6c08",
   "metadata": {},
   "outputs": [
    {
     "data": {
      "text/html": [
       "<div>\n",
       "<style scoped>\n",
       "    .dataframe tbody tr th:only-of-type {\n",
       "        vertical-align: middle;\n",
       "    }\n",
       "\n",
       "    .dataframe tbody tr th {\n",
       "        vertical-align: top;\n",
       "    }\n",
       "\n",
       "    .dataframe thead th {\n",
       "        text-align: right;\n",
       "    }\n",
       "</style>\n",
       "<table border=\"1\" class=\"dataframe\">\n",
       "  <thead>\n",
       "    <tr style=\"text-align: right;\">\n",
       "      <th></th>\n",
       "      <th>device_category</th>\n",
       "      <th>device_os</th>\n",
       "      <th>device_brand</th>\n",
       "      <th>device_screen_resolution</th>\n",
       "      <th>device_browser</th>\n",
       "      <th>geo_country</th>\n",
       "      <th>geo_city</th>\n",
       "      <th>target_event</th>\n",
       "      <th>cat_hour</th>\n",
       "      <th>cat_month</th>\n",
       "      <th>adv_soc_net</th>\n",
       "      <th>cat_source</th>\n",
       "      <th>utm_medium_type</th>\n",
       "      <th>cat_medium</th>\n",
       "      <th>cat_adcontent</th>\n",
       "      <th>cat_camp</th>\n",
       "    </tr>\n",
       "  </thead>\n",
       "  <tbody>\n",
       "    <tr>\n",
       "      <th>0</th>\n",
       "      <td>mobile</td>\n",
       "      <td>Android</td>\n",
       "      <td>Huawei</td>\n",
       "      <td>360x720</td>\n",
       "      <td>Chrome</td>\n",
       "      <td>Russia</td>\n",
       "      <td>Zlatoust</td>\n",
       "      <td>0</td>\n",
       "      <td>4</td>\n",
       "      <td>3</td>\n",
       "      <td>other_source</td>\n",
       "      <td>3</td>\n",
       "      <td>paid_traffic</td>\n",
       "      <td>3</td>\n",
       "      <td>0</td>\n",
       "      <td>0</td>\n",
       "    </tr>\n",
       "    <tr>\n",
       "      <th>1</th>\n",
       "      <td>mobile</td>\n",
       "      <td>Android</td>\n",
       "      <td>Samsung</td>\n",
       "      <td>385x854</td>\n",
       "      <td>Samsung Internet</td>\n",
       "      <td>Russia</td>\n",
       "      <td>Moscow</td>\n",
       "      <td>0</td>\n",
       "      <td>2</td>\n",
       "      <td>3</td>\n",
       "      <td>from_adv</td>\n",
       "      <td>2</td>\n",
       "      <td>paid_traffic</td>\n",
       "      <td>3</td>\n",
       "      <td>0</td>\n",
       "      <td>0</td>\n",
       "    </tr>\n",
       "    <tr>\n",
       "      <th>2</th>\n",
       "      <td>mobile</td>\n",
       "      <td>Android</td>\n",
       "      <td>Huawei</td>\n",
       "      <td>360x720</td>\n",
       "      <td>Chrome</td>\n",
       "      <td>Russia</td>\n",
       "      <td>Krasnoyarsk</td>\n",
       "      <td>0</td>\n",
       "      <td>1</td>\n",
       "      <td>4</td>\n",
       "      <td>other_source</td>\n",
       "      <td>3</td>\n",
       "      <td>paid_traffic</td>\n",
       "      <td>3</td>\n",
       "      <td>0</td>\n",
       "      <td>0</td>\n",
       "    </tr>\n",
       "    <tr>\n",
       "      <th>3</th>\n",
       "      <td>mobile</td>\n",
       "      <td>unknown</td>\n",
       "      <td>Xiaomi</td>\n",
       "      <td>393x786</td>\n",
       "      <td>Chrome</td>\n",
       "      <td>Russia</td>\n",
       "      <td>Moscow</td>\n",
       "      <td>0</td>\n",
       "      <td>1</td>\n",
       "      <td>3</td>\n",
       "      <td>other_source</td>\n",
       "      <td>3</td>\n",
       "      <td>paid_traffic</td>\n",
       "      <td>3</td>\n",
       "      <td>0</td>\n",
       "      <td>0</td>\n",
       "    </tr>\n",
       "    <tr>\n",
       "      <th>4</th>\n",
       "      <td>mobile</td>\n",
       "      <td>unknown</td>\n",
       "      <td>Xiaomi</td>\n",
       "      <td>393x786</td>\n",
       "      <td>Chrome</td>\n",
       "      <td>Russia</td>\n",
       "      <td>Moscow</td>\n",
       "      <td>0</td>\n",
       "      <td>1</td>\n",
       "      <td>3</td>\n",
       "      <td>other_source</td>\n",
       "      <td>3</td>\n",
       "      <td>paid_traffic</td>\n",
       "      <td>3</td>\n",
       "      <td>0</td>\n",
       "      <td>0</td>\n",
       "    </tr>\n",
       "    <tr>\n",
       "      <th>5</th>\n",
       "      <td>mobile</td>\n",
       "      <td>unknown</td>\n",
       "      <td>Apple</td>\n",
       "      <td>375x812</td>\n",
       "      <td>Safari</td>\n",
       "      <td>Russia</td>\n",
       "      <td>Saint Petersburg</td>\n",
       "      <td>0</td>\n",
       "      <td>4</td>\n",
       "      <td>3</td>\n",
       "      <td>other_source</td>\n",
       "      <td>3</td>\n",
       "      <td>organic</td>\n",
       "      <td>3</td>\n",
       "      <td>0</td>\n",
       "      <td>0</td>\n",
       "    </tr>\n",
       "    <tr>\n",
       "      <th>6</th>\n",
       "      <td>tablet</td>\n",
       "      <td>Android</td>\n",
       "      <td>Lenovo</td>\n",
       "      <td>602x1029</td>\n",
       "      <td>YaBrowser</td>\n",
       "      <td>Russia</td>\n",
       "      <td>Saint Petersburg</td>\n",
       "      <td>0</td>\n",
       "      <td>2</td>\n",
       "      <td>4</td>\n",
       "      <td>other_source</td>\n",
       "      <td>0</td>\n",
       "      <td>paid_traffic</td>\n",
       "      <td>3</td>\n",
       "      <td>0</td>\n",
       "      <td>0</td>\n",
       "    </tr>\n",
       "    <tr>\n",
       "      <th>7</th>\n",
       "      <td>mobile</td>\n",
       "      <td>unknown</td>\n",
       "      <td>Samsung</td>\n",
       "      <td>360x640</td>\n",
       "      <td>Chrome</td>\n",
       "      <td>Russia</td>\n",
       "      <td>Saint Petersburg</td>\n",
       "      <td>0</td>\n",
       "      <td>3</td>\n",
       "      <td>1</td>\n",
       "      <td>other_source</td>\n",
       "      <td>3</td>\n",
       "      <td>paid_traffic</td>\n",
       "      <td>3</td>\n",
       "      <td>0</td>\n",
       "      <td>0</td>\n",
       "    </tr>\n",
       "    <tr>\n",
       "      <th>8</th>\n",
       "      <td>mobile</td>\n",
       "      <td>iOS</td>\n",
       "      <td>Apple</td>\n",
       "      <td>390x844</td>\n",
       "      <td>Safari</td>\n",
       "      <td>Russia</td>\n",
       "      <td>Moscow</td>\n",
       "      <td>0</td>\n",
       "      <td>4</td>\n",
       "      <td>4</td>\n",
       "      <td>other_source</td>\n",
       "      <td>3</td>\n",
       "      <td>paid_traffic</td>\n",
       "      <td>3</td>\n",
       "      <td>0</td>\n",
       "      <td>0</td>\n",
       "    </tr>\n",
       "    <tr>\n",
       "      <th>9</th>\n",
       "      <td>mobile</td>\n",
       "      <td>unknown</td>\n",
       "      <td>Samsung</td>\n",
       "      <td>412x915</td>\n",
       "      <td>Chrome</td>\n",
       "      <td>Russia</td>\n",
       "      <td>Moscow</td>\n",
       "      <td>0</td>\n",
       "      <td>4</td>\n",
       "      <td>3</td>\n",
       "      <td>other_source</td>\n",
       "      <td>3</td>\n",
       "      <td>paid_traffic</td>\n",
       "      <td>3</td>\n",
       "      <td>0</td>\n",
       "      <td>0</td>\n",
       "    </tr>\n",
       "  </tbody>\n",
       "</table>\n",
       "</div>"
      ],
      "text/plain": [
       "  device_category device_os device_brand device_screen_resolution  \\\n",
       "0          mobile   Android       Huawei                  360x720   \n",
       "1          mobile   Android      Samsung                  385x854   \n",
       "2          mobile   Android       Huawei                  360x720   \n",
       "3          mobile   unknown       Xiaomi                  393x786   \n",
       "4          mobile   unknown       Xiaomi                  393x786   \n",
       "5          mobile   unknown        Apple                  375x812   \n",
       "6          tablet   Android       Lenovo                 602x1029   \n",
       "7          mobile   unknown      Samsung                  360x640   \n",
       "8          mobile       iOS        Apple                  390x844   \n",
       "9          mobile   unknown      Samsung                  412x915   \n",
       "\n",
       "     device_browser geo_country          geo_city  target_event  cat_hour  \\\n",
       "0            Chrome      Russia          Zlatoust             0         4   \n",
       "1  Samsung Internet      Russia            Moscow             0         2   \n",
       "2            Chrome      Russia       Krasnoyarsk             0         1   \n",
       "3            Chrome      Russia            Moscow             0         1   \n",
       "4            Chrome      Russia            Moscow             0         1   \n",
       "5            Safari      Russia  Saint Petersburg             0         4   \n",
       "6         YaBrowser      Russia  Saint Petersburg             0         2   \n",
       "7            Chrome      Russia  Saint Petersburg             0         3   \n",
       "8            Safari      Russia            Moscow             0         4   \n",
       "9            Chrome      Russia            Moscow             0         4   \n",
       "\n",
       "   cat_month   adv_soc_net  cat_source utm_medium_type  cat_medium  \\\n",
       "0          3  other_source           3    paid_traffic           3   \n",
       "1          3      from_adv           2    paid_traffic           3   \n",
       "2          4  other_source           3    paid_traffic           3   \n",
       "3          3  other_source           3    paid_traffic           3   \n",
       "4          3  other_source           3    paid_traffic           3   \n",
       "5          3  other_source           3         organic           3   \n",
       "6          4  other_source           0    paid_traffic           3   \n",
       "7          1  other_source           3    paid_traffic           3   \n",
       "8          4  other_source           3    paid_traffic           3   \n",
       "9          3  other_source           3    paid_traffic           3   \n",
       "\n",
       "   cat_adcontent  cat_camp  \n",
       "0              0         0  \n",
       "1              0         0  \n",
       "2              0         0  \n",
       "3              0         0  \n",
       "4              0         0  \n",
       "5              0         0  \n",
       "6              0         0  \n",
       "7              0         0  \n",
       "8              0         0  \n",
       "9              0         0  "
      ]
     },
     "execution_count": 11,
     "metadata": {},
     "output_type": "execute_result"
    }
   ],
   "source": [
    "res = res.drop(['session_id', 'client_id', 'device_model', 'visit_number', 'utm_source', 'utm_medium', 'utm_adcontent', 'utm_campaign', 'utm_keyword'], axis=1)\n",
    "res.head(10)"
   ]
  },
  {
   "cell_type": "markdown",
   "id": "7cdbd324",
   "metadata": {},
   "source": [
    "## DEVICE_*"
   ]
  },
  {
   "cell_type": "markdown",
   "id": "758f9e0d",
   "metadata": {},
   "source": [
    "### device_category"
   ]
  },
  {
   "cell_type": "markdown",
   "id": "241386cf",
   "metadata": {},
   "source": [
    "device_category - 3 категории, пропусков нет. Из преобразований - будет последующее onehot-кодирование"
   ]
  },
  {
   "cell_type": "markdown",
   "id": "de3ef72b",
   "metadata": {},
   "source": [
    "### device_os, device_brand, device_browser"
   ]
  },
  {
   "cell_type": "markdown",
   "id": "7c74d661",
   "metadata": {},
   "source": [
    "восстановим ОС из других значений device_*"
   ]
  },
  {
   "cell_type": "code",
   "execution_count": 12,
   "id": "73421ad5",
   "metadata": {},
   "outputs": [],
   "source": [
    "best_brands = ['Samsung', 'Xiaomi', 'Huawei', 'POCO']\n",
    "\n",
    "dev_types = ['mobile', 'tablet']\n",
    "\n",
    "android_brands = ['Xiaomi', 'Samsung', 'Huawei', 'Vivo', 'LG',\n",
    "       'BQ', 'OnePlus', 'itel', 'Asus', 'Sony', 'Android', 'OPPO',\n",
    "       'Nokia', 'Realme', 'Alcatel', 'Infinix', 'Micromax', 'Blackview',\n",
    "       'Oukitel', 'ZTE', 'Motorola', 'HOMTOM', 'Google', 'Lenovo',\n",
    "       'China Phone', 'Neffos', 'Tecno', 'DOOGEE', 'Vsmart', 'Meizu', 'Umidigi', 'Leagoo', 'Highscreen', 'Ulefone', 'HTC',\n",
    "       'Cubot', 'Symphony', 'Vestel', 'Guophone', 'Wileyfox', 'Vertex',\n",
    "       'POCO', 'TCL', 'SonyEricsson', 'Nomu', 'Prestigio',\n",
    "       'Philips', 'LeEco', 'DEXP', 'Hisense', 'Vernee', 'Tele2', 'CAT',\n",
    "       'H96', 'Kyocera', 'Inoi', 'Acer', 'Kingplay', 'Sharp',\n",
    "       'MTC', 'iNew', 'Karbonn', 'Wiko', 'Gionee', 'Digma',\n",
    "       'Yota Devices', 'Kata', 'Poptel', 'Flylion', 'AGM', 'Teclast',\n",
    "       'Fly', 'MLS', 'LeTV', 'Nuu', 'Celkon', 'Chuwi', 'Walton',\n",
    "       'Haier', 'Coolpad', 'Xiaolajiao', 'Lava', 'General Mobile',\n",
    "       'Black Fox', 'Condor', 'Razer', 'Microsoft', 'Fujitsu',\n",
    "       'Alldocube', 'ZOJI', 'Amazon', 'PPTV', 'Jiake', 'Mito', 'Oysters',\n",
    "       'NOA', 'Caterpillar', 'SenseIT', 'Verizon', 'Komu', 'BLU', 'RCA',\n",
    "       'Cube', 'AT&T', 'Tonbux', 'Dark', 'Elephone', 'T-Mobile',\n",
    "       'Smartfren', 'Billion', 'Gome', 'A1', 'MTS', 'Geotel', 'BLUBOO',\n",
    "       'Ananda', 'MediaTek', 'KingSing', 'Ark', 'Essential',\n",
    "       'Dragon Touch', 'E&L', 'Fero',  'Wigor', 'Tanix',\n",
    "       'Mlais', 'InFocus', 'Smartisan', 'Beelink', 'Unihertz', 'Orbic',\n",
    "       'Honeywell', 'Archos', 'RED', 'Sonim', 'Jiayu', 'Evertek',\n",
    "       'Leegoog', 'QMobile', 'INUI', 'Artel', 'Irbis', 'China Mobile',\n",
    "       'Flexymove', 'Olla', 'Krip', 'Star', 'UMI', 'Iris', 'Ellipsis',\n",
    "       'LTC', 'Motive', 'Advan', 'M-HORSE', 'Winnovo', 'ThL', 'Nomi',\n",
    "       'Wings Mobile', 'MXQ', 'How', 'Centric', 'Maze', 'Corn',\n",
    "       'China TVBox', 'Gretel', 'Vertu', 'Evercoss', 'teXet', 'Qbex',\n",
    "       'Panasonic', 'Tagital', 'Dell', 'Maxvi']"
   ]
  },
  {
   "cell_type": "code",
   "execution_count": 13,
   "id": "a2263e84",
   "metadata": {},
   "outputs": [
    {
     "name": "stdout",
     "output_type": "stream",
     "text": [
      "CPU times: total: 22.8 s\n",
      "Wall time: 22.9 s\n"
     ]
    }
   ],
   "source": [
    "%%time\n",
    "def foo(x):\n",
    "    if x['device_os']=='unknown':\n",
    "        if x['device_brand'] in android_brands:\n",
    "            return 'Android'\n",
    "        elif (x['device_brand'] == 'Apple') and (x.device_category in dev_types):\n",
    "            return 'iOS'\n",
    "    elif x['device_os'] != x['device_os']:\n",
    "        if (x['device_category'] in dev_types) and (x['device_brand']=='Apple'):\n",
    "            return 'iOS'\n",
    "        elif x['device_brand'] in android_brands:\n",
    "            return 'Android'\n",
    "    else:\n",
    "        return x['device_os']\n",
    "    return x['device_os']\n",
    "    \n",
    "res['device_os'] = res.apply(lambda x: foo(x), axis=1)"
   ]
  },
  {
   "cell_type": "markdown",
   "id": "eaa1b016",
   "metadata": {},
   "source": [
    "device_brand преобразуем в три категории: Apple - 3, Samsung, Xiaomi, Huawei и Poco - 2, остальные бренды - 1\n",
    "признак device_browser отбросим - "
   ]
  },
  {
   "cell_type": "code",
   "execution_count": 14,
   "id": "640bf5ed",
   "metadata": {},
   "outputs": [],
   "source": [
    "def brand2cat(x):\n",
    "    if x == 'Apple':\n",
    "        return int(3)\n",
    "    elif x in best_brands:\n",
    "        return int(2)\n",
    "    else:\n",
    "        return int(1)\n",
    "    return int(0)\n",
    "\n",
    "res['cat_device_brand'] = res['device_brand'].apply(lambda x: brand2cat(x))\n",
    "res = res.drop(['device_brand'], axis=1)"
   ]
  },
  {
   "cell_type": "code",
   "execution_count": 15,
   "id": "a5c7edde",
   "metadata": {},
   "outputs": [],
   "source": [
    "def foo_browser(x):\n",
    "    #print(x)\n",
    "    t = 0\n",
    "    try:\n",
    "        t = df_vc_browser.loc[df_vc_browser['browser'], 'cat'][x]\n",
    "    except:\n",
    "        t = 0\n",
    "    return t"
   ]
  },
  {
   "cell_type": "code",
   "execution_count": 16,
   "id": "de012318",
   "metadata": {},
   "outputs": [
    {
     "name": "stdout",
     "output_type": "stream",
     "text": [
      "CPU times: total: 12min 43s\n",
      "Wall time: 12min 44s\n"
     ]
    }
   ],
   "source": [
    "%%time\n",
    "range_browser = [0, 60, 600, 6000, 60000]\n",
    "cat_browser = [1, 2, 3, 4]\n",
    "vc_browser = res[res['target_event']==1]['device_browser'].value_counts()\n",
    "df_vc_browser = pd.DataFrame(vc_browser)\n",
    "df_vc_browser['browser'] = df_vc_browser.index\n",
    "df_vc_browser = df_vc_browser.rename(columns={'device_browser': 'count'})\n",
    "df_vc_browser['cat'] = pd.cut(df_vc_browser['count'], range_browser, labels=cat_browser)\n",
    "res['cat_browser'] = res['device_browser'].apply(lambda x: foo_browser(x)) #.astype(np.int8)\n",
    "# res = res.drop(['utm_campaign'], axis=1)"
   ]
  },
  {
   "cell_type": "code",
   "execution_count": 17,
   "id": "b9d0d513",
   "metadata": {},
   "outputs": [],
   "source": [
    "def foo_resolution(x):\n",
    "    #print(x)\n",
    "    t = 0\n",
    "    try:\n",
    "        t = df_vc_resolution.loc[df_vc_browser['resolution'], 'cat'][x]\n",
    "    except:\n",
    "        t = 0\n",
    "    return t"
   ]
  },
  {
   "cell_type": "code",
   "execution_count": 18,
   "id": "8dc6f58d",
   "metadata": {},
   "outputs": [
    {
     "name": "stdout",
     "output_type": "stream",
     "text": [
      "CPU times: total: 10.3 s\n",
      "Wall time: 10.4 s\n"
     ]
    }
   ],
   "source": [
    "%%time\n",
    "range_resolution = [0, 50, 500, 5000]\n",
    "cat_resolution = [0, 1, 2]\n",
    "vc_resolution = res[res['target_event']==1]['device_screen_resolution'].value_counts()\n",
    "df_vc_resolution = pd.DataFrame(vc_resolution)\n",
    "df_vc_resolution['resolution'] = df_vc_resolution.index\n",
    "df_vc_resolution = df_vc_resolution.rename(columns={'device_screen_resolution': 'count'})\n",
    "df_vc_resolution['cat'] = pd.cut(df_vc_resolution['count'], range_resolution, labels=cat_resolution)\n",
    "res['cat_resolution'] = res['device_screen_resolution'].apply(lambda x: foo_resolution(x)) #.astype(np.int8)\n",
    "# res = res.drop(['utm_campaign'], axis=1)"
   ]
  },
  {
   "cell_type": "code",
   "execution_count": 19,
   "id": "ed4e99a0",
   "metadata": {},
   "outputs": [],
   "source": [
    "res = res.drop(['device_browser', 'device_screen_resolution'], axis=1)"
   ]
  },
  {
   "cell_type": "markdown",
   "id": "6114b95c",
   "metadata": {},
   "source": [
    "## GEO_*\n",
    "### geo_country"
   ]
  },
  {
   "cell_type": "code",
   "execution_count": null,
   "id": "deabc53d",
   "metadata": {},
   "outputs": [],
   "source": []
  },
  {
   "cell_type": "markdown",
   "id": "53586811",
   "metadata": {},
   "source": [
    "### geo_city"
   ]
  },
  {
   "cell_type": "code",
   "execution_count": 20,
   "id": "d39d87e7",
   "metadata": {},
   "outputs": [],
   "source": [
    "def foo_city(x):\n",
    "    #print(x)\n",
    "    t = 0\n",
    "    try:\n",
    "        t = df_vc_city.loc[df_vc_browser['city'], 'cat'][x]\n",
    "    except:\n",
    "        t = 0\n",
    "    return t"
   ]
  },
  {
   "cell_type": "code",
   "execution_count": 21,
   "id": "debe0460",
   "metadata": {},
   "outputs": [
    {
     "name": "stdout",
     "output_type": "stream",
     "text": [
      "CPU times: total: 9.25 s\n",
      "Wall time: 9.25 s\n"
     ]
    }
   ],
   "source": [
    "%%time\n",
    "range_city = [0, 100, 1000, 10000, 100000]\n",
    "cat_city = [0, 1, 2, 3]\n",
    "vc_city = res[res['target_event']==1]['geo_city'].value_counts()\n",
    "df_vc_city = pd.DataFrame(vc_city)\n",
    "df_vc_city['city'] = df_vc_city.index\n",
    "df_vc_city = df_vc_city.rename(columns={'geo_city': 'count'})\n",
    "df_vc_city['cat'] = pd.cut(df_vc_city['count'], range_city, labels=cat_city)\n",
    "res['cat_city'] = res['geo_city'].apply(lambda x: foo_city(x)) #.astype(np.int8)\n",
    "# res = res.drop(['utm_campaign'], axis=1)"
   ]
  },
  {
   "cell_type": "code",
   "execution_count": 22,
   "id": "542087e6",
   "metadata": {},
   "outputs": [],
   "source": [
    "res = res.drop(['geo_country', 'geo_city'], axis=1)"
   ]
  },
  {
   "cell_type": "code",
   "execution_count": 23,
   "id": "151b4532",
   "metadata": {},
   "outputs": [],
   "source": [
    "def view_occupancy(df):\n",
    "    length = len(df)\n",
    "    dic = dict()\n",
    "    for col in df.columns:\n",
    "        percent_filled = (length-df[col].isna().sum())/length\n",
    "        dic[col] = percent_filled\n",
    "\n",
    "    dic = sorted(dic.items(), key=lambda x: x[1], reverse=True)\n",
    "    for k, v in dic:\n",
    "        print('{}: {:.3f}%'.format(k, v*100))"
   ]
  },
  {
   "cell_type": "code",
   "execution_count": 24,
   "id": "185eca77",
   "metadata": {},
   "outputs": [
    {
     "name": "stdout",
     "output_type": "stream",
     "text": [
      "device_category: 100.000%\n",
      "device_os: 100.000%\n",
      "target_event: 100.000%\n",
      "cat_hour: 100.000%\n",
      "cat_month: 100.000%\n",
      "adv_soc_net: 100.000%\n",
      "cat_source: 100.000%\n",
      "utm_medium_type: 100.000%\n",
      "cat_medium: 100.000%\n",
      "cat_adcontent: 100.000%\n",
      "cat_camp: 100.000%\n",
      "cat_device_brand: 100.000%\n",
      "cat_browser: 100.000%\n",
      "cat_resolution: 100.000%\n",
      "cat_city: 100.000%\n"
     ]
    }
   ],
   "source": [
    "view_occupancy(res)"
   ]
  },
  {
   "cell_type": "code",
   "execution_count": 25,
   "id": "2eb9fc08",
   "metadata": {},
   "outputs": [
    {
     "data": {
      "text/html": [
       "<div>\n",
       "<style scoped>\n",
       "    .dataframe tbody tr th:only-of-type {\n",
       "        vertical-align: middle;\n",
       "    }\n",
       "\n",
       "    .dataframe tbody tr th {\n",
       "        vertical-align: top;\n",
       "    }\n",
       "\n",
       "    .dataframe thead th {\n",
       "        text-align: right;\n",
       "    }\n",
       "</style>\n",
       "<table border=\"1\" class=\"dataframe\">\n",
       "  <thead>\n",
       "    <tr style=\"text-align: right;\">\n",
       "      <th></th>\n",
       "      <th>device_category</th>\n",
       "      <th>device_os</th>\n",
       "      <th>target_event</th>\n",
       "      <th>cat_hour</th>\n",
       "      <th>cat_month</th>\n",
       "      <th>adv_soc_net</th>\n",
       "      <th>cat_source</th>\n",
       "      <th>utm_medium_type</th>\n",
       "      <th>cat_medium</th>\n",
       "      <th>cat_adcontent</th>\n",
       "      <th>cat_camp</th>\n",
       "      <th>cat_device_brand</th>\n",
       "      <th>cat_browser</th>\n",
       "      <th>cat_resolution</th>\n",
       "      <th>cat_city</th>\n",
       "    </tr>\n",
       "  </thead>\n",
       "  <tbody>\n",
       "    <tr>\n",
       "      <th>0</th>\n",
       "      <td>mobile</td>\n",
       "      <td>Android</td>\n",
       "      <td>0</td>\n",
       "      <td>4</td>\n",
       "      <td>3</td>\n",
       "      <td>other_source</td>\n",
       "      <td>3</td>\n",
       "      <td>paid_traffic</td>\n",
       "      <td>3</td>\n",
       "      <td>0</td>\n",
       "      <td>0</td>\n",
       "      <td>2</td>\n",
       "      <td>4</td>\n",
       "      <td>0</td>\n",
       "      <td>0</td>\n",
       "    </tr>\n",
       "    <tr>\n",
       "      <th>1</th>\n",
       "      <td>mobile</td>\n",
       "      <td>Android</td>\n",
       "      <td>0</td>\n",
       "      <td>2</td>\n",
       "      <td>3</td>\n",
       "      <td>from_adv</td>\n",
       "      <td>2</td>\n",
       "      <td>paid_traffic</td>\n",
       "      <td>3</td>\n",
       "      <td>0</td>\n",
       "      <td>0</td>\n",
       "      <td>2</td>\n",
       "      <td>3</td>\n",
       "      <td>0</td>\n",
       "      <td>0</td>\n",
       "    </tr>\n",
       "    <tr>\n",
       "      <th>2</th>\n",
       "      <td>mobile</td>\n",
       "      <td>Android</td>\n",
       "      <td>0</td>\n",
       "      <td>1</td>\n",
       "      <td>4</td>\n",
       "      <td>other_source</td>\n",
       "      <td>3</td>\n",
       "      <td>paid_traffic</td>\n",
       "      <td>3</td>\n",
       "      <td>0</td>\n",
       "      <td>0</td>\n",
       "      <td>2</td>\n",
       "      <td>4</td>\n",
       "      <td>0</td>\n",
       "      <td>0</td>\n",
       "    </tr>\n",
       "    <tr>\n",
       "      <th>3</th>\n",
       "      <td>mobile</td>\n",
       "      <td>Android</td>\n",
       "      <td>0</td>\n",
       "      <td>1</td>\n",
       "      <td>3</td>\n",
       "      <td>other_source</td>\n",
       "      <td>3</td>\n",
       "      <td>paid_traffic</td>\n",
       "      <td>3</td>\n",
       "      <td>0</td>\n",
       "      <td>0</td>\n",
       "      <td>2</td>\n",
       "      <td>4</td>\n",
       "      <td>0</td>\n",
       "      <td>0</td>\n",
       "    </tr>\n",
       "    <tr>\n",
       "      <th>4</th>\n",
       "      <td>mobile</td>\n",
       "      <td>Android</td>\n",
       "      <td>0</td>\n",
       "      <td>1</td>\n",
       "      <td>3</td>\n",
       "      <td>other_source</td>\n",
       "      <td>3</td>\n",
       "      <td>paid_traffic</td>\n",
       "      <td>3</td>\n",
       "      <td>0</td>\n",
       "      <td>0</td>\n",
       "      <td>2</td>\n",
       "      <td>4</td>\n",
       "      <td>0</td>\n",
       "      <td>0</td>\n",
       "    </tr>\n",
       "  </tbody>\n",
       "</table>\n",
       "</div>"
      ],
      "text/plain": [
       "  device_category device_os  target_event  cat_hour  cat_month   adv_soc_net  \\\n",
       "0          mobile   Android             0         4          3  other_source   \n",
       "1          mobile   Android             0         2          3      from_adv   \n",
       "2          mobile   Android             0         1          4  other_source   \n",
       "3          mobile   Android             0         1          3  other_source   \n",
       "4          mobile   Android             0         1          3  other_source   \n",
       "\n",
       "   cat_source utm_medium_type  cat_medium  cat_adcontent  cat_camp  \\\n",
       "0           3    paid_traffic           3              0         0   \n",
       "1           2    paid_traffic           3              0         0   \n",
       "2           3    paid_traffic           3              0         0   \n",
       "3           3    paid_traffic           3              0         0   \n",
       "4           3    paid_traffic           3              0         0   \n",
       "\n",
       "   cat_device_brand  cat_browser  cat_resolution  cat_city  \n",
       "0                 2            4               0         0  \n",
       "1                 2            3               0         0  \n",
       "2                 2            4               0         0  \n",
       "3                 2            4               0         0  \n",
       "4                 2            4               0         0  "
      ]
     },
     "execution_count": 25,
     "metadata": {},
     "output_type": "execute_result"
    }
   ],
   "source": [
    "res.head()"
   ]
  },
  {
   "cell_type": "code",
   "execution_count": null,
   "id": "54a76561",
   "metadata": {},
   "outputs": [],
   "source": []
  },
  {
   "cell_type": "code",
   "execution_count": null,
   "id": "7350c733",
   "metadata": {},
   "outputs": [],
   "source": []
  },
  {
   "cell_type": "code",
   "execution_count": 28,
   "id": "a6b19b59",
   "metadata": {},
   "outputs": [
    {
     "name": "stdout",
     "output_type": "stream",
     "text": [
      "Stored 'df_ohed' (DataFrame)\n"
     ]
    }
   ],
   "source": [
    "# res = res.sample(frac=1).reset_index(drop=True)\n",
    "res = res.sample(n=200000).reset_index(drop=True)\n",
    "\n",
    "cols_for_ohe = ['device_category', 'device_os', 'adv_soc_net', 'utm_medium_type']\n",
    "\n",
    "ohe = OneHotEncoder(sparse=False)\n",
    "\n",
    "ohe.fit(res[cols_for_ohe])\n",
    "transformed = ohe.transform(res[cols_for_ohe])\n",
    "res[ohe.get_feature_names_out()] = transformed\n",
    "df_ohed = res.drop(cols_for_ohe, axis=1)\n",
    "\n",
    "%store df_ohed"
   ]
  },
  {
   "cell_type": "code",
   "execution_count": null,
   "id": "7945b9e8",
   "metadata": {},
   "outputs": [],
   "source": []
  }
 ],
 "metadata": {
  "kernelspec": {
   "display_name": "Python 3 (ipykernel)",
   "language": "python",
   "name": "python3"
  },
  "language_info": {
   "codemirror_mode": {
    "name": "ipython",
    "version": 3
   },
   "file_extension": ".py",
   "mimetype": "text/x-python",
   "name": "python",
   "nbconvert_exporter": "python",
   "pygments_lexer": "ipython3",
   "version": "3.10.10"
  }
 },
 "nbformat": 4,
 "nbformat_minor": 5
}
