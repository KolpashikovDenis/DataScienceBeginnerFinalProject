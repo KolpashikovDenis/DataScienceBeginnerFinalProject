{
 "cells": [
  {
   "cell_type": "markdown",
   "id": "548b31a1",
   "metadata": {},
   "source": [
    "В данном блокноте удаляю дубликаты session_id, причём те, у которых target_event = 0"
   ]
  },
  {
   "cell_type": "code",
   "execution_count": null,
   "id": "473a79aa",
   "metadata": {},
   "outputs": [],
   "source": [
    "import pandas as pd\n",
    "import numpy as np\n",
    "from sklearn.preprocessing import OneHotEncoder\n",
    "from warnings import filterwarnings\n",
    "\n",
    "filterwarnings('ignore')\n",
    "\n",
    "%store -r df\n",
    "\n",
    "# для этого датафрейма \n",
    "#df = df.sample(frac=1).reset_index(drop=True)\n",
    "#df = df.sample(n=50000).reset_index(drop=True)\n",
    "\n",
    "res = df[~((df.duplicated(['session_id'])) & (df['target_event']==0) )]\n",
    "for col in res.columns:\n",
    "    res[col] = res[col].fillna('unknown')"
   ]
  },
  {
   "cell_type": "markdown",
   "id": "22c96265",
   "metadata": {},
   "source": [
    "## visit_date и visit_time\n",
    "здесь делаю некоторые манипуляции с датой и временем: смотрю сколько было целевых действий за месяц и за час - оказывается, час и месяц влияют на целевое действие"
   ]
  },
  {
   "cell_type": "code",
   "execution_count": null,
   "id": "071ba419",
   "metadata": {
    "scrolled": true
   },
   "outputs": [],
   "source": [
    "res['visit_time'] = pd.to_datetime(res['visit_time'])\n",
    "res['visit_hour'] = res['visit_time'].apply(lambda x: int(x.hour))\n",
    "vc = res[res['target_event']==1]['visit_hour'].value_counts()\n",
    "\n",
    "ranges_hour = [0, 1000, 2000, 3000, 4000]\n",
    "cats_hour = [1, 2, 3, 4]\n",
    "df_vc = pd.DataFrame(vc)\n",
    "df_vc['hour'] = df_vc.index\n",
    "df_vc = df_vc.rename(columns={'visit_hour': 'count'})\n",
    "df_vc.reset_index(drop=True)\n",
    "df_vc['cat'] = pd.cut(df_vc['count'], ranges_hour, labels=cats_hour)\n",
    "\n",
    "res['cat_hour'] = res['visit_hour'].apply(lambda x: df_vc.loc[df_vc['hour'], 'cat'][x])\n",
    "\n",
    "res['visit_date'] = pd.to_datetime(res['visit_date'])\n",
    "res['visit_month'] = res['visit_date'].apply(lambda x: int(x.month))\n",
    "\n",
    "vcm = res[res['target_event']==1]['visit_month'].value_counts()\n",
    "\n",
    "ranges_month = [0, 5000, 6000, 7000, 8000]\n",
    "cats_month = [1, 2, 3, 4]\n",
    "df_vcm = pd.DataFrame(vcm)\n",
    "df_vcm['month'] = df_vcm.index\n",
    "df_vcm = df_vcm.rename(columns={'visit_month': 'count'})\n",
    "df_vcm.reset_index(drop=True)\n",
    "df_vcm['cat'] = pd.cut(df_vcm['count'], ranges_month, labels=cats_month)\n",
    "res['cat_month'] = res['visit_month'].apply(lambda x: df_vcm.loc[df_vcm['month'], 'cat'][x])\n",
    "\n",
    "res = res.drop(['visit_date', 'visit_month', 'visit_time', 'visit_hour'], axis=1)"
   ]
  },
  {
   "cell_type": "markdown",
   "id": "0d316e7a",
   "metadata": {},
   "source": [
    "## UTM_*\n",
    "### utm_source"
   ]
  },
  {
   "cell_type": "code",
   "execution_count": null,
   "id": "fd9cb0db",
   "metadata": {},
   "outputs": [],
   "source": [
    "# print('utm_source - ', res['utm_source'].nunique())\n",
    "# print('utm_medium - ', res['utm_medium'].nunique())\n",
    "# print('utm_adcontent - ', res['utm_adcontent'].nunique())\n",
    "# print('utm_campaign - ', res['utm_campaign'].nunique())"
   ]
  },
  {
   "cell_type": "code",
   "execution_count": null,
   "id": "f68c1fb6",
   "metadata": {},
   "outputs": [],
   "source": [
    "# dfb = (res.groupby(['utm_source', 'target_event']).size().sort_values(ascending=False).reset_index(name='count'))\n",
    "# dfb.head(50)"
   ]
  },
  {
   "cell_type": "code",
   "execution_count": null,
   "id": "7250b2e0",
   "metadata": {},
   "outputs": [],
   "source": [
    "# df0 = dfb[dfb['target_event']==0]\n",
    "# df1 = dfb[dfb['target_event']==1]"
   ]
  },
  {
   "cell_type": "code",
   "execution_count": null,
   "id": "344ddf4c",
   "metadata": {},
   "outputs": [],
   "source": [
    "adv_soc_net = ['QxAxdyPLuQMEcrdZWdWb', 'MvfHsxITijuriZxsqZqt', 'ISrKoXQCxqqYvAZICvjs', 'IZEXUFLARCUMynmHNBGo', 'PlbkrSYoHuZBWfYjYnfw','gVRrcxiDQubJiljoTbGm']\n",
    "res['adv_soc_net'] = res['utm_source'].apply(lambda x: 1 if x in adv_soc_net else 0)"
   ]
  },
  {
   "cell_type": "markdown",
   "id": "7bf1d220",
   "metadata": {},
   "source": [
    "### utm_medium"
   ]
  },
  {
   "cell_type": "code",
   "execution_count": null,
   "id": "8d3bc673",
   "metadata": {},
   "outputs": [],
   "source": [
    "utm_medium_type = ['organic', 'referral', '(none)']\n",
    "res['utm_medium_type'] = res['utm_medium'].apply(lambda x: 0 if x in ['organic', 'referral', '(none)'] else 1)"
   ]
  },
  {
   "cell_type": "markdown",
   "id": "9d5cce96",
   "metadata": {},
   "source": [
    "### utm_adcontent"
   ]
  },
  {
   "cell_type": "markdown",
   "id": "4f4d5170",
   "metadata": {},
   "source": [
    "### utm_campaign"
   ]
  },
  {
   "cell_type": "markdown",
   "id": "8c8836dd",
   "metadata": {},
   "source": [
    "## DEVICE_*"
   ]
  },
  {
   "cell_type": "markdown",
   "id": "b53c0c6a",
   "metadata": {},
   "source": [
    "### device_category"
   ]
  },
  {
   "cell_type": "markdown",
   "id": "24be55cc",
   "metadata": {},
   "source": [
    "device_category - 3 категории, пропусков нет. Из преобразований - будет последующее onehot-кодирование"
   ]
  },
  {
   "cell_type": "markdown",
   "id": "3c4c84c4",
   "metadata": {},
   "source": [
    "### device_os, device_brand, device_browser"
   ]
  },
  {
   "cell_type": "markdown",
   "id": "f3c84fce",
   "metadata": {},
   "source": [
    "восстановим ОС из других значений device_*"
   ]
  },
  {
   "cell_type": "code",
   "execution_count": null,
   "id": "1afceaf4",
   "metadata": {},
   "outputs": [],
   "source": [
    "# res['device_os'].value_counts()"
   ]
  },
  {
   "cell_type": "code",
   "execution_count": null,
   "id": "130ae1f6",
   "metadata": {},
   "outputs": [],
   "source": [
    "best_brands = ['Samsung', 'Xiaomi', 'Huawei', 'POCO']\n",
    "\n",
    "dev_types = ['mobile', 'tablet']\n",
    "\n",
    "android_brands = ['Xiaomi', 'Samsung', 'Huawei', 'Vivo', 'LG',\n",
    "       'BQ', 'OnePlus', 'itel', 'Asus', 'Sony', 'Android', 'OPPO',\n",
    "       'Nokia', 'Realme', 'Alcatel', 'Infinix', 'Micromax', 'Blackview',\n",
    "       'Oukitel', 'ZTE', 'Motorola', 'HOMTOM', 'Google', 'Lenovo',\n",
    "       'China Phone', 'Neffos', 'Tecno', 'DOOGEE', 'Vsmart', 'Meizu', 'Umidigi', 'Leagoo', 'Highscreen', 'Ulefone', 'HTC',\n",
    "       'Cubot', 'Symphony', 'Vestel', 'Guophone', 'Wileyfox', 'Vertex',\n",
    "       'POCO', 'TCL', 'SonyEricsson', 'Nomu', 'Prestigio',\n",
    "       'Philips', 'LeEco', 'DEXP', 'Hisense', 'Vernee', 'Tele2', 'CAT',\n",
    "       'H96', 'Kyocera', 'Inoi', 'Acer', 'Kingplay', 'Sharp',\n",
    "       'MTC', 'iNew', 'Karbonn', 'Wiko', 'Gionee', 'Digma',\n",
    "       'Yota Devices', 'Kata', 'Poptel', 'Flylion', 'AGM', 'Teclast',\n",
    "       'Fly', 'MLS', 'LeTV', 'Nuu', 'Celkon', 'Chuwi', 'Walton',\n",
    "       'Haier', 'Coolpad', 'Xiaolajiao', 'Lava', 'General Mobile',\n",
    "       'Black Fox', 'Condor', 'Razer', 'Microsoft', 'Fujitsu',\n",
    "       'Alldocube', 'ZOJI', 'Amazon', 'PPTV', 'Jiake', 'Mito', 'Oysters',\n",
    "       'NOA', 'Caterpillar', 'SenseIT', 'Verizon', 'Komu', 'BLU', 'RCA',\n",
    "       'Cube', 'AT&T', 'Tonbux', 'Dark', 'Elephone', 'T-Mobile',\n",
    "       'Smartfren', 'Billion', 'Gome', 'A1', 'MTS', 'Geotel', 'BLUBOO',\n",
    "       'Ananda', 'MediaTek', 'KingSing', 'Ark', 'Essential',\n",
    "       'Dragon Touch', 'E&L', 'Fero',  'Wigor', 'Tanix',\n",
    "       'Mlais', 'InFocus', 'Smartisan', 'Beelink', 'Unihertz', 'Orbic',\n",
    "       'Honeywell', 'Archos', 'RED', 'Sonim', 'Jiayu', 'Evertek',\n",
    "       'Leegoog', 'QMobile', 'INUI', 'Artel', 'Irbis', 'China Mobile',\n",
    "       'Flexymove', 'Olla', 'Krip', 'Star', 'UMI', 'Iris', 'Ellipsis',\n",
    "       'LTC', 'Motive', 'Advan', 'M-HORSE', 'Winnovo', 'ThL', 'Nomi',\n",
    "       'Wings Mobile', 'MXQ', 'How', 'Centric', 'Maze', 'Corn',\n",
    "       'China TVBox', 'Gretel', 'Vertu', 'Evercoss', 'teXet', 'Qbex',\n",
    "       'Panasonic', 'Tagital', 'Dell', 'Maxvi']"
   ]
  },
  {
   "cell_type": "code",
   "execution_count": null,
   "id": "0acf0cd1",
   "metadata": {},
   "outputs": [],
   "source": [
    "%%time\n",
    "def foo(x):\n",
    "    if x['device_os']=='unknown':\n",
    "        if x['device_brand'] in android_brands:\n",
    "            return 'Android'\n",
    "        elif (x['device_brand'] == 'Apple') and (x.device_category in dev_types):\n",
    "            return 'iOS'\n",
    "    elif x['device_os'] != x['device_os']:\n",
    "        if (x['device_category'] in dev_types) and (x['device_brand']=='Apple'):\n",
    "            return 'iOS'\n",
    "        elif x['device_brand'] in android_brands:\n",
    "            return 'Android'\n",
    "    else:\n",
    "        return x['device_os']\n",
    "    return x['device_os']\n",
    "    \n",
    "res['device_os'] = res.apply(lambda x: foo(x), axis=1)"
   ]
  },
  {
   "cell_type": "code",
   "execution_count": null,
   "id": "ef31c56e",
   "metadata": {},
   "outputs": [],
   "source": [
    "def foo_os(x):\n",
    "    if x in ['Android', 'iOS']:\n",
    "        return 1\n",
    "    else:\n",
    "        return 0\n",
    "    return 0\n",
    "\n",
    "res['cat_os'] = res['device_os'].apply(lambda x: foo_os(x))"
   ]
  },
  {
   "cell_type": "markdown",
   "id": "84234644",
   "metadata": {},
   "source": [
    "device_brand преобразуем в три категории: Apple - 3, Samsung, Xiaomi, Huawei и Poco - 2, остальные бренды - 1\n",
    "признак device_browser отбросим - "
   ]
  },
  {
   "cell_type": "code",
   "execution_count": null,
   "id": "15c149e8",
   "metadata": {},
   "outputs": [],
   "source": [
    "def brand2cat(x):\n",
    "    if x == 'Apple':\n",
    "        return int(3)\n",
    "    elif x in best_brands:\n",
    "        return int(2)\n",
    "    else:\n",
    "        return int(1)\n",
    "    return int(0)\n",
    "\n",
    "res['cat_device_brand'] = res['device_brand'].apply(lambda x: brand2cat(x))\n",
    "res = res.drop(['device_brand'], axis=1)"
   ]
  },
  {
   "cell_type": "markdown",
   "id": "5f0a2e86",
   "metadata": {},
   "source": [
    "### device_screen_resolution"
   ]
  },
  {
   "cell_type": "code",
   "execution_count": null,
   "id": "207471d3",
   "metadata": {},
   "outputs": [],
   "source": [
    "# res['device_screen_resolution'].value_counts()"
   ]
  },
  {
   "cell_type": "code",
   "execution_count": null,
   "id": "08f1d3f8",
   "metadata": {},
   "outputs": [],
   "source": [
    "# res['']"
   ]
  },
  {
   "cell_type": "code",
   "execution_count": null,
   "id": "5d0ad699",
   "metadata": {},
   "outputs": [],
   "source": []
  },
  {
   "cell_type": "markdown",
   "id": "9f4d0cbb",
   "metadata": {},
   "source": [
    "### device_browser"
   ]
  },
  {
   "cell_type": "code",
   "execution_count": null,
   "id": "49b4dd7e",
   "metadata": {},
   "outputs": [],
   "source": [
    "def foo_browser(x):\n",
    "    if x in ['Chrome', 'Safari', 'YaBrowser']:\n",
    "        return 1\n",
    "    else:\n",
    "        return 0\n",
    "    return 0"
   ]
  },
  {
   "cell_type": "code",
   "execution_count": null,
   "id": "43ff0a94",
   "metadata": {},
   "outputs": [],
   "source": [
    "%%time\n",
    "res['cat_browser'] = res['device_browser'].apply(lambda x: foo_browser(x)) "
   ]
  },
  {
   "cell_type": "markdown",
   "id": "a684941a",
   "metadata": {},
   "source": [
    "## GEO_*\n",
    "### geo_country"
   ]
  },
  {
   "cell_type": "code",
   "execution_count": null,
   "id": "b85b946d",
   "metadata": {},
   "outputs": [],
   "source": [
    "# res['geo_country'].value_counts()"
   ]
  },
  {
   "cell_type": "code",
   "execution_count": null,
   "id": "aef82f20",
   "metadata": {},
   "outputs": [],
   "source": [
    "# res[res['target_event']==1]['geo_country'].value_counts()"
   ]
  },
  {
   "cell_type": "code",
   "execution_count": null,
   "id": "8d8a337e",
   "metadata": {},
   "outputs": [],
   "source": [
    "res['is_russia'] = res['geo_country'].apply(lambda x: 1 if x=='Russia' else 0)"
   ]
  },
  {
   "cell_type": "code",
   "execution_count": null,
   "id": "293d00f4",
   "metadata": {},
   "outputs": [],
   "source": []
  },
  {
   "cell_type": "markdown",
   "id": "17934888",
   "metadata": {},
   "source": [
    "### geo_city"
   ]
  },
  {
   "cell_type": "code",
   "execution_count": null,
   "id": "437d565e",
   "metadata": {},
   "outputs": [],
   "source": [
    "def foo_city(x):\n",
    "    #print(x)\n",
    "    t = 0\n",
    "    try:\n",
    "        t = df_vc_city.loc[df_vc_browser['city'], 'cat'][x]\n",
    "    except:\n",
    "        t = 0\n",
    "    return t"
   ]
  },
  {
   "cell_type": "code",
   "execution_count": null,
   "id": "3d619316",
   "metadata": {},
   "outputs": [],
   "source": [
    "range_city = [0, 100, 1000, 10000, 100000]\n",
    "cat_city = [0, 1, 2, 3]\n",
    "vc_city = res[res['target_event']==1]['geo_city'].value_counts()\n",
    "df_vc_city = pd.DataFrame(vc_city)\n",
    "df_vc_city['city'] = df_vc_city.index\n",
    "df_vc_city = df_vc_city.rename(columns={'geo_city': 'count'})\n",
    "df_vc_city['cat'] = pd.cut(df_vc_city['count'], range_city, labels=cat_city)\n",
    "res['cat_city'] = res['geo_city'].apply(lambda x: foo_city(x)) #.astype(np.int8)\n",
    "# res = res.drop(['utm_campaign'], axis=1)"
   ]
  },
  {
   "cell_type": "code",
   "execution_count": null,
   "id": "60c2bdae",
   "metadata": {},
   "outputs": [],
   "source": [
    "def view_occupancy(df):\n",
    "    length = len(df)\n",
    "    dic = dict()\n",
    "    for col in df.columns:\n",
    "        percent_filled = (length-df[col].isna().sum())/length\n",
    "        dic[col] = percent_filled\n",
    "\n",
    "    dic = sorted(dic.items(), key=lambda x: x[1], reverse=True)\n",
    "    for k, v in dic:\n",
    "        print('{}: {:.3f}%'.format(k, v*100))"
   ]
  },
  {
   "cell_type": "code",
   "execution_count": null,
   "id": "8f4258f2",
   "metadata": {},
   "outputs": [],
   "source": [
    "# view_occupancy(res)"
   ]
  },
  {
   "cell_type": "code",
   "execution_count": null,
   "id": "db4e2435",
   "metadata": {},
   "outputs": [],
   "source": [
    "cols_drop = ['session_id',\n",
    " 'client_id',\n",
    " 'visit_number',\n",
    " 'utm_keyword', \n",
    " 'device_model',\n",
    " 'device_screen_resolution']\n",
    "res = res.drop(cols_drop, axis=1)"
   ]
  },
  {
   "cell_type": "code",
   "execution_count": null,
   "id": "0483b6f2",
   "metadata": {},
   "outputs": [],
   "source": [
    "res.columns.tolist()"
   ]
  },
  {
   "cell_type": "code",
   "execution_count": null,
   "id": "a6b19b59",
   "metadata": {},
   "outputs": [],
   "source": [
    "# res = res.sample(frac=1).reset_index(drop=True)\n",
    "res = res.sample(n=100000).reset_index(drop=True)\n",
    "\n",
    "cols_for_ohe = ['utm_source',\n",
    " 'utm_medium',\n",
    " 'utm_campaign',\n",
    " 'utm_adcontent',\n",
    " 'device_category',\n",
    " 'device_os',\n",
    " 'device_browser',\n",
    " 'geo_city',\n",
    " 'geo_country']\n",
    "\n",
    "ohe = OneHotEncoder(sparse=False)\n",
    "\n",
    "ohe.fit(res[cols_for_ohe])\n",
    "transformed = ohe.transform(res[cols_for_ohe])\n",
    "res[ohe.get_feature_names_out()] = transformed\n",
    "df_ohed = res.drop(cols_for_ohe, axis=1)\n",
    "\n",
    "%store df_ohed"
   ]
  },
  {
   "cell_type": "code",
   "execution_count": null,
   "id": "a94f3ed0",
   "metadata": {},
   "outputs": [],
   "source": []
  }
 ],
 "metadata": {
  "kernelspec": {
   "display_name": "Python 3 (ipykernel)",
   "language": "python",
   "name": "python3"
  },
  "language_info": {
   "codemirror_mode": {
    "name": "ipython",
    "version": 3
   },
   "file_extension": ".py",
   "mimetype": "text/x-python",
   "name": "python",
   "nbconvert_exporter": "python",
   "pygments_lexer": "ipython3",
   "version": "3.10.10"
  }
 },
 "nbformat": 4,
 "nbformat_minor": 5
}
