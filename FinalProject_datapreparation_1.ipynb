{
 "cells": [
  {
   "cell_type": "code",
   "execution_count": 1,
   "id": "473a79aa",
   "metadata": {},
   "outputs": [],
   "source": [
    "import pandas as pd\n",
    "from sklearn.preprocessing import OneHotEncoder\n",
    "from warnings import filterwarnings\n",
    "\n",
    "filterwarnings('ignore')\n",
    "\n",
    "%store -r df\n",
    "\n",
    "df = df.sample(frac=1).reset_index(drop=True)\n",
    "df = df.sample(n=200000).reset_index(drop=True)\n",
    "\n",
    "\n",
    "for col in df.columns:\n",
    "    df[col] = df[col].fillna('unknown')"
   ]
  },
  {
   "cell_type": "code",
   "execution_count": 2,
   "id": "dd8cce73",
   "metadata": {},
   "outputs": [
    {
     "name": "stdout",
     "output_type": "stream",
     "text": [
      "done.\n"
     ]
    }
   ],
   "source": [
    "n_limit = 1250\n",
    "vc =  df.utm_source.value_counts(dropna=False)\n",
    "values = list(vc[vc > n_limit].index)\n",
    "df['utm_source_new'] = df.utm_source.apply(lambda x: x if x in values else 'other')\n",
    "df = df.drop(['utm_source'], axis=1)\n",
    "#df.utm_source_new.value_counts()\n",
    "\n",
    "\n",
    "n_limit = 800\n",
    "vc =  df.utm_campaign.value_counts(dropna=False)\n",
    "values = list(vc[vc > n_limit].index)\n",
    "df['utm_campaign_new'] = df['utm_campaign'].apply(lambda x: x if x in values else 'other')\n",
    "df = df.drop(['utm_campaign'], axis=1)\n",
    "# print(sum(list((vc[vc > n_limit]/df.shape[0])*100)))\n",
    "# (vc[vc > n_limit]/df.shape[0])*100\n",
    "\n",
    "#______________________________________________________________________________________________________________________\n",
    "# s = df.utm_medium.value_counts(normalize=True,dropna=False).nlargest(8)#.mul(100).round(1).astype('str') + ' %'\n",
    "# print(type(s))\n",
    "# print(s)\n",
    "# print(list(s.index))\n",
    "# print(sum(s)*100)\n",
    "\n",
    "n_limit = 4000\n",
    "vc =  df.utm_medium.value_counts(dropna=False)\n",
    "values = list(vc[vc > n_limit].index)\n",
    "df['utm_medium_new'] = df['utm_medium'].apply(lambda x: x if x in values else 'other')\n",
    "df = df.drop(['utm_medium'], axis=1)\n",
    "#print(sum(list((vc[vc > n_limit]/df.shape[0])*100)))\n",
    "#(vc[vc > n_limit]/df.shape[0])*100\n",
    "\n",
    "#______________________________________________________________________________________________________________________\n",
    "n_limit = 800\n",
    "vc = df['utm_adcontent'].value_counts(dropna=False)\n",
    "values = list(vc[vc > n_limit].index)\n",
    "df['utm_adcontent_new'] = df['utm_adcontent'].apply(lambda x: x if x in values else 'other')\n",
    "df = df.drop(['utm_adcontent'], axis=1)\n",
    "# print(sum(list(vc[vc > n_limit]/df.shape[0])*100))\n",
    "\n",
    "#______________________________________________________________________________________________________________________\n",
    "n_limit = 2500\n",
    "vc = df['device_brand'].value_counts(dropna=False)\n",
    "values = list(vc[vc > n_limit].index)\n",
    "df['device_brand_new'] = df['device_brand'].apply(lambda x: x if x in values else 'other')\n",
    "df = df.drop(['device_brand'], axis=1)\n",
    "#print(sum(list(vc[vc > n_limit]/df.shape[0])*100))\n",
    "\n",
    "#______________________________________________________________________________________________________________________\n",
    "n_limit = 500\n",
    "vc = df['device_screen_resolution'].value_counts(dropna=False)\n",
    "values = list(vc[vc > n_limit].index)\n",
    "df['device_screen_resolution_new'] = df['device_screen_resolution'].apply(lambda x: x if x in values else 'other')\n",
    "df = df.drop(['device_screen_resolution'], axis=1)\n",
    "#print(sum(list(vc[vc > n_limit]/df.shape[0])*100))\n",
    "\n",
    "#______________________________________________________________________________________________________________________\n",
    "n_limit = 1000\n",
    "vc = df['geo_country'].value_counts(dropna=False)\n",
    "values = list(vc[vc > n_limit].index)\n",
    "df['geo_country_new'] = df['geo_country'].apply(lambda x: x if x in values else 'other')\n",
    "df = df.drop(['geo_country'], axis=1)\n",
    "#print(sum(list(vc[vc > n_limit]/df.shape[0])*100))\n",
    "\n",
    "#______________________________________________________________________________________________________________________\n",
    "n_limit = 100\n",
    "vc = df['geo_city'].value_counts(dropna=False)\n",
    "values = list(vc[vc > n_limit].index)\n",
    "df['geo_city_new'] = df['geo_city'].apply(lambda x: x if x in values else 'other')\n",
    "df = df.drop(['geo_city'], axis=1)\n",
    "#print(sum(list(vc[vc > n_limit]/df.shape[0])*100))\n",
    "print('done.')\n",
    "#______________________________________________________________________________________________________________________"
   ]
  },
  {
   "cell_type": "code",
   "execution_count": 3,
   "id": "c0fedf67",
   "metadata": {},
   "outputs": [],
   "source": [
    "df['visit_date'] = pd.to_datetime(df['visit_date'])\n",
    "df['visit_month'] = df['visit_date'].apply(lambda x: int(x.month))"
   ]
  },
  {
   "cell_type": "code",
   "execution_count": 4,
   "id": "def64b1c",
   "metadata": {},
   "outputs": [
    {
     "name": "stdout",
     "output_type": "stream",
     "text": [
      "Stored 'df_ohed' (DataFrame)\n"
     ]
    }
   ],
   "source": [
    "col_for_del = ['session_id', 'client_id', 'visit_date', 'visit_time', 'visit_number']#, 'utm_source', 'utm_medium', 'utm_campaign', 'utm_adcontent', 'device_brand', \n",
    "               #'device_screen_resolution', 'device_browser', 'geo_country', 'geo_city']\n",
    "df = df.drop(col_for_del, axis=1)\n",
    "# list(df1.columns)\n",
    "\n",
    "cols_for_ohe = ['device_category', 'utm_source_new', 'utm_campaign_new', 'utm_medium_new', 'utm_adcontent_new', 'utm_keyword', 'device_brand_new', 'device_screen_resolution_new', \n",
    "                'device_os', 'device_model', 'device_browser', 'geo_country_new', 'geo_city_new']\n",
    "\n",
    "ohe = OneHotEncoder(sparse=False)\n",
    "\n",
    "\n",
    "ohe.fit(df[cols_for_ohe])\n",
    "transformed = ohe.transform(df[cols_for_ohe])\n",
    "df[ohe.get_feature_names_out()] = transformed\n",
    "df_ohed = df.drop(cols_for_ohe, axis=1)\n",
    "\n",
    "%store df_ohed"
   ]
  },
  {
   "cell_type": "code",
   "execution_count": null,
   "id": "50ddb1d5",
   "metadata": {},
   "outputs": [],
   "source": []
  }
 ],
 "metadata": {
  "kernelspec": {
   "display_name": "Python 3 (ipykernel)",
   "language": "python",
   "name": "python3"
  },
  "language_info": {
   "codemirror_mode": {
    "name": "ipython",
    "version": 3
   },
   "file_extension": ".py",
   "mimetype": "text/x-python",
   "name": "python",
   "nbconvert_exporter": "python",
   "pygments_lexer": "ipython3",
   "version": "3.10.10"
  }
 },
 "nbformat": 4,
 "nbformat_minor": 5
}
