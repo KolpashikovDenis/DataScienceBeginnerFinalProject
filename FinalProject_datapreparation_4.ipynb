{
 "cells": [
  {
   "cell_type": "markdown",
   "id": "548b31a1",
   "metadata": {},
   "source": [
    "В данном блокноте удаляю дубликаты session_id, причём те, у которых target_event = 0"
   ]
  },
  {
   "cell_type": "code",
   "execution_count": 1,
   "id": "473a79aa",
   "metadata": {},
   "outputs": [],
   "source": [
    "import pandas as pd\n",
    "import numpy as np\n",
    "from sklearn.preprocessing import OneHotEncoder\n",
    "from warnings import filterwarnings\n",
    "\n",
    "filterwarnings('ignore')\n",
    "\n",
    "%store -r df\n",
    "\n",
    "# для этого датафрейма \n",
    "#df = df.sample(frac=1).reset_index(drop=True)\n",
    "#df = df.sample(n=50000).reset_index(drop=True)\n",
    "\n",
    "res = df[~((df.duplicated(['session_id'])) & (df['target_event']==0) )]\n",
    "for col in res.columns:\n",
    "    res[col] = res[col].fillna('unknown')"
   ]
  },
  {
   "cell_type": "markdown",
   "id": "22c96265",
   "metadata": {},
   "source": [
    "## visit_date и visit_time\n",
    "здесь делаю некоторые манипуляции с датой и временем: смотрю сколько было целевых действий за месяц и за час - оказывается, час и месяц влияют на целевое действие"
   ]
  },
  {
   "cell_type": "code",
   "execution_count": 2,
   "id": "071ba419",
   "metadata": {
    "scrolled": true
   },
   "outputs": [
    {
     "name": "stdout",
     "output_type": "stream",
     "text": [
      "CPU times: total: 11min 15s\n",
      "Wall time: 11min 16s\n"
     ]
    }
   ],
   "source": [
    "%%time\n",
    "res['visit_time'] = pd.to_datetime(res['visit_time'])\n",
    "res['visit_hour'] = res['visit_time'].apply(lambda x: int(x.hour))\n",
    "vc = res[res['target_event']==1]['visit_hour'].value_counts()\n",
    "\n",
    "ranges_hour = [0, 1000, 2000, 3000, 4000]\n",
    "cats_hour = [1, 2, 3, 4]\n",
    "df_vc = pd.DataFrame(vc)\n",
    "df_vc['hour'] = df_vc.index\n",
    "df_vc = df_vc.rename(columns={'visit_hour': 'count'})\n",
    "df_vc.reset_index(drop=True)\n",
    "df_vc['cat'] = pd.cut(df_vc['count'], ranges_hour, labels=cats_hour)\n",
    "\n",
    "res['cat_hour'] = res['visit_hour'].apply(lambda x: df_vc.loc[df_vc['hour'], 'cat'][x])\n",
    "\n",
    "res['visit_date'] = pd.to_datetime(res['visit_date'])\n",
    "res['visit_month'] = res['visit_date'].apply(lambda x: int(x.month))\n",
    "\n",
    "vcm = res[res['target_event']==1]['visit_month'].value_counts()\n",
    "\n",
    "ranges_month = [0, 5000, 6000, 7000, 8000]\n",
    "cats_month = [1, 2, 3, 4]\n",
    "df_vcm = pd.DataFrame(vcm)\n",
    "df_vcm['month'] = df_vcm.index\n",
    "df_vcm = df_vcm.rename(columns={'visit_month': 'count'})\n",
    "df_vcm.reset_index(drop=True)\n",
    "df_vcm['cat'] = pd.cut(df_vcm['count'], ranges_month, labels=cats_month)\n",
    "res['cat_month'] = res['visit_month'].apply(lambda x: df_vcm.loc[df_vcm['month'], 'cat'][x])\n",
    "\n",
    "res = res.drop(['visit_date', 'visit_month', 'visit_time', 'visit_hour'], axis=1)"
   ]
  },
  {
   "cell_type": "markdown",
   "id": "0d316e7a",
   "metadata": {},
   "source": [
    "## UTM_*\n",
    "### utm_source"
   ]
  },
  {
   "cell_type": "code",
   "execution_count": 3,
   "id": "9d352c7d",
   "metadata": {},
   "outputs": [],
   "source": [
    "def foo_source(x):\n",
    "    #print(x)\n",
    "    try:\n",
    "        t = df_vc_utmsource.loc[df_vc_utmsource['source'], 'cat'][x]\n",
    "    except:\n",
    "        t = 0\n",
    "    return t"
   ]
  },
  {
   "cell_type": "code",
   "execution_count": 4,
   "id": "344ddf4c",
   "metadata": {},
   "outputs": [
    {
     "name": "stdout",
     "output_type": "stream",
     "text": [
      "CPU times: total: 13min 13s\n",
      "Wall time: 13min 15s\n"
     ]
    }
   ],
   "source": [
    "%%time\n",
    "adv_soc_net = ['QxAxdyPLuQMEcrdZWdWb', 'MvfHsxITijuriZxsqZqt', 'ISrKoXQCxqqYvAZICvjs', 'IZEXUFLARCUMynmHNBGo', 'PlbkrSYoHuZBWfYjYnfw','gVRrcxiDQubJiljoTbGm']\n",
    "res['adv_soc_net'] = res['utm_source'].apply(lambda x: 1 if x in adv_soc_net else 0)\n",
    "\n",
    "range_source = [0, 500, 5000, 50000]\n",
    "cat_source = [1, 2, 3]\n",
    "vc_utmsource = res[res['target_event']==1]['utm_source'].value_counts()\n",
    "df_vc_utmsource = pd.DataFrame(vc_utmsource)\n",
    "df_vc_utmsource['source'] = df_vc_utmsource.index\n",
    "df_vc_utmsource = df_vc_utmsource.rename(columns={'utm_source': 'count'})\n",
    "df_vc_utmsource['cat'] = pd.cut(df_vc_utmsource['count'], range_source, labels=cat_source).astype(np.int8)\n",
    "\n",
    "res['cat_source'] = res['utm_source'].apply(lambda x: foo_source(x))\n",
    "# res = res.drop(['utm_source'], axis=1)"
   ]
  },
  {
   "cell_type": "markdown",
   "id": "7bf1d220",
   "metadata": {},
   "source": [
    "### utm_medium"
   ]
  },
  {
   "cell_type": "code",
   "execution_count": 5,
   "id": "8d3bc673",
   "metadata": {},
   "outputs": [],
   "source": [
    "utm_medium_type = ['organic', 'referral', '(none)']\n",
    "res['utm_medium_type'] = res['utm_medium'].apply(lambda x: 0 if x in ['organic', 'referral', '(none)'] else 1)\n",
    "# res = res.drop(['utm_medium'], axis=1)"
   ]
  },
  {
   "cell_type": "markdown",
   "id": "9d5cce96",
   "metadata": {},
   "source": [
    "### utm_adcontent"
   ]
  },
  {
   "cell_type": "code",
   "execution_count": 6,
   "id": "bd508175",
   "metadata": {},
   "outputs": [],
   "source": [
    "# оставлю, обработка OneHotEncoder"
   ]
  },
  {
   "cell_type": "markdown",
   "id": "4f4d5170",
   "metadata": {},
   "source": [
    "### utm_campaign"
   ]
  },
  {
   "cell_type": "code",
   "execution_count": null,
   "id": "bce6440f",
   "metadata": {},
   "outputs": [],
   "source": [
    "# оставлю, обработка OneHotEncoder\n"
   ]
  },
  {
   "cell_type": "code",
   "execution_count": 25,
   "id": "7d1c6c08",
   "metadata": {
    "scrolled": true
   },
   "outputs": [
    {
     "data": {
      "text/html": [
       "<div>\n",
       "<style scoped>\n",
       "    .dataframe tbody tr th:only-of-type {\n",
       "        vertical-align: middle;\n",
       "    }\n",
       "\n",
       "    .dataframe tbody tr th {\n",
       "        vertical-align: top;\n",
       "    }\n",
       "\n",
       "    .dataframe thead th {\n",
       "        text-align: right;\n",
       "    }\n",
       "</style>\n",
       "<table border=\"1\" class=\"dataframe\">\n",
       "  <thead>\n",
       "    <tr style=\"text-align: right;\">\n",
       "      <th></th>\n",
       "      <th>utm_campaign</th>\n",
       "      <th>utm_adcontent</th>\n",
       "      <th>device_category</th>\n",
       "      <th>device_os</th>\n",
       "      <th>target_event</th>\n",
       "      <th>cat_hour</th>\n",
       "      <th>cat_month</th>\n",
       "      <th>adv_soc_net</th>\n",
       "      <th>cat_source</th>\n",
       "      <th>utm_medium_type</th>\n",
       "      <th>cat_os</th>\n",
       "      <th>cat_device_brand</th>\n",
       "      <th>cat_browser</th>\n",
       "      <th>is_russia</th>\n",
       "      <th>cat_city</th>\n",
       "    </tr>\n",
       "  </thead>\n",
       "  <tbody>\n",
       "    <tr>\n",
       "      <th>0</th>\n",
       "      <td>LEoPHuyFvzoNfnzGgfcd</td>\n",
       "      <td>vCIpmpaGBnIQhyYNkXqp</td>\n",
       "      <td>mobile</td>\n",
       "      <td>Android</td>\n",
       "      <td>0</td>\n",
       "      <td>4</td>\n",
       "      <td>3</td>\n",
       "      <td>0</td>\n",
       "      <td>3</td>\n",
       "      <td>1</td>\n",
       "      <td>1</td>\n",
       "      <td>2</td>\n",
       "      <td>1</td>\n",
       "      <td>1</td>\n",
       "      <td>0</td>\n",
       "    </tr>\n",
       "    <tr>\n",
       "      <th>1</th>\n",
       "      <td>FTjNLDyTrXaWYgZymFkV</td>\n",
       "      <td>xhoenQgDQsgfEPYNPwKO</td>\n",
       "      <td>mobile</td>\n",
       "      <td>Android</td>\n",
       "      <td>0</td>\n",
       "      <td>2</td>\n",
       "      <td>3</td>\n",
       "      <td>1</td>\n",
       "      <td>2</td>\n",
       "      <td>1</td>\n",
       "      <td>1</td>\n",
       "      <td>2</td>\n",
       "      <td>0</td>\n",
       "      <td>1</td>\n",
       "      <td>0</td>\n",
       "    </tr>\n",
       "    <tr>\n",
       "      <th>2</th>\n",
       "      <td>LEoPHuyFvzoNfnzGgfcd</td>\n",
       "      <td>vCIpmpaGBnIQhyYNkXqp</td>\n",
       "      <td>mobile</td>\n",
       "      <td>Android</td>\n",
       "      <td>0</td>\n",
       "      <td>1</td>\n",
       "      <td>4</td>\n",
       "      <td>0</td>\n",
       "      <td>3</td>\n",
       "      <td>1</td>\n",
       "      <td>1</td>\n",
       "      <td>2</td>\n",
       "      <td>1</td>\n",
       "      <td>1</td>\n",
       "      <td>0</td>\n",
       "    </tr>\n",
       "    <tr>\n",
       "      <th>3</th>\n",
       "      <td>unknown</td>\n",
       "      <td>NOBKLgtuvqYWkXQHeYWM</td>\n",
       "      <td>mobile</td>\n",
       "      <td>Android</td>\n",
       "      <td>0</td>\n",
       "      <td>1</td>\n",
       "      <td>3</td>\n",
       "      <td>0</td>\n",
       "      <td>3</td>\n",
       "      <td>1</td>\n",
       "      <td>1</td>\n",
       "      <td>2</td>\n",
       "      <td>1</td>\n",
       "      <td>1</td>\n",
       "      <td>0</td>\n",
       "    </tr>\n",
       "    <tr>\n",
       "      <th>4</th>\n",
       "      <td>unknown</td>\n",
       "      <td>unknown</td>\n",
       "      <td>mobile</td>\n",
       "      <td>Android</td>\n",
       "      <td>0</td>\n",
       "      <td>1</td>\n",
       "      <td>3</td>\n",
       "      <td>0</td>\n",
       "      <td>3</td>\n",
       "      <td>1</td>\n",
       "      <td>1</td>\n",
       "      <td>2</td>\n",
       "      <td>1</td>\n",
       "      <td>1</td>\n",
       "      <td>0</td>\n",
       "    </tr>\n",
       "    <tr>\n",
       "      <th>5</th>\n",
       "      <td>LTuZkdKfxRGVceoWkVyg</td>\n",
       "      <td>JNHcPlZPxEMWDnRiyoBf</td>\n",
       "      <td>mobile</td>\n",
       "      <td>iOS</td>\n",
       "      <td>0</td>\n",
       "      <td>4</td>\n",
       "      <td>3</td>\n",
       "      <td>0</td>\n",
       "      <td>3</td>\n",
       "      <td>0</td>\n",
       "      <td>1</td>\n",
       "      <td>3</td>\n",
       "      <td>1</td>\n",
       "      <td>1</td>\n",
       "      <td>0</td>\n",
       "    </tr>\n",
       "    <tr>\n",
       "      <th>6</th>\n",
       "      <td>FTjNLDyTrXaWYgZymFkV</td>\n",
       "      <td>LcGIUNPUAmXtQJaDfFBR</td>\n",
       "      <td>tablet</td>\n",
       "      <td>Android</td>\n",
       "      <td>0</td>\n",
       "      <td>2</td>\n",
       "      <td>4</td>\n",
       "      <td>0</td>\n",
       "      <td>0</td>\n",
       "      <td>1</td>\n",
       "      <td>1</td>\n",
       "      <td>1</td>\n",
       "      <td>1</td>\n",
       "      <td>1</td>\n",
       "      <td>0</td>\n",
       "    </tr>\n",
       "    <tr>\n",
       "      <th>7</th>\n",
       "      <td>LEoPHuyFvzoNfnzGgfcd</td>\n",
       "      <td>JNHcPlZPxEMWDnRiyoBf</td>\n",
       "      <td>mobile</td>\n",
       "      <td>Android</td>\n",
       "      <td>0</td>\n",
       "      <td>3</td>\n",
       "      <td>1</td>\n",
       "      <td>0</td>\n",
       "      <td>3</td>\n",
       "      <td>1</td>\n",
       "      <td>1</td>\n",
       "      <td>2</td>\n",
       "      <td>1</td>\n",
       "      <td>1</td>\n",
       "      <td>0</td>\n",
       "    </tr>\n",
       "    <tr>\n",
       "      <th>8</th>\n",
       "      <td>LEoPHuyFvzoNfnzGgfcd</td>\n",
       "      <td>vCIpmpaGBnIQhyYNkXqp</td>\n",
       "      <td>mobile</td>\n",
       "      <td>iOS</td>\n",
       "      <td>0</td>\n",
       "      <td>4</td>\n",
       "      <td>4</td>\n",
       "      <td>0</td>\n",
       "      <td>3</td>\n",
       "      <td>1</td>\n",
       "      <td>1</td>\n",
       "      <td>3</td>\n",
       "      <td>1</td>\n",
       "      <td>1</td>\n",
       "      <td>0</td>\n",
       "    </tr>\n",
       "    <tr>\n",
       "      <th>9</th>\n",
       "      <td>LEoPHuyFvzoNfnzGgfcd</td>\n",
       "      <td>JNHcPlZPxEMWDnRiyoBf</td>\n",
       "      <td>mobile</td>\n",
       "      <td>Android</td>\n",
       "      <td>0</td>\n",
       "      <td>4</td>\n",
       "      <td>3</td>\n",
       "      <td>0</td>\n",
       "      <td>3</td>\n",
       "      <td>1</td>\n",
       "      <td>1</td>\n",
       "      <td>2</td>\n",
       "      <td>1</td>\n",
       "      <td>1</td>\n",
       "      <td>0</td>\n",
       "    </tr>\n",
       "  </tbody>\n",
       "</table>\n",
       "</div>"
      ],
      "text/plain": [
       "           utm_campaign         utm_adcontent device_category device_os  \\\n",
       "0  LEoPHuyFvzoNfnzGgfcd  vCIpmpaGBnIQhyYNkXqp          mobile   Android   \n",
       "1  FTjNLDyTrXaWYgZymFkV  xhoenQgDQsgfEPYNPwKO          mobile   Android   \n",
       "2  LEoPHuyFvzoNfnzGgfcd  vCIpmpaGBnIQhyYNkXqp          mobile   Android   \n",
       "3               unknown  NOBKLgtuvqYWkXQHeYWM          mobile   Android   \n",
       "4               unknown               unknown          mobile   Android   \n",
       "5  LTuZkdKfxRGVceoWkVyg  JNHcPlZPxEMWDnRiyoBf          mobile       iOS   \n",
       "6  FTjNLDyTrXaWYgZymFkV  LcGIUNPUAmXtQJaDfFBR          tablet   Android   \n",
       "7  LEoPHuyFvzoNfnzGgfcd  JNHcPlZPxEMWDnRiyoBf          mobile   Android   \n",
       "8  LEoPHuyFvzoNfnzGgfcd  vCIpmpaGBnIQhyYNkXqp          mobile       iOS   \n",
       "9  LEoPHuyFvzoNfnzGgfcd  JNHcPlZPxEMWDnRiyoBf          mobile   Android   \n",
       "\n",
       "   target_event  cat_hour  cat_month  adv_soc_net  cat_source  \\\n",
       "0             0         4          3            0           3   \n",
       "1             0         2          3            1           2   \n",
       "2             0         1          4            0           3   \n",
       "3             0         1          3            0           3   \n",
       "4             0         1          3            0           3   \n",
       "5             0         4          3            0           3   \n",
       "6             0         2          4            0           0   \n",
       "7             0         3          1            0           3   \n",
       "8             0         4          4            0           3   \n",
       "9             0         4          3            0           3   \n",
       "\n",
       "   utm_medium_type  cat_os  cat_device_brand  cat_browser  is_russia  cat_city  \n",
       "0                1       1                 2            1          1         0  \n",
       "1                1       1                 2            0          1         0  \n",
       "2                1       1                 2            1          1         0  \n",
       "3                1       1                 2            1          1         0  \n",
       "4                1       1                 2            1          1         0  \n",
       "5                0       1                 3            1          1         0  \n",
       "6                1       1                 1            1          1         0  \n",
       "7                1       1                 2            1          1         0  \n",
       "8                1       1                 3            1          1         0  \n",
       "9                1       1                 2            1          1         0  "
      ]
     },
     "execution_count": 25,
     "metadata": {},
     "output_type": "execute_result"
    }
   ],
   "source": [
    "res = res.drop(['session_id', 'client_id', 'device_model', 'visit_number', 'utm_source', 'utm_keyword'], axis=1)\n",
    "res.head(10)"
   ]
  },
  {
   "cell_type": "markdown",
   "id": "7cdbd324",
   "metadata": {},
   "source": [
    "## DEVICE_*"
   ]
  },
  {
   "cell_type": "markdown",
   "id": "758f9e0d",
   "metadata": {},
   "source": [
    "### device_category"
   ]
  },
  {
   "cell_type": "markdown",
   "id": "241386cf",
   "metadata": {},
   "source": [
    "device_category - 3 категории, пропусков нет. Из преобразований - будет последующее onehot-кодирование"
   ]
  },
  {
   "cell_type": "markdown",
   "id": "de3ef72b",
   "metadata": {},
   "source": [
    "### device_os, device_brand, device_browser"
   ]
  },
  {
   "cell_type": "markdown",
   "id": "7c74d661",
   "metadata": {},
   "source": [
    "восстановим ОС из других значений device_*"
   ]
  },
  {
   "cell_type": "code",
   "execution_count": 11,
   "id": "73421ad5",
   "metadata": {},
   "outputs": [],
   "source": [
    "best_brands = ['Samsung', 'Xiaomi', 'Huawei', 'POCO']\n",
    "\n",
    "dev_types = ['mobile', 'tablet']\n",
    "\n",
    "android_brands = ['Xiaomi', 'Samsung', 'Huawei', 'Vivo', 'LG',\n",
    "       'BQ', 'OnePlus', 'itel', 'Asus', 'Sony', 'Android', 'OPPO',\n",
    "       'Nokia', 'Realme', 'Alcatel', 'Infinix', 'Micromax', 'Blackview',\n",
    "       'Oukitel', 'ZTE', 'Motorola', 'HOMTOM', 'Google', 'Lenovo',\n",
    "       'China Phone', 'Neffos', 'Tecno', 'DOOGEE', 'Vsmart', 'Meizu', 'Umidigi', 'Leagoo', 'Highscreen', 'Ulefone', 'HTC',\n",
    "       'Cubot', 'Symphony', 'Vestel', 'Guophone', 'Wileyfox', 'Vertex',\n",
    "       'POCO', 'TCL', 'SonyEricsson', 'Nomu', 'Prestigio',\n",
    "       'Philips', 'LeEco', 'DEXP', 'Hisense', 'Vernee', 'Tele2', 'CAT',\n",
    "       'H96', 'Kyocera', 'Inoi', 'Acer', 'Kingplay', 'Sharp',\n",
    "       'MTC', 'iNew', 'Karbonn', 'Wiko', 'Gionee', 'Digma',\n",
    "       'Yota Devices', 'Kata', 'Poptel', 'Flylion', 'AGM', 'Teclast',\n",
    "       'Fly', 'MLS', 'LeTV', 'Nuu', 'Celkon', 'Chuwi', 'Walton',\n",
    "       'Haier', 'Coolpad', 'Xiaolajiao', 'Lava', 'General Mobile',\n",
    "       'Black Fox', 'Condor', 'Razer', 'Microsoft', 'Fujitsu',\n",
    "       'Alldocube', 'ZOJI', 'Amazon', 'PPTV', 'Jiake', 'Mito', 'Oysters',\n",
    "       'NOA', 'Caterpillar', 'SenseIT', 'Verizon', 'Komu', 'BLU', 'RCA',\n",
    "       'Cube', 'AT&T', 'Tonbux', 'Dark', 'Elephone', 'T-Mobile',\n",
    "       'Smartfren', 'Billion', 'Gome', 'A1', 'MTS', 'Geotel', 'BLUBOO',\n",
    "       'Ananda', 'MediaTek', 'KingSing', 'Ark', 'Essential',\n",
    "       'Dragon Touch', 'E&L', 'Fero',  'Wigor', 'Tanix',\n",
    "       'Mlais', 'InFocus', 'Smartisan', 'Beelink', 'Unihertz', 'Orbic',\n",
    "       'Honeywell', 'Archos', 'RED', 'Sonim', 'Jiayu', 'Evertek',\n",
    "       'Leegoog', 'QMobile', 'INUI', 'Artel', 'Irbis', 'China Mobile',\n",
    "       'Flexymove', 'Olla', 'Krip', 'Star', 'UMI', 'Iris', 'Ellipsis',\n",
    "       'LTC', 'Motive', 'Advan', 'M-HORSE', 'Winnovo', 'ThL', 'Nomi',\n",
    "       'Wings Mobile', 'MXQ', 'How', 'Centric', 'Maze', 'Corn',\n",
    "       'China TVBox', 'Gretel', 'Vertu', 'Evercoss', 'teXet', 'Qbex',\n",
    "       'Panasonic', 'Tagital', 'Dell', 'Maxvi']"
   ]
  },
  {
   "cell_type": "code",
   "execution_count": 12,
   "id": "a2263e84",
   "metadata": {},
   "outputs": [
    {
     "name": "stdout",
     "output_type": "stream",
     "text": [
      "CPU times: total: 23.9 s\n",
      "Wall time: 24 s\n"
     ]
    }
   ],
   "source": [
    "%%time\n",
    "def foo(x):\n",
    "    if x['device_os']=='unknown':\n",
    "        if x['device_brand'] in android_brands:\n",
    "            return 'Android'\n",
    "        elif (x['device_brand'] == 'Apple') and (x.device_category in dev_types):\n",
    "            return 'iOS'\n",
    "    elif x['device_os'] != x['device_os']:\n",
    "        if (x['device_category'] in dev_types) and (x['device_brand']=='Apple'):\n",
    "            return 'iOS'\n",
    "        elif x['device_brand'] in android_brands:\n",
    "            return 'Android'\n",
    "    else:\n",
    "        return x['device_os']\n",
    "    return x['device_os']\n",
    "    \n",
    "res['device_os'] = res.apply(lambda x: foo(x), axis=1)"
   ]
  },
  {
   "cell_type": "markdown",
   "id": "eaa1b016",
   "metadata": {},
   "source": [
    "device_brand преобразуем в три категории: Apple - 3, Samsung, Xiaomi, Huawei и Poco - 2, остальные бренды - 1\n",
    "признак device_browser отбросим - "
   ]
  },
  {
   "cell_type": "code",
   "execution_count": 13,
   "id": "21ad84a9",
   "metadata": {},
   "outputs": [],
   "source": [
    "def foo_os(x):\n",
    "    if x in ['Android', 'iOS']:\n",
    "        return 1\n",
    "    else:\n",
    "        return 0\n",
    "    return 0\n",
    "\n",
    "res['cat_os'] = res['device_os'].apply(lambda x: foo_os(x))"
   ]
  },
  {
   "cell_type": "code",
   "execution_count": 14,
   "id": "640bf5ed",
   "metadata": {},
   "outputs": [],
   "source": [
    "def brand2cat(x):\n",
    "    if x == 'Apple':\n",
    "        return int(3)\n",
    "    elif x in best_brands:\n",
    "        return int(2)\n",
    "    else:\n",
    "        return int(1)\n",
    "    return int(0)\n",
    "\n",
    "res['cat_device_brand'] = res['device_brand'].apply(lambda x: brand2cat(x))\n",
    "res = res.drop(['device_brand'], axis=1)"
   ]
  },
  {
   "cell_type": "code",
   "execution_count": 16,
   "id": "a5c7edde",
   "metadata": {},
   "outputs": [
    {
     "name": "stdout",
     "output_type": "stream",
     "text": [
      "CPU times: total: 516 ms\n",
      "Wall time: 525 ms\n"
     ]
    }
   ],
   "source": [
    "%%time\n",
    "def foo_browser(x):\n",
    "    if x in ['Chrome', 'Safari', 'YaBrowser']:\n",
    "        return 1\n",
    "    else:\n",
    "        return 0\n",
    "    return 0\n",
    "\n",
    "\n",
    "res['cat_browser'] = res['device_browser'].apply(lambda x: foo_browser(x)) "
   ]
  },
  {
   "cell_type": "markdown",
   "id": "40aeac06",
   "metadata": {},
   "source": [
    "device_screen_resolution удалю"
   ]
  },
  {
   "cell_type": "code",
   "execution_count": 17,
   "id": "ed4e99a0",
   "metadata": {},
   "outputs": [],
   "source": [
    "res = res.drop(['device_browser', 'device_screen_resolution'], axis=1)"
   ]
  },
  {
   "cell_type": "markdown",
   "id": "6114b95c",
   "metadata": {},
   "source": [
    "## GEO_*\n",
    "### geo_country"
   ]
  },
  {
   "cell_type": "code",
   "execution_count": 18,
   "id": "deabc53d",
   "metadata": {},
   "outputs": [],
   "source": [
    "res['is_russia'] = res['geo_country'].apply(lambda x: 1 if x=='Russia' else 0)"
   ]
  },
  {
   "cell_type": "markdown",
   "id": "53586811",
   "metadata": {},
   "source": [
    "### geo_city"
   ]
  },
  {
   "cell_type": "code",
   "execution_count": 19,
   "id": "d39d87e7",
   "metadata": {},
   "outputs": [],
   "source": [
    "def foo_city(x):\n",
    "    #print(x)\n",
    "    t = 0\n",
    "    try:\n",
    "        t = df_vc_city.loc[df_vc_browser['city'], 'cat'][x]\n",
    "    except:\n",
    "        t = 0\n",
    "    return t"
   ]
  },
  {
   "cell_type": "code",
   "execution_count": 20,
   "id": "debe0460",
   "metadata": {},
   "outputs": [
    {
     "name": "stdout",
     "output_type": "stream",
     "text": [
      "CPU times: total: 1.5 s\n",
      "Wall time: 1.51 s\n"
     ]
    }
   ],
   "source": [
    "%%time\n",
    "range_city = [0, 100, 1000, 10000, 100000]\n",
    "cat_city = [0, 1, 2, 3]\n",
    "vc_city = res[res['target_event']==1]['geo_city'].value_counts()\n",
    "df_vc_city = pd.DataFrame(vc_city)\n",
    "df_vc_city['city'] = df_vc_city.index\n",
    "df_vc_city = df_vc_city.rename(columns={'geo_city': 'count'})\n",
    "df_vc_city['cat'] = pd.cut(df_vc_city['count'], range_city, labels=cat_city)\n",
    "res['cat_city'] = res['geo_city'].apply(lambda x: foo_city(x)) #.astype(np.int8)\n",
    "# res = res.drop(['utm_campaign'], axis=1)"
   ]
  },
  {
   "cell_type": "code",
   "execution_count": 21,
   "id": "542087e6",
   "metadata": {},
   "outputs": [],
   "source": [
    "res = res.drop(['geo_country', 'geo_city'], axis=1)"
   ]
  },
  {
   "cell_type": "code",
   "execution_count": 22,
   "id": "151b4532",
   "metadata": {},
   "outputs": [],
   "source": [
    "def view_occupancy(df):\n",
    "    length = len(df)\n",
    "    dic = dict()\n",
    "    for col in df.columns:\n",
    "        percent_filled = (length-df[col].isna().sum())/length\n",
    "        dic[col] = percent_filled\n",
    "\n",
    "    dic = sorted(dic.items(), key=lambda x: x[1], reverse=True)\n",
    "    for k, v in dic:\n",
    "        print('{}: {:.3f}%'.format(k, v*100))"
   ]
  },
  {
   "cell_type": "code",
   "execution_count": 26,
   "id": "185eca77",
   "metadata": {},
   "outputs": [
    {
     "name": "stdout",
     "output_type": "stream",
     "text": [
      "utm_campaign: 100.000%\n",
      "utm_adcontent: 100.000%\n",
      "device_category: 100.000%\n",
      "device_os: 100.000%\n",
      "target_event: 100.000%\n",
      "cat_hour: 100.000%\n",
      "cat_month: 100.000%\n",
      "adv_soc_net: 100.000%\n",
      "cat_source: 100.000%\n",
      "utm_medium_type: 100.000%\n",
      "cat_os: 100.000%\n",
      "cat_device_brand: 100.000%\n",
      "cat_browser: 100.000%\n",
      "is_russia: 100.000%\n",
      "cat_city: 100.000%\n"
     ]
    }
   ],
   "source": [
    "# view_occupancy(res)"
   ]
  },
  {
   "cell_type": "code",
   "execution_count": 24,
   "id": "2eb9fc08",
   "metadata": {},
   "outputs": [
    {
     "data": {
      "text/html": [
       "<div>\n",
       "<style scoped>\n",
       "    .dataframe tbody tr th:only-of-type {\n",
       "        vertical-align: middle;\n",
       "    }\n",
       "\n",
       "    .dataframe tbody tr th {\n",
       "        vertical-align: top;\n",
       "    }\n",
       "\n",
       "    .dataframe thead th {\n",
       "        text-align: right;\n",
       "    }\n",
       "</style>\n",
       "<table border=\"1\" class=\"dataframe\">\n",
       "  <thead>\n",
       "    <tr style=\"text-align: right;\">\n",
       "      <th></th>\n",
       "      <th>utm_campaign</th>\n",
       "      <th>utm_adcontent</th>\n",
       "      <th>utm_keyword</th>\n",
       "      <th>device_category</th>\n",
       "      <th>device_os</th>\n",
       "      <th>target_event</th>\n",
       "      <th>cat_hour</th>\n",
       "      <th>cat_month</th>\n",
       "      <th>adv_soc_net</th>\n",
       "      <th>cat_source</th>\n",
       "      <th>utm_medium_type</th>\n",
       "      <th>cat_os</th>\n",
       "      <th>cat_device_brand</th>\n",
       "      <th>cat_browser</th>\n",
       "      <th>is_russia</th>\n",
       "      <th>cat_city</th>\n",
       "    </tr>\n",
       "  </thead>\n",
       "  <tbody>\n",
       "    <tr>\n",
       "      <th>0</th>\n",
       "      <td>LEoPHuyFvzoNfnzGgfcd</td>\n",
       "      <td>vCIpmpaGBnIQhyYNkXqp</td>\n",
       "      <td>puhZPIYqKXeFPaUviSjo</td>\n",
       "      <td>mobile</td>\n",
       "      <td>Android</td>\n",
       "      <td>0</td>\n",
       "      <td>4</td>\n",
       "      <td>3</td>\n",
       "      <td>0</td>\n",
       "      <td>3</td>\n",
       "      <td>1</td>\n",
       "      <td>1</td>\n",
       "      <td>2</td>\n",
       "      <td>1</td>\n",
       "      <td>1</td>\n",
       "      <td>0</td>\n",
       "    </tr>\n",
       "    <tr>\n",
       "      <th>1</th>\n",
       "      <td>FTjNLDyTrXaWYgZymFkV</td>\n",
       "      <td>xhoenQgDQsgfEPYNPwKO</td>\n",
       "      <td>IGUCNvHlhfHpROGclCit</td>\n",
       "      <td>mobile</td>\n",
       "      <td>Android</td>\n",
       "      <td>0</td>\n",
       "      <td>2</td>\n",
       "      <td>3</td>\n",
       "      <td>1</td>\n",
       "      <td>2</td>\n",
       "      <td>1</td>\n",
       "      <td>1</td>\n",
       "      <td>2</td>\n",
       "      <td>0</td>\n",
       "      <td>1</td>\n",
       "      <td>0</td>\n",
       "    </tr>\n",
       "    <tr>\n",
       "      <th>2</th>\n",
       "      <td>LEoPHuyFvzoNfnzGgfcd</td>\n",
       "      <td>vCIpmpaGBnIQhyYNkXqp</td>\n",
       "      <td>puhZPIYqKXeFPaUviSjo</td>\n",
       "      <td>mobile</td>\n",
       "      <td>Android</td>\n",
       "      <td>0</td>\n",
       "      <td>1</td>\n",
       "      <td>4</td>\n",
       "      <td>0</td>\n",
       "      <td>3</td>\n",
       "      <td>1</td>\n",
       "      <td>1</td>\n",
       "      <td>2</td>\n",
       "      <td>1</td>\n",
       "      <td>1</td>\n",
       "      <td>0</td>\n",
       "    </tr>\n",
       "    <tr>\n",
       "      <th>3</th>\n",
       "      <td>unknown</td>\n",
       "      <td>NOBKLgtuvqYWkXQHeYWM</td>\n",
       "      <td>unknown</td>\n",
       "      <td>mobile</td>\n",
       "      <td>Android</td>\n",
       "      <td>0</td>\n",
       "      <td>1</td>\n",
       "      <td>3</td>\n",
       "      <td>0</td>\n",
       "      <td>3</td>\n",
       "      <td>1</td>\n",
       "      <td>1</td>\n",
       "      <td>2</td>\n",
       "      <td>1</td>\n",
       "      <td>1</td>\n",
       "      <td>0</td>\n",
       "    </tr>\n",
       "    <tr>\n",
       "      <th>4</th>\n",
       "      <td>unknown</td>\n",
       "      <td>unknown</td>\n",
       "      <td>unknown</td>\n",
       "      <td>mobile</td>\n",
       "      <td>Android</td>\n",
       "      <td>0</td>\n",
       "      <td>1</td>\n",
       "      <td>3</td>\n",
       "      <td>0</td>\n",
       "      <td>3</td>\n",
       "      <td>1</td>\n",
       "      <td>1</td>\n",
       "      <td>2</td>\n",
       "      <td>1</td>\n",
       "      <td>1</td>\n",
       "      <td>0</td>\n",
       "    </tr>\n",
       "  </tbody>\n",
       "</table>\n",
       "</div>"
      ],
      "text/plain": [
       "           utm_campaign         utm_adcontent           utm_keyword  \\\n",
       "0  LEoPHuyFvzoNfnzGgfcd  vCIpmpaGBnIQhyYNkXqp  puhZPIYqKXeFPaUviSjo   \n",
       "1  FTjNLDyTrXaWYgZymFkV  xhoenQgDQsgfEPYNPwKO  IGUCNvHlhfHpROGclCit   \n",
       "2  LEoPHuyFvzoNfnzGgfcd  vCIpmpaGBnIQhyYNkXqp  puhZPIYqKXeFPaUviSjo   \n",
       "3               unknown  NOBKLgtuvqYWkXQHeYWM               unknown   \n",
       "4               unknown               unknown               unknown   \n",
       "\n",
       "  device_category device_os  target_event  cat_hour  cat_month  adv_soc_net  \\\n",
       "0          mobile   Android             0         4          3            0   \n",
       "1          mobile   Android             0         2          3            1   \n",
       "2          mobile   Android             0         1          4            0   \n",
       "3          mobile   Android             0         1          3            0   \n",
       "4          mobile   Android             0         1          3            0   \n",
       "\n",
       "   cat_source  utm_medium_type  cat_os  cat_device_brand  cat_browser  \\\n",
       "0           3                1       1                 2            1   \n",
       "1           2                1       1                 2            0   \n",
       "2           3                1       1                 2            1   \n",
       "3           3                1       1                 2            1   \n",
       "4           3                1       1                 2            1   \n",
       "\n",
       "   is_russia  cat_city  \n",
       "0          1         0  \n",
       "1          1         0  \n",
       "2          1         0  \n",
       "3          1         0  \n",
       "4          1         0  "
      ]
     },
     "execution_count": 24,
     "metadata": {},
     "output_type": "execute_result"
    }
   ],
   "source": [
    "res.head()"
   ]
  },
  {
   "cell_type": "code",
   "execution_count": null,
   "id": "54a76561",
   "metadata": {},
   "outputs": [],
   "source": []
  },
  {
   "cell_type": "code",
   "execution_count": null,
   "id": "7350c733",
   "metadata": {},
   "outputs": [],
   "source": []
  },
  {
   "cell_type": "code",
   "execution_count": 28,
   "id": "a6b19b59",
   "metadata": {},
   "outputs": [
    {
     "name": "stdout",
     "output_type": "stream",
     "text": [
      "Stored 'df_ohed' (DataFrame)\n"
     ]
    }
   ],
   "source": [
    "# res = res.sample(frac=1).reset_index(drop=True)\n",
    "res = res.sample(n=200000).reset_index(drop=True)\n",
    "\n",
    "cols_for_ohe = ['utm_medium', 'utm_campaign', 'utm_adcontent', 'device_category', 'device_os']\n",
    "\n",
    "ohe = OneHotEncoder(sparse=False)\n",
    "\n",
    "ohe.fit(res[cols_for_ohe])\n",
    "transformed = ohe.transform(res[cols_for_ohe])\n",
    "res[ohe.get_feature_names_out()] = transformed\n",
    "df_ohed = res.drop(cols_for_ohe, axis=1)\n",
    "\n",
    "%store df_ohed"
   ]
  },
  {
   "cell_type": "code",
   "execution_count": null,
   "id": "7945b9e8",
   "metadata": {},
   "outputs": [],
   "source": []
  }
 ],
 "metadata": {
  "kernelspec": {
   "display_name": "Python 3 (ipykernel)",
   "language": "python",
   "name": "python3"
  },
  "language_info": {
   "codemirror_mode": {
    "name": "ipython",
    "version": 3
   },
   "file_extension": ".py",
   "mimetype": "text/x-python",
   "name": "python",
   "nbconvert_exporter": "python",
   "pygments_lexer": "ipython3",
   "version": "3.10.10"
  }
 },
 "nbformat": 4,
 "nbformat_minor": 5
}
